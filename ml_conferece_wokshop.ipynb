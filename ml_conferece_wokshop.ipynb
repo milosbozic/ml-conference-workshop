{
  "nbformat": 4,
  "nbformat_minor": 0,
  "metadata": {
    "colab": {
      "name": "ml-conferece_wokshop.ipynb",
      "version": "0.3.2",
      "provenance": [],
      "collapsed_sections": [],
      "include_colab_link": true
    },
    "kernelspec": {
      "name": "python3",
      "display_name": "Python 3"
    },
    "accelerator": "GPU"
  },
  "cells": [
    {
      "cell_type": "markdown",
      "metadata": {
        "id": "view-in-github",
        "colab_type": "text"
      },
      "source": [
        "<a href=\"https://colab.research.google.com/github/milosbozic/ml-conference-workshop/blob/master/ml_conferece_wokshop.ipynb\" target=\"_parent\"><img src=\"https://colab.research.google.com/assets/colab-badge.svg\" alt=\"Open In Colab\"/></a>"
      ]
    },
    {
      "cell_type": "markdown",
      "metadata": {
        "id": "eOT_L1hYbs36",
        "colab_type": "text"
      },
      "source": [
        "# SETUP\n",
        "\n",
        "To activate GPU device, go to **Runtime** -> **Change runtime type**  and in popup window under **Hardware accelerator** drop menu select GPU device and save.  \n",
        "To check is GPU device avaible, run code below."
      ]
    },
    {
      "cell_type": "code",
      "metadata": {
        "id": "M2DCibYHa1FN",
        "colab_type": "code",
        "outputId": "2976d24e-b748-4359-8d0b-c599ef2c9cd3",
        "colab": {
          "base_uri": "https://localhost:8080/",
          "height": 34
        }
      },
      "source": [
        "import tensorflow as tf\n",
        "tf.test.gpu_device_name()"
      ],
      "execution_count": 1,
      "outputs": [
        {
          "output_type": "execute_result",
          "data": {
            "text/plain": [
              "'/device:GPU:0'"
            ]
          },
          "metadata": {
            "tags": []
          },
          "execution_count": 1
        }
      ]
    },
    {
      "cell_type": "markdown",
      "metadata": {
        "id": "rJN15zRYh1ve",
        "colab_type": "text"
      },
      "source": [
        "Check what they gave us for free :)"
      ]
    },
    {
      "cell_type": "code",
      "metadata": {
        "id": "cYCKZ9mUh3Lh",
        "colab_type": "code",
        "outputId": "9d472a41-5de8-41ee-db54-4fe767d6d84e",
        "colab": {
          "base_uri": "https://localhost:8080/",
          "height": 289
        }
      },
      "source": [
        "! nvidia-smi"
      ],
      "execution_count": 2,
      "outputs": [
        {
          "output_type": "stream",
          "text": [
            "Tue May 14 08:38:20 2019       \n",
            "+-----------------------------------------------------------------------------+\n",
            "| NVIDIA-SMI 418.56       Driver Version: 410.79       CUDA Version: 10.0     |\n",
            "|-------------------------------+----------------------+----------------------+\n",
            "| GPU  Name        Persistence-M| Bus-Id        Disp.A | Volatile Uncorr. ECC |\n",
            "| Fan  Temp  Perf  Pwr:Usage/Cap|         Memory-Usage | GPU-Util  Compute M. |\n",
            "|===============================+======================+======================|\n",
            "|   0  Tesla T4            Off  | 00000000:00:04.0 Off |                    0 |\n",
            "| N/A   67C    P0    31W /  70W |    221MiB / 15079MiB |      2%      Default |\n",
            "+-------------------------------+----------------------+----------------------+\n",
            "                                                                               \n",
            "+-----------------------------------------------------------------------------+\n",
            "| Processes:                                                       GPU Memory |\n",
            "|  GPU       PID   Type   Process name                             Usage      |\n",
            "|=============================================================================|\n",
            "+-----------------------------------------------------------------------------+\n"
          ],
          "name": "stdout"
        }
      ]
    },
    {
      "cell_type": "markdown",
      "metadata": {
        "id": "75t39iP01vOZ",
        "colab_type": "text"
      },
      "source": [
        "# Data "
      ]
    },
    {
      "cell_type": "markdown",
      "metadata": {
        "id": "ZshCr0SgeaK9",
        "colab_type": "text"
      },
      "source": [
        "## Load and clean data\n",
        "\n",
        "Data set which we will use is [Individual household electric power consumption Data Set](https://archive.ics.uci.edu/ml/datasets/individual+household+electric+power+consumption) .  \n",
        "We have to get data and we can download our dataset and unzip it using a couple of bash commands:"
      ]
    },
    {
      "cell_type": "code",
      "metadata": {
        "id": "2cqOJ8Qsblxk",
        "colab_type": "code",
        "outputId": "4e5dc068-7060-4b08-a30e-430a3b1757d9",
        "colab": {
          "base_uri": "https://localhost:8080/",
          "height": 238
        }
      },
      "source": [
        "! mkdir data && wget https://archive.ics.uci.edu/ml/machine-learning-databases/00235/household_power_consumption.zip && unzip household_power_consumption.zip -d data/"
      ],
      "execution_count": 3,
      "outputs": [
        {
          "output_type": "stream",
          "text": [
            "--2019-05-14 08:38:22--  https://archive.ics.uci.edu/ml/machine-learning-databases/00235/household_power_consumption.zip\n",
            "Resolving archive.ics.uci.edu (archive.ics.uci.edu)... 128.195.10.252\n",
            "Connecting to archive.ics.uci.edu (archive.ics.uci.edu)|128.195.10.252|:443... connected.\n",
            "HTTP request sent, awaiting response... 200 OK\n",
            "Length: 20640916 (20M) [application/x-httpd-php]\n",
            "Saving to: ‘household_power_consumption.zip’\n",
            "\n",
            "household_power_con 100%[===================>]  19.68M  36.4MB/s    in 0.5s    \n",
            "\n",
            "2019-05-14 08:38:23 (36.4 MB/s) - ‘household_power_consumption.zip’ saved [20640916/20640916]\n",
            "\n",
            "Archive:  household_power_consumption.zip\n",
            "  inflating: data/household_power_consumption.txt  \n"
          ],
          "name": "stdout"
        }
      ]
    },
    {
      "cell_type": "markdown",
      "metadata": {
        "id": "L1ig3HnXgUSm",
        "colab_type": "text"
      },
      "source": [
        "Check is file downloaded and unziped. List folder content:"
      ]
    },
    {
      "cell_type": "code",
      "metadata": {
        "id": "Iq4KjSNeer4C",
        "colab_type": "code",
        "outputId": "bfdec37a-65c6-410b-dae0-cea5fc240198",
        "colab": {
          "base_uri": "https://localhost:8080/",
          "height": 204
        }
      },
      "source": [
        "! ls data/\n",
        "! head data/household_power_consumption.txt"
      ],
      "execution_count": 4,
      "outputs": [
        {
          "output_type": "stream",
          "text": [
            "household_power_consumption.txt\n",
            "Date;Time;Global_active_power;Global_reactive_power;Voltage;Global_intensity;Sub_metering_1;Sub_metering_2;Sub_metering_3\n",
            "16/12/2006;17:24:00;4.216;0.418;234.840;18.400;0.000;1.000;17.000\n",
            "16/12/2006;17:25:00;5.360;0.436;233.630;23.000;0.000;1.000;16.000\n",
            "16/12/2006;17:26:00;5.374;0.498;233.290;23.000;0.000;2.000;17.000\n",
            "16/12/2006;17:27:00;5.388;0.502;233.740;23.000;0.000;1.000;17.000\n",
            "16/12/2006;17:28:00;3.666;0.528;235.680;15.800;0.000;1.000;17.000\n",
            "16/12/2006;17:29:00;3.520;0.522;235.020;15.000;0.000;2.000;17.000\n",
            "16/12/2006;17:30:00;3.702;0.520;235.090;15.800;0.000;1.000;17.000\n",
            "16/12/2006;17:31:00;3.700;0.520;235.220;15.800;0.000;1.000;17.000\n",
            "16/12/2006;17:32:00;3.668;0.510;233.990;15.800;0.000;1.000;17.000\n"
          ],
          "name": "stdout"
        }
      ]
    },
    {
      "cell_type": "markdown",
      "metadata": {
        "id": "l10ZVgyQghda",
        "colab_type": "text"
      },
      "source": [
        "When we have out data set local we can import it using pandas. "
      ]
    },
    {
      "cell_type": "code",
      "metadata": {
        "id": "pJysWck_jxHT",
        "colab_type": "code",
        "outputId": "7fa4dffd-1d3a-4c3b-a36a-9409cde8493c",
        "colab": {
          "base_uri": "https://localhost:8080/",
          "height": 71
        }
      },
      "source": [
        "import pandas as pd\n",
        "\n",
        "data = pd.read_csv('data/household_power_consumption.txt', sep=';', header=0, low_memory=False, infer_datetime_format=True, parse_dates={'datetime':[0,1]}, index_col=['datetime'])\n",
        "#print(data.head())\n",
        "heder = list(data)\n",
        "print(heder)\n",
        "print(data.shape)\n"
      ],
      "execution_count": 5,
      "outputs": [
        {
          "output_type": "stream",
          "text": [
            "['Global_active_power', 'Global_reactive_power', 'Voltage', 'Global_intensity', 'Sub_metering_1', 'Sub_metering_2', 'Sub_metering_3']\n",
            "(2075259, 7)\n"
          ],
          "name": "stdout"
        }
      ]
    },
    {
      "cell_type": "markdown",
      "metadata": {
        "id": "BN0Mf10Pw0xf",
        "colab_type": "text"
      },
      "source": [
        "Now let's check is there any non numeric or missing values  and how many."
      ]
    },
    {
      "cell_type": "code",
      "metadata": {
        "id": "6w5yf3ERxG87",
        "colab_type": "code",
        "outputId": "ce9667c0-fd6e-4ded-f506-f307d90a16cb",
        "colab": {
          "base_uri": "https://localhost:8080/",
          "height": 153
        }
      },
      "source": [
        "print(data.isnull().sum())"
      ],
      "execution_count": 6,
      "outputs": [
        {
          "output_type": "stream",
          "text": [
            "Global_active_power          0\n",
            "Global_reactive_power        0\n",
            "Voltage                      0\n",
            "Global_intensity             0\n",
            "Sub_metering_1               0\n",
            "Sub_metering_2               0\n",
            "Sub_metering_3           25979\n",
            "dtype: int64\n"
          ],
          "name": "stdout"
        }
      ]
    },
    {
      "cell_type": "markdown",
      "metadata": {
        "id": "m93tiqf_0J1y",
        "colab_type": "text"
      },
      "source": [
        "On this way we can only check are Nan values in data frame, but because we didn't set NaN values string array in read_csv method, initialy we can only catch default NaN strings like \"nan\", \"Nan\", but not others strings like \"?\" or \"-\""
      ]
    },
    {
      "cell_type": "code",
      "metadata": {
        "id": "AjYEmT-o0Iwy",
        "colab_type": "code",
        "outputId": "2b4d2124-7f6c-4887-f52f-7bff7c9ee2ca",
        "colab": {
          "base_uri": "https://localhost:8080/",
          "height": 153
        }
      },
      "source": [
        "#data.apply(pd.to_numeric)\n",
        "missing_values = [\"?\"]\n",
        "data = pd.read_csv('data/household_power_consumption.txt', sep=';', header=0, low_memory=False, infer_datetime_format=True, parse_dates={'datetime':[0,1]}, index_col=['datetime'], na_values = missing_values)\n",
        "data = data.astype('float32')\n",
        "print(data.isnull().sum())"
      ],
      "execution_count": 7,
      "outputs": [
        {
          "output_type": "stream",
          "text": [
            "Global_active_power      25979\n",
            "Global_reactive_power    25979\n",
            "Voltage                  25979\n",
            "Global_intensity         25979\n",
            "Sub_metering_1           25979\n",
            "Sub_metering_2           25979\n",
            "Sub_metering_3           25979\n",
            "dtype: int64\n"
          ],
          "name": "stdout"
        }
      ]
    },
    {
      "cell_type": "markdown",
      "metadata": {
        "id": "rCHEPWCnA9DU",
        "colab_type": "text"
      },
      "source": [
        "When we find all missing values and mark them as NaN, let's fill them somehow."
      ]
    },
    {
      "cell_type": "code",
      "metadata": {
        "id": "pE47lroO9t4P",
        "colab_type": "code",
        "outputId": "155df09b-3af1-41a4-d2da-6e3e2484967f",
        "colab": {
          "base_uri": "https://localhost:8080/",
          "height": 153
        }
      },
      "source": [
        "import numpy as np\n",
        "\n",
        "def fill_NaN(values, hist):\n",
        "  one_day = 60 * 24\n",
        "  for row in range(values.shape[0]):\n",
        "    for col in range(values.shape[1]):\n",
        "      if np.isnan(values[row, col]):\n",
        "        hist_values = []\n",
        "        for k in range(1, hist+1):\n",
        "          hist_values.append(values[row - one_day*k, col])\n",
        "        values[row, col] = np.array(hist_values).mean()\n",
        " \n",
        "# fill missing\n",
        "fill_NaN(data.values, 2)\n",
        "\n",
        "# Check again is there missing values\n",
        "print(data.isnull().sum())"
      ],
      "execution_count": 8,
      "outputs": [
        {
          "output_type": "stream",
          "text": [
            "Global_active_power      0\n",
            "Global_reactive_power    0\n",
            "Voltage                  0\n",
            "Global_intensity         0\n",
            "Sub_metering_1           0\n",
            "Sub_metering_2           0\n",
            "Sub_metering_3           0\n",
            "dtype: int64\n"
          ],
          "name": "stdout"
        }
      ]
    },
    {
      "cell_type": "markdown",
      "metadata": {
        "id": "cquz9O6MECDN",
        "colab_type": "text"
      },
      "source": [
        "## Prepare data for modeling"
      ]
    },
    {
      "cell_type": "code",
      "metadata": {
        "id": "ji3zEs4orfhN",
        "colab_type": "code",
        "outputId": "b213df29-5cc9-4790-d395-76ba1445fae1",
        "colab": {
          "base_uri": "https://localhost:8080/",
          "height": 320
        }
      },
      "source": [
        "data.head()"
      ],
      "execution_count": 9,
      "outputs": [
        {
          "output_type": "execute_result",
          "data": {
            "text/html": [
              "<div>\n",
              "<style scoped>\n",
              "    .dataframe tbody tr th:only-of-type {\n",
              "        vertical-align: middle;\n",
              "    }\n",
              "\n",
              "    .dataframe tbody tr th {\n",
              "        vertical-align: top;\n",
              "    }\n",
              "\n",
              "    .dataframe thead th {\n",
              "        text-align: right;\n",
              "    }\n",
              "</style>\n",
              "<table border=\"1\" class=\"dataframe\">\n",
              "  <thead>\n",
              "    <tr style=\"text-align: right;\">\n",
              "      <th></th>\n",
              "      <th>Global_active_power</th>\n",
              "      <th>Global_reactive_power</th>\n",
              "      <th>Voltage</th>\n",
              "      <th>Global_intensity</th>\n",
              "      <th>Sub_metering_1</th>\n",
              "      <th>Sub_metering_2</th>\n",
              "      <th>Sub_metering_3</th>\n",
              "    </tr>\n",
              "    <tr>\n",
              "      <th>datetime</th>\n",
              "      <th></th>\n",
              "      <th></th>\n",
              "      <th></th>\n",
              "      <th></th>\n",
              "      <th></th>\n",
              "      <th></th>\n",
              "      <th></th>\n",
              "    </tr>\n",
              "  </thead>\n",
              "  <tbody>\n",
              "    <tr>\n",
              "      <th>2006-12-16 17:24:00</th>\n",
              "      <td>4.216</td>\n",
              "      <td>0.418</td>\n",
              "      <td>234.839996</td>\n",
              "      <td>18.4</td>\n",
              "      <td>0.0</td>\n",
              "      <td>1.0</td>\n",
              "      <td>17.0</td>\n",
              "    </tr>\n",
              "    <tr>\n",
              "      <th>2006-12-16 17:25:00</th>\n",
              "      <td>5.360</td>\n",
              "      <td>0.436</td>\n",
              "      <td>233.630005</td>\n",
              "      <td>23.0</td>\n",
              "      <td>0.0</td>\n",
              "      <td>1.0</td>\n",
              "      <td>16.0</td>\n",
              "    </tr>\n",
              "    <tr>\n",
              "      <th>2006-12-16 17:26:00</th>\n",
              "      <td>5.374</td>\n",
              "      <td>0.498</td>\n",
              "      <td>233.289993</td>\n",
              "      <td>23.0</td>\n",
              "      <td>0.0</td>\n",
              "      <td>2.0</td>\n",
              "      <td>17.0</td>\n",
              "    </tr>\n",
              "    <tr>\n",
              "      <th>2006-12-16 17:27:00</th>\n",
              "      <td>5.388</td>\n",
              "      <td>0.502</td>\n",
              "      <td>233.740005</td>\n",
              "      <td>23.0</td>\n",
              "      <td>0.0</td>\n",
              "      <td>1.0</td>\n",
              "      <td>17.0</td>\n",
              "    </tr>\n",
              "    <tr>\n",
              "      <th>2006-12-16 17:28:00</th>\n",
              "      <td>3.666</td>\n",
              "      <td>0.528</td>\n",
              "      <td>235.679993</td>\n",
              "      <td>15.8</td>\n",
              "      <td>0.0</td>\n",
              "      <td>1.0</td>\n",
              "      <td>17.0</td>\n",
              "    </tr>\n",
              "  </tbody>\n",
              "</table>\n",
              "</div>"
            ],
            "text/plain": [
              "                     Global_active_power  Global_reactive_power     Voltage  \\\n",
              "datetime                                                                      \n",
              "2006-12-16 17:24:00                4.216                  0.418  234.839996   \n",
              "2006-12-16 17:25:00                5.360                  0.436  233.630005   \n",
              "2006-12-16 17:26:00                5.374                  0.498  233.289993   \n",
              "2006-12-16 17:27:00                5.388                  0.502  233.740005   \n",
              "2006-12-16 17:28:00                3.666                  0.528  235.679993   \n",
              "\n",
              "                     Global_intensity  Sub_metering_1  Sub_metering_2  \\\n",
              "datetime                                                                \n",
              "2006-12-16 17:24:00              18.4             0.0             1.0   \n",
              "2006-12-16 17:25:00              23.0             0.0             1.0   \n",
              "2006-12-16 17:26:00              23.0             0.0             2.0   \n",
              "2006-12-16 17:27:00              23.0             0.0             1.0   \n",
              "2006-12-16 17:28:00              15.8             0.0             1.0   \n",
              "\n",
              "                     Sub_metering_3  \n",
              "datetime                             \n",
              "2006-12-16 17:24:00            17.0  \n",
              "2006-12-16 17:25:00            16.0  \n",
              "2006-12-16 17:26:00            17.0  \n",
              "2006-12-16 17:27:00            17.0  \n",
              "2006-12-16 17:28:00            17.0  "
            ]
          },
          "metadata": {
            "tags": []
          },
          "execution_count": 9
        }
      ]
    },
    {
      "cell_type": "markdown",
      "metadata": {
        "id": "1WCBZJa1rshR",
        "colab_type": "text"
      },
      "source": [
        "Our data is power consumption measured per minute frequency, but we are more interested in hourly or daily values. Because of that we have to resample data to get daily values and we can use pandas [***resample()***](https://pandas.pydata.org/pandas-docs/stable/reference/api/pandas.DataFrame.resample.html) function with appropriate argument to do it."
      ]
    },
    {
      "cell_type": "code",
      "metadata": {
        "id": "Kk4XiS2Krrcu",
        "colab_type": "code",
        "outputId": "950fd8a4-4f4e-457e-fec7-90deec850fda",
        "colab": {
          "base_uri": "https://localhost:8080/",
          "height": 235
        }
      },
      "source": [
        "data_daily = data.resample('D').mean()\n",
        "#data_daily.apply(pd.to_numeric)\n",
        "data_daily.head()"
      ],
      "execution_count": 10,
      "outputs": [
        {
          "output_type": "execute_result",
          "data": {
            "text/html": [
              "<div>\n",
              "<style scoped>\n",
              "    .dataframe tbody tr th:only-of-type {\n",
              "        vertical-align: middle;\n",
              "    }\n",
              "\n",
              "    .dataframe tbody tr th {\n",
              "        vertical-align: top;\n",
              "    }\n",
              "\n",
              "    .dataframe thead th {\n",
              "        text-align: right;\n",
              "    }\n",
              "</style>\n",
              "<table border=\"1\" class=\"dataframe\">\n",
              "  <thead>\n",
              "    <tr style=\"text-align: right;\">\n",
              "      <th></th>\n",
              "      <th>Global_active_power</th>\n",
              "      <th>Global_reactive_power</th>\n",
              "      <th>Voltage</th>\n",
              "      <th>Global_intensity</th>\n",
              "      <th>Sub_metering_1</th>\n",
              "      <th>Sub_metering_2</th>\n",
              "      <th>Sub_metering_3</th>\n",
              "    </tr>\n",
              "    <tr>\n",
              "      <th>datetime</th>\n",
              "      <th></th>\n",
              "      <th></th>\n",
              "      <th></th>\n",
              "      <th></th>\n",
              "      <th></th>\n",
              "      <th></th>\n",
              "      <th></th>\n",
              "    </tr>\n",
              "  </thead>\n",
              "  <tbody>\n",
              "    <tr>\n",
              "      <th>2006-12-16</th>\n",
              "      <td>3.053475</td>\n",
              "      <td>0.088187</td>\n",
              "      <td>236.243759</td>\n",
              "      <td>13.082829</td>\n",
              "      <td>0.000000</td>\n",
              "      <td>1.378788</td>\n",
              "      <td>12.439394</td>\n",
              "    </tr>\n",
              "    <tr>\n",
              "      <th>2006-12-17</th>\n",
              "      <td>2.354486</td>\n",
              "      <td>0.156949</td>\n",
              "      <td>240.087021</td>\n",
              "      <td>9.999028</td>\n",
              "      <td>1.411806</td>\n",
              "      <td>2.907639</td>\n",
              "      <td>9.264584</td>\n",
              "    </tr>\n",
              "    <tr>\n",
              "      <th>2006-12-18</th>\n",
              "      <td>1.530435</td>\n",
              "      <td>0.112356</td>\n",
              "      <td>241.231689</td>\n",
              "      <td>6.421667</td>\n",
              "      <td>0.738194</td>\n",
              "      <td>1.820139</td>\n",
              "      <td>9.734722</td>\n",
              "    </tr>\n",
              "    <tr>\n",
              "      <th>2006-12-19</th>\n",
              "      <td>1.157079</td>\n",
              "      <td>0.104821</td>\n",
              "      <td>241.999313</td>\n",
              "      <td>4.926389</td>\n",
              "      <td>0.582639</td>\n",
              "      <td>5.279167</td>\n",
              "      <td>4.303472</td>\n",
              "    </tr>\n",
              "    <tr>\n",
              "      <th>2006-12-20</th>\n",
              "      <td>1.545658</td>\n",
              "      <td>0.111804</td>\n",
              "      <td>242.308060</td>\n",
              "      <td>6.467361</td>\n",
              "      <td>0.000000</td>\n",
              "      <td>1.838889</td>\n",
              "      <td>9.765972</td>\n",
              "    </tr>\n",
              "  </tbody>\n",
              "</table>\n",
              "</div>"
            ],
            "text/plain": [
              "            Global_active_power  Global_reactive_power     Voltage  \\\n",
              "datetime                                                             \n",
              "2006-12-16             3.053475               0.088187  236.243759   \n",
              "2006-12-17             2.354486               0.156949  240.087021   \n",
              "2006-12-18             1.530435               0.112356  241.231689   \n",
              "2006-12-19             1.157079               0.104821  241.999313   \n",
              "2006-12-20             1.545658               0.111804  242.308060   \n",
              "\n",
              "            Global_intensity  Sub_metering_1  Sub_metering_2  Sub_metering_3  \n",
              "datetime                                                                      \n",
              "2006-12-16         13.082829        0.000000        1.378788       12.439394  \n",
              "2006-12-17          9.999028        1.411806        2.907639        9.264584  \n",
              "2006-12-18          6.421667        0.738194        1.820139        9.734722  \n",
              "2006-12-19          4.926389        0.582639        5.279167        4.303472  \n",
              "2006-12-20          6.467361        0.000000        1.838889        9.765972  "
            ]
          },
          "metadata": {
            "tags": []
          },
          "execution_count": 10
        }
      ]
    },
    {
      "cell_type": "markdown",
      "metadata": {
        "id": "8GbMyWFmw9q_",
        "colab_type": "text"
      },
      "source": [
        "Let's plot original data and our resampled data."
      ]
    },
    {
      "cell_type": "code",
      "metadata": {
        "id": "iB6aEfxFyNLD",
        "colab_type": "code",
        "outputId": "5dbcdc28-0647-4467-9f38-5c97975a60e3",
        "colab": {
          "base_uri": "https://localhost:8080/",
          "height": 464
        }
      },
      "source": [
        "import matplotlib.pyplot as plt\n",
        "\n",
        "fig, axes = plt.subplots(nrows=1, ncols=2, figsize=(22,6))\n",
        "data['Global_active_power'].tail(14*60*24).plot(ax=axes[0], subplots=True, x='time', y='active_power', legend=False)\n",
        "axes[0].set_title('Original data')\n",
        "data_daily['Global_active_power'].tail(14).plot(ax=axes[1], subplots=True, x='time', y='active_power', legend=False)\n",
        "axes[1].set_title('Daily resampled data')"
      ],
      "execution_count": 11,
      "outputs": [
        {
          "output_type": "execute_result",
          "data": {
            "text/plain": [
              "Text(0.5, 1.0, 'Daily resampled data')"
            ]
          },
          "metadata": {
            "tags": []
          },
          "execution_count": 11
        },
        {
          "output_type": "display_data",
          "data": {
            "image/png": "[encoded data removed]",
            "text/plain": [
              "<Figure size 1584x432 with 2 Axes>"
            ]
          },
          "metadata": {
            "tags": []
          }
        }
      ]
    },
    {
      "cell_type": "markdown",
      "metadata": {
        "id": "q20QKCqv2qdU",
        "colab_type": "text"
      },
      "source": [
        "Split resampled data to train and test subsets."
      ]
    },
    {
      "cell_type": "code",
      "metadata": {
        "id": "0K-hC3NC80Sj",
        "colab_type": "code",
        "outputId": "20c9cc15-2355-461b-8615-aaf7c8a0208f",
        "colab": {
          "base_uri": "https://localhost:8080/",
          "height": 235
        }
      },
      "source": [
        "data_daily.tail()\n"
      ],
      "execution_count": 12,
      "outputs": [
        {
          "output_type": "execute_result",
          "data": {
            "text/html": [
              "<div>\n",
              "<style scoped>\n",
              "    .dataframe tbody tr th:only-of-type {\n",
              "        vertical-align: middle;\n",
              "    }\n",
              "\n",
              "    .dataframe tbody tr th {\n",
              "        vertical-align: top;\n",
              "    }\n",
              "\n",
              "    .dataframe thead th {\n",
              "        text-align: right;\n",
              "    }\n",
              "</style>\n",
              "<table border=\"1\" class=\"dataframe\">\n",
              "  <thead>\n",
              "    <tr style=\"text-align: right;\">\n",
              "      <th></th>\n",
              "      <th>Global_active_power</th>\n",
              "      <th>Global_reactive_power</th>\n",
              "      <th>Voltage</th>\n",
              "      <th>Global_intensity</th>\n",
              "      <th>Sub_metering_1</th>\n",
              "      <th>Sub_metering_2</th>\n",
              "      <th>Sub_metering_3</th>\n",
              "    </tr>\n",
              "    <tr>\n",
              "      <th>datetime</th>\n",
              "      <th></th>\n",
              "      <th></th>\n",
              "      <th></th>\n",
              "      <th></th>\n",
              "      <th></th>\n",
              "      <th></th>\n",
              "      <th></th>\n",
              "    </tr>\n",
              "  </thead>\n",
              "  <tbody>\n",
              "    <tr>\n",
              "      <th>2010-11-22</th>\n",
              "      <td>1.417733</td>\n",
              "      <td>0.098857</td>\n",
              "      <td>240.197113</td>\n",
              "      <td>6.014167</td>\n",
              "      <td>3.371528</td>\n",
              "      <td>1.465278</td>\n",
              "      <td>7.038889</td>\n",
              "    </tr>\n",
              "    <tr>\n",
              "      <th>2010-11-23</th>\n",
              "      <td>1.095511</td>\n",
              "      <td>0.095451</td>\n",
              "      <td>240.575531</td>\n",
              "      <td>4.674445</td>\n",
              "      <td>1.299306</td>\n",
              "      <td>0.318056</td>\n",
              "      <td>5.285417</td>\n",
              "    </tr>\n",
              "    <tr>\n",
              "      <th>2010-11-24</th>\n",
              "      <td>1.247394</td>\n",
              "      <td>0.091986</td>\n",
              "      <td>240.030960</td>\n",
              "      <td>5.249583</td>\n",
              "      <td>0.761111</td>\n",
              "      <td>1.977778</td>\n",
              "      <td>8.488889</td>\n",
              "    </tr>\n",
              "    <tr>\n",
              "      <th>2010-11-25</th>\n",
              "      <td>0.993864</td>\n",
              "      <td>0.080644</td>\n",
              "      <td>241.536255</td>\n",
              "      <td>4.169445</td>\n",
              "      <td>0.747222</td>\n",
              "      <td>0.295833</td>\n",
              "      <td>3.522222</td>\n",
              "    </tr>\n",
              "    <tr>\n",
              "      <th>2010-11-26</th>\n",
              "      <td>1.178230</td>\n",
              "      <td>0.095666</td>\n",
              "      <td>240.291031</td>\n",
              "      <td>4.956295</td>\n",
              "      <td>0.855107</td>\n",
              "      <td>0.304830</td>\n",
              "      <td>7.908947</td>\n",
              "    </tr>\n",
              "  </tbody>\n",
              "</table>\n",
              "</div>"
            ],
            "text/plain": [
              "            Global_active_power  Global_reactive_power     Voltage  \\\n",
              "datetime                                                             \n",
              "2010-11-22             1.417733               0.098857  240.197113   \n",
              "2010-11-23             1.095511               0.095451  240.575531   \n",
              "2010-11-24             1.247394               0.091986  240.030960   \n",
              "2010-11-25             0.993864               0.080644  241.536255   \n",
              "2010-11-26             1.178230               0.095666  240.291031   \n",
              "\n",
              "            Global_intensity  Sub_metering_1  Sub_metering_2  Sub_metering_3  \n",
              "datetime                                                                      \n",
              "2010-11-22          6.014167        3.371528        1.465278        7.038889  \n",
              "2010-11-23          4.674445        1.299306        0.318056        5.285417  \n",
              "2010-11-24          5.249583        0.761111        1.977778        8.488889  \n",
              "2010-11-25          4.169445        0.747222        0.295833        3.522222  \n",
              "2010-11-26          4.956295        0.855107        0.304830        7.908947  "
            ]
          },
          "metadata": {
            "tags": []
          },
          "execution_count": 12
        }
      ]
    },
    {
      "cell_type": "code",
      "metadata": {
        "id": "djn4e89E9I_A",
        "colab_type": "code",
        "outputId": "6645465b-b9e9-42cd-d93c-afdb9eb611ab",
        "colab": {
          "base_uri": "https://localhost:8080/",
          "height": 204
        }
      },
      "source": [
        "train_start = '2006-12-16'\n",
        "train_end =   '2010-10-31'\n",
        "test_start = '2010-10-25'     #'2010-11-01'\n",
        "test_end = '2010-11-26'\n",
        "\n",
        "train_mask = pd.date_range(train_start, train_end, freq='D')\n",
        "test_mask = pd.date_range(test_start, test_end, freq='D')\n",
        "#print(train_mask)\n",
        "#print(test_mask)\n",
        "\n",
        "train = data_daily.loc[train_mask]\n",
        "test = data_daily.loc[test_mask]\n",
        "\n",
        "train.tail()"
      ],
      "execution_count": 13,
      "outputs": [
        {
          "output_type": "execute_result",
          "data": {
            "text/html": [
              "<div>\n",
              "<style scoped>\n",
              "    .dataframe tbody tr th:only-of-type {\n",
              "        vertical-align: middle;\n",
              "    }\n",
              "\n",
              "    .dataframe tbody tr th {\n",
              "        vertical-align: top;\n",
              "    }\n",
              "\n",
              "    .dataframe thead th {\n",
              "        text-align: right;\n",
              "    }\n",
              "</style>\n",
              "<table border=\"1\" class=\"dataframe\">\n",
              "  <thead>\n",
              "    <tr style=\"text-align: right;\">\n",
              "      <th></th>\n",
              "      <th>Global_active_power</th>\n",
              "      <th>Global_reactive_power</th>\n",
              "      <th>Voltage</th>\n",
              "      <th>Global_intensity</th>\n",
              "      <th>Sub_metering_1</th>\n",
              "      <th>Sub_metering_2</th>\n",
              "      <th>Sub_metering_3</th>\n",
              "    </tr>\n",
              "  </thead>\n",
              "  <tbody>\n",
              "    <tr>\n",
              "      <th>2010-10-27</th>\n",
              "      <td>0.875193</td>\n",
              "      <td>0.106828</td>\n",
              "      <td>246.108704</td>\n",
              "      <td>3.622917</td>\n",
              "      <td>0.000000</td>\n",
              "      <td>1.429167</td>\n",
              "      <td>5.742361</td>\n",
              "    </tr>\n",
              "    <tr>\n",
              "      <th>2010-10-28</th>\n",
              "      <td>1.016199</td>\n",
              "      <td>0.130028</td>\n",
              "      <td>246.253891</td>\n",
              "      <td>4.200139</td>\n",
              "      <td>0.765972</td>\n",
              "      <td>1.824306</td>\n",
              "      <td>6.310417</td>\n",
              "    </tr>\n",
              "    <tr>\n",
              "      <th>2010-10-29</th>\n",
              "      <td>0.836404</td>\n",
              "      <td>0.135917</td>\n",
              "      <td>245.743103</td>\n",
              "      <td>3.511945</td>\n",
              "      <td>0.746528</td>\n",
              "      <td>0.504167</td>\n",
              "      <td>2.715972</td>\n",
              "    </tr>\n",
              "    <tr>\n",
              "      <th>2010-10-30</th>\n",
              "      <td>1.494931</td>\n",
              "      <td>0.135639</td>\n",
              "      <td>243.267365</td>\n",
              "      <td>6.229028</td>\n",
              "      <td>1.634028</td>\n",
              "      <td>0.426389</td>\n",
              "      <td>10.627084</td>\n",
              "    </tr>\n",
              "    <tr>\n",
              "      <th>2010-10-31</th>\n",
              "      <td>1.025299</td>\n",
              "      <td>0.144501</td>\n",
              "      <td>245.495285</td>\n",
              "      <td>4.235139</td>\n",
              "      <td>0.993056</td>\n",
              "      <td>0.470833</td>\n",
              "      <td>3.881250</td>\n",
              "    </tr>\n",
              "  </tbody>\n",
              "</table>\n",
              "</div>"
            ],
            "text/plain": [
              "            Global_active_power  Global_reactive_power     Voltage  \\\n",
              "2010-10-27             0.875193               0.106828  246.108704   \n",
              "2010-10-28             1.016199               0.130028  246.253891   \n",
              "2010-10-29             0.836404               0.135917  245.743103   \n",
              "2010-10-30             1.494931               0.135639  243.267365   \n",
              "2010-10-31             1.025299               0.144501  245.495285   \n",
              "\n",
              "            Global_intensity  Sub_metering_1  Sub_metering_2  Sub_metering_3  \n",
              "2010-10-27          3.622917        0.000000        1.429167        5.742361  \n",
              "2010-10-28          4.200139        0.765972        1.824306        6.310417  \n",
              "2010-10-29          3.511945        0.746528        0.504167        2.715972  \n",
              "2010-10-30          6.229028        1.634028        0.426389       10.627084  \n",
              "2010-10-31          4.235139        0.993056        0.470833        3.881250  "
            ]
          },
          "metadata": {
            "tags": []
          },
          "execution_count": 13
        }
      ]
    },
    {
      "cell_type": "code",
      "metadata": {
        "id": "XXipyzXX_Wa-",
        "colab_type": "code",
        "outputId": "8ad6daf6-8565-40ad-97bd-2dc8c4305827",
        "colab": {
          "base_uri": "https://localhost:8080/",
          "height": 204
        }
      },
      "source": [
        "test.head()"
      ],
      "execution_count": 14,
      "outputs": [
        {
          "output_type": "execute_result",
          "data": {
            "text/html": [
              "<div>\n",
              "<style scoped>\n",
              "    .dataframe tbody tr th:only-of-type {\n",
              "        vertical-align: middle;\n",
              "    }\n",
              "\n",
              "    .dataframe tbody tr th {\n",
              "        vertical-align: top;\n",
              "    }\n",
              "\n",
              "    .dataframe thead th {\n",
              "        text-align: right;\n",
              "    }\n",
              "</style>\n",
              "<table border=\"1\" class=\"dataframe\">\n",
              "  <thead>\n",
              "    <tr style=\"text-align: right;\">\n",
              "      <th></th>\n",
              "      <th>Global_active_power</th>\n",
              "      <th>Global_reactive_power</th>\n",
              "      <th>Voltage</th>\n",
              "      <th>Global_intensity</th>\n",
              "      <th>Sub_metering_1</th>\n",
              "      <th>Sub_metering_2</th>\n",
              "      <th>Sub_metering_3</th>\n",
              "    </tr>\n",
              "  </thead>\n",
              "  <tbody>\n",
              "    <tr>\n",
              "      <th>2010-10-25</th>\n",
              "      <td>0.807842</td>\n",
              "      <td>0.110644</td>\n",
              "      <td>242.406158</td>\n",
              "      <td>3.392222</td>\n",
              "      <td>0.000000</td>\n",
              "      <td>0.375694</td>\n",
              "      <td>4.686111</td>\n",
              "    </tr>\n",
              "    <tr>\n",
              "      <th>2010-10-26</th>\n",
              "      <td>0.656878</td>\n",
              "      <td>0.120324</td>\n",
              "      <td>244.890961</td>\n",
              "      <td>2.750417</td>\n",
              "      <td>0.000000</td>\n",
              "      <td>1.727778</td>\n",
              "      <td>3.464583</td>\n",
              "    </tr>\n",
              "    <tr>\n",
              "      <th>2010-10-27</th>\n",
              "      <td>0.875193</td>\n",
              "      <td>0.106828</td>\n",
              "      <td>246.108704</td>\n",
              "      <td>3.622917</td>\n",
              "      <td>0.000000</td>\n",
              "      <td>1.429167</td>\n",
              "      <td>5.742361</td>\n",
              "    </tr>\n",
              "    <tr>\n",
              "      <th>2010-10-28</th>\n",
              "      <td>1.016199</td>\n",
              "      <td>0.130028</td>\n",
              "      <td>246.253891</td>\n",
              "      <td>4.200139</td>\n",
              "      <td>0.765972</td>\n",
              "      <td>1.824306</td>\n",
              "      <td>6.310417</td>\n",
              "    </tr>\n",
              "    <tr>\n",
              "      <th>2010-10-29</th>\n",
              "      <td>0.836404</td>\n",
              "      <td>0.135917</td>\n",
              "      <td>245.743103</td>\n",
              "      <td>3.511945</td>\n",
              "      <td>0.746528</td>\n",
              "      <td>0.504167</td>\n",
              "      <td>2.715972</td>\n",
              "    </tr>\n",
              "  </tbody>\n",
              "</table>\n",
              "</div>"
            ],
            "text/plain": [
              "            Global_active_power  Global_reactive_power     Voltage  \\\n",
              "2010-10-25             0.807842               0.110644  242.406158   \n",
              "2010-10-26             0.656878               0.120324  244.890961   \n",
              "2010-10-27             0.875193               0.106828  246.108704   \n",
              "2010-10-28             1.016199               0.130028  246.253891   \n",
              "2010-10-29             0.836404               0.135917  245.743103   \n",
              "\n",
              "            Global_intensity  Sub_metering_1  Sub_metering_2  Sub_metering_3  \n",
              "2010-10-25          3.392222        0.000000        0.375694        4.686111  \n",
              "2010-10-26          2.750417        0.000000        1.727778        3.464583  \n",
              "2010-10-27          3.622917        0.000000        1.429167        5.742361  \n",
              "2010-10-28          4.200139        0.765972        1.824306        6.310417  \n",
              "2010-10-29          3.511945        0.746528        0.504167        2.715972  "
            ]
          },
          "metadata": {
            "tags": []
          },
          "execution_count": 14
        }
      ]
    },
    {
      "cell_type": "markdown",
      "metadata": {
        "id": "Pslxqc1sAn_X",
        "colab_type": "text"
      },
      "source": [
        "# Modeling"
      ]
    },
    {
      "cell_type": "markdown",
      "metadata": {
        "id": "CRT2nkScBIks",
        "colab_type": "text"
      },
      "source": [
        "## Sequences sampling\n",
        "\n",
        "An LSTM model expects input data to have the shape:  [samples, timesteps, features]  "
      ]
    },
    {
      "cell_type": "markdown",
      "metadata": {
        "id": "ST8pFW3p0_3Q",
        "colab_type": "text"
      },
      "source": [
        "###Univariate sequences \n",
        "\n",
        "**Univariate with one or multi-steps time series**"
      ]
    },
    {
      "cell_type": "code",
      "metadata": {
        "id": "dHoRG_t2A3Yt",
        "colab_type": "code",
        "colab": {}
      },
      "source": [
        "# univariate sequence to input samples\n",
        "def univariate_split(sequence, timesteps, horizon):\n",
        "  X, y = list(), list()\n",
        "  for i in range(len(sequence)):\n",
        "    # find the end of this pattern\n",
        "    end_ix = i + timesteps\n",
        "    out_end_ix = end_ix + horizon\n",
        "    #check if we are beyond the sequence\n",
        "    if out_end_ix > len(sequence)-1:\n",
        "      break\n",
        "    # gather input and output parts of the pattern\n",
        "    seq_x, seq_y = sequence[i:end_ix], sequence[end_ix:out_end_ix]\n",
        "    X.append(seq_x)\n",
        "    y.append(seq_y)\n",
        "  return np.array(X), np.array(y)"
      ],
      "execution_count": 0,
      "outputs": []
    },
    {
      "cell_type": "markdown",
      "metadata": {
        "id": "Nqk2ym5eXbSi",
        "colab_type": "text"
      },
      "source": [
        "Let's test our function."
      ]
    },
    {
      "cell_type": "code",
      "metadata": {
        "id": "N-wtGvsGUxkb",
        "colab_type": "code",
        "outputId": "f9d35c67-2761-4d10-bf95-3ccb70858f7b",
        "colab": {
          "base_uri": "https://localhost:8080/",
          "height": 442
        }
      },
      "source": [
        "# make simple test sequence\n",
        "in_seq = np.arange(0, 200, 10)\n",
        "#print(raw_seq)\n",
        "\n",
        "# set a number of input time steps\n",
        "n_steps = 7\n",
        "# set a number of prediction steps\n",
        "n_out = 1\n",
        "\n",
        "# split into samples\n",
        "X, y = univariate_split(in_seq, n_steps, n_out)\n",
        "\n",
        "# print\n",
        "for i in range(len(X)):\n",
        "\tprint(X[i], y[i])\n",
        "\n",
        "print(X.shape, y.shape)"
      ],
      "execution_count": 43,
      "outputs": [
        {
          "output_type": "stream",
          "text": [
            "(1,)\n",
            "(1,)\n",
            "(1,)\n",
            "(1,)\n",
            "(1,)\n",
            "(1,)\n",
            "(1,)\n",
            "(1,)\n",
            "(1,)\n",
            "(1,)\n",
            "(1,)\n",
            "(1,)\n",
            "[ 0 10 20 30 40 50 60] [70]\n",
            "[10 20 30 40 50 60 70] [80]\n",
            "[20 30 40 50 60 70 80] [90]\n",
            "[30 40 50 60 70 80 90] [100]\n",
            "[ 40  50  60  70  80  90 100] [110]\n",
            "[ 50  60  70  80  90 100 110] [120]\n",
            "[ 60  70  80  90 100 110 120] [130]\n",
            "[ 70  80  90 100 110 120 130] [140]\n",
            "[ 80  90 100 110 120 130 140] [150]\n",
            "[ 90 100 110 120 130 140 150] [160]\n",
            "[100 110 120 130 140 150 160] [170]\n",
            "[110 120 130 140 150 160 170] [180]\n",
            "(12, 7) (12, 1)\n"
          ],
          "name": "stdout"
        }
      ]
    },
    {
      "cell_type": "markdown",
      "metadata": {
        "id": "WBXqcZTga5me",
        "colab_type": "text"
      },
      "source": [
        "### Multivariate sequences\n",
        "\n",
        "* **Multiple input with one or multi-step output time series**"
      ]
    },
    {
      "cell_type": "code",
      "metadata": {
        "id": "L6d0drkgbUig",
        "colab_type": "code",
        "colab": {}
      },
      "source": [
        "# multivariate sequence into samples\n",
        "def multivariate_split(sequences, timesteps, horizon):\n",
        "  X, y = list(), list()\n",
        "  for i in range(len(sequences)):\n",
        "    # find the end of this pattern\n",
        "    end_ix = i + timesteps\n",
        "    out_end_ix = end_ix + horizon #- 1\n",
        "    # check if we are beyond the dataset\n",
        "    if out_end_ix > len(sequences):\n",
        "      break\n",
        "    # gather input and output parts of the pattern\n",
        "    seq_x, seq_y = sequences[i:end_ix, :-1], sequences[end_ix:out_end_ix, -1]\n",
        "    X.append(seq_x)\n",
        "    y.append(seq_y)\n",
        "  return np.array(X), np.array(y)"
      ],
      "execution_count": 0,
      "outputs": []
    },
    {
      "cell_type": "markdown",
      "metadata": {
        "id": "XFlwCtqJpUFv",
        "colab_type": "text"
      },
      "source": [
        "Test function"
      ]
    },
    {
      "cell_type": "code",
      "metadata": {
        "id": "lXeauVIhcH57",
        "colab_type": "code",
        "outputId": "e00ce023-4a23-4a0e-c609-bba2e6920ce0",
        "colab": {
          "base_uri": "https://localhost:8080/",
          "height": 391
        }
      },
      "source": [
        "in_seq1 = np.arange(0, 100, 10)\n",
        "in_seq2 = np.arange(5, 100, 10)\n",
        "out_seq = np.array([in_seq1[i]+in_seq2[i] for i in range(len(in_seq1))])\n",
        "# convert to [rows, columns] structure\n",
        "in_seq1 = in_seq1.reshape((len(in_seq1), 1))\n",
        "in_seq2 = in_seq2.reshape((len(in_seq2), 1))\n",
        "out_seq = out_seq.reshape((len(out_seq), 1))\n",
        "# horizontally stack columns\n",
        "dataset = np.hstack((in_seq1, in_seq2, out_seq))\n",
        "\n",
        "#print(dataset)\n",
        "\n",
        "# set a number of time steps\n",
        "n_steps = 7\n",
        "n_out = 1\n",
        "\n",
        "# split into samples\n",
        "X, y = multivariate_split(dataset, n_steps, n_out)\n",
        "\n",
        "# print\n",
        "for i in range(len(X)):\n",
        "\tprint(X[i], y[i])\n",
        "\n",
        "print(X.shape, y.shape)"
      ],
      "execution_count": 56,
      "outputs": [
        {
          "output_type": "stream",
          "text": [
            "[[ 0  5]\n",
            " [10 15]\n",
            " [20 25]\n",
            " [30 35]\n",
            " [40 45]\n",
            " [50 55]\n",
            " [60 65]] [145]\n",
            "[[10 15]\n",
            " [20 25]\n",
            " [30 35]\n",
            " [40 45]\n",
            " [50 55]\n",
            " [60 65]\n",
            " [70 75]] [165]\n",
            "[[20 25]\n",
            " [30 35]\n",
            " [40 45]\n",
            " [50 55]\n",
            " [60 65]\n",
            " [70 75]\n",
            " [80 85]] [185]\n",
            "(3, 7, 2) (3, 1)\n"
          ],
          "name": "stdout"
        }
      ]
    },
    {
      "cell_type": "markdown",
      "metadata": {
        "id": "V7if2v_OjKMR",
        "colab_type": "text"
      },
      "source": [
        "* **Multiple parallel with one or multi-step output time series** "
      ]
    },
    {
      "cell_type": "code",
      "metadata": {
        "id": "1ZlTzvKujc4I",
        "colab_type": "code",
        "colab": {}
      },
      "source": [
        "def multivariate_parallel_split(sequences, timesteps, horizon):\n",
        "  X, y = list(), list()\n",
        "  for i in range(len(sequences)):\n",
        "    # find the end of this pattern\n",
        "    end_ix = i + timesteps\n",
        "    out_end_ix = end_ix + horizon\n",
        "\t\t# check if we are beyond the dataset\n",
        "    if out_end_ix > len(sequences)-1:\n",
        "      break\n",
        "\t\t# gather input and output parts of the pattern\n",
        "    seq_x, seq_y = sequences[i:end_ix, :], sequences[end_ix:out_end_ix, :]\n",
        "    X.append(seq_x)\n",
        "    y.append(seq_y)\n",
        "  return np.array(X), np.array(y)"
      ],
      "execution_count": 0,
      "outputs": []
    },
    {
      "cell_type": "markdown",
      "metadata": {
        "id": "qQfDn6eGo_fr",
        "colab_type": "text"
      },
      "source": [
        "Test function"
      ]
    },
    {
      "cell_type": "code",
      "metadata": {
        "id": "bLkBcEcLn3Tz",
        "colab_type": "code",
        "outputId": "663a5bbe-3bfa-4188-9b62-fb14241859d0",
        "colab": {
          "base_uri": "https://localhost:8080/",
          "height": 357
        }
      },
      "source": [
        "in_seq1 = np.arange(0, 100, 10)\n",
        "in_seq2 = np.arange(5, 100, 10)\n",
        "out_seq = np.array([in_seq1[i]+in_seq2[i] for i in range(len(in_seq1))])\n",
        "# convert to [rows, columns] structure\n",
        "in_seq1 = in_seq1.reshape((len(in_seq1), 1))\n",
        "in_seq2 = in_seq2.reshape((len(in_seq2), 1))\n",
        "out_seq = out_seq.reshape((len(out_seq), 1))\n",
        "# horizontally stack columns\n",
        "dataset = np.hstack((in_seq1, in_seq2, out_seq))\n",
        "\n",
        "#print(dataset)\n",
        "\n",
        "# set a number of time steps\n",
        "n_steps = 3\n",
        "n_out = 2\n",
        "\n",
        "X, y = multivariate_parallel_split(dataset, n_steps, n_out)\n",
        "\n",
        "for i in range(len(X)):\n",
        "\tprint(X[i], y[i])"
      ],
      "execution_count": 20,
      "outputs": [
        {
          "output_type": "stream",
          "text": [
            "[[ 0  5  5]\n",
            " [10 15 25]\n",
            " [20 25 45]] [[30 35 65]\n",
            " [40 45 85]]\n",
            "[[10 15 25]\n",
            " [20 25 45]\n",
            " [30 35 65]] [[ 40  45  85]\n",
            " [ 50  55 105]]\n",
            "[[20 25 45]\n",
            " [30 35 65]\n",
            " [40 45 85]] [[ 50  55 105]\n",
            " [ 60  65 125]]\n",
            "[[ 30  35  65]\n",
            " [ 40  45  85]\n",
            " [ 50  55 105]] [[ 60  65 125]\n",
            " [ 70  75 145]]\n",
            "[[ 40  45  85]\n",
            " [ 50  55 105]\n",
            " [ 60  65 125]] [[ 70  75 145]\n",
            " [ 80  85 165]]\n"
          ],
          "name": "stdout"
        }
      ]
    },
    {
      "cell_type": "markdown",
      "metadata": {
        "id": "Nmc9tgeK0Vz4",
        "colab_type": "text"
      },
      "source": [
        "## Build LSTM models"
      ]
    },
    {
      "cell_type": "markdown",
      "metadata": {
        "id": "evrHS2PU1Wnh",
        "colab_type": "text"
      },
      "source": [
        "### Univariate sequences\n",
        "\n",
        "Make input sequence for model, let's predict active power consumption."
      ]
    },
    {
      "cell_type": "code",
      "metadata": {
        "id": "NunkGxq-1ZkW",
        "colab_type": "code",
        "colab": {}
      },
      "source": [
        "seq = train['Global_active_power'].values\n",
        "\n",
        "timesteps = 7\n",
        "horizon = 1\n",
        "\n",
        "X, y = univariate_split(seq, timesteps, horizon)\n",
        "\n",
        "# reshape from [samples, timesteps] -> [samples, timesteps, features]\n",
        "n_features = 1\n",
        "\n",
        "X = X.reshape((X.shape[0], X.shape[1], n_features))\n"
      ],
      "execution_count": 0,
      "outputs": []
    },
    {
      "cell_type": "markdown",
      "metadata": {
        "id": "0gvLZnL50vj7",
        "colab_type": "text"
      },
      "source": [
        "#### Build  and train the simple (vanilla) LSTM model"
      ]
    },
    {
      "cell_type": "code",
      "metadata": {
        "id": "CpYy6FR8F449",
        "colab_type": "code",
        "outputId": "cb998cb5-24fa-43f1-fd5b-0f7be4daa8a8",
        "colab": {
          "base_uri": "https://localhost:8080/",
          "height": 394
        }
      },
      "source": [
        "import tensorflow as tf\n",
        "\n",
        "model = tf.keras.Sequential([\n",
        "    tf.keras.layers.LSTM(200, activation='relu', input_shape=(timesteps, n_features)),\n",
        "    #tf.keras.layers.Dense(100, activation='relu'),  # Additional dense layer helps\n",
        "    tf.keras.layers.Dense(1)\n",
        "])\n",
        "\n",
        "model.summary()\n",
        "\n",
        "model.compile(optimizer='adam', loss=tf.keras.losses.MeanSquaredError())\n",
        "\n",
        "model.fit(X, y, epochs=100, verbose=0)"
      ],
      "execution_count": 22,
      "outputs": [
        {
          "output_type": "stream",
          "text": [
            "WARNING:tensorflow:From /usr/local/lib/python3.6/dist-packages/tensorflow/python/ops/resource_variable_ops.py:435: colocate_with (from tensorflow.python.framework.ops) is deprecated and will be removed in a future version.\n",
            "Instructions for updating:\n",
            "Colocations handled automatically by placer.\n",
            "_________________________________________________________________\n",
            "Layer (type)                 Output Shape              Param #   \n",
            "=================================================================\n",
            "lstm (LSTM)                  (None, 200)               161600    \n",
            "_________________________________________________________________\n",
            "dense (Dense)                (None, 1)                 201       \n",
            "=================================================================\n",
            "Total params: 161,801\n",
            "Trainable params: 161,801\n",
            "Non-trainable params: 0\n",
            "_________________________________________________________________\n",
            "WARNING:tensorflow:From /usr/local/lib/python3.6/dist-packages/tensorflow/python/keras/utils/losses_utils.py:170: to_float (from tensorflow.python.ops.math_ops) is deprecated and will be removed in a future version.\n",
            "Instructions for updating:\n",
            "Use tf.cast instead.\n",
            "WARNING:tensorflow:From /usr/local/lib/python3.6/dist-packages/tensorflow/python/ops/math_ops.py:3066: to_int32 (from tensorflow.python.ops.math_ops) is deprecated and will be removed in a future version.\n",
            "Instructions for updating:\n",
            "Use tf.cast instead.\n"
          ],
          "name": "stdout"
        },
        {
          "output_type": "execute_result",
          "data": {
            "text/plain": [
              "<tensorflow.python.keras.callbacks.History at 0x7f442b86d550>"
            ]
          },
          "metadata": {
            "tags": []
          },
          "execution_count": 22
        }
      ]
    },
    {
      "cell_type": "markdown",
      "metadata": {
        "id": "9_D_1qsQGNDs",
        "colab_type": "text"
      },
      "source": [
        "Test model"
      ]
    },
    {
      "cell_type": "code",
      "metadata": {
        "id": "4C05AcT3GQ7j",
        "colab_type": "code",
        "outputId": "0b048e1d-8158-4c67-c810-fc8f03c32aed",
        "colab": {
          "base_uri": "https://localhost:8080/",
          "height": 429
        }
      },
      "source": [
        "test_seq = test['Global_active_power'].values\n",
        "# We are doing prediction one step ahead and we can generate test sequence using same function as we used for traing sequence \n",
        "x_test, y_test = univariate_split(test_seq, timesteps, horizon)\n",
        "\n",
        "x_test = x_test.reshape((x_test.shape[0], timesteps, n_features))\n",
        "yhat = model.predict(x_test, verbose=0)\n",
        "\n",
        "plt.figure(figsize=(12,6))\n",
        "plt.plot(y_test, 'r', marker='o')\n",
        "plt.plot(yhat, 'b', marker='o')\n",
        "plt.ylabel('Active power [kW] ')\n",
        "plt.show()\n",
        "\n",
        "from sklearn.metrics import mean_absolute_error, mean_squared_error\n",
        "\n",
        "# MAPE implementation\n",
        "def MAPE(y_true, y_pred): \n",
        "    return np.mean(np.abs((y_true - y_pred) / y_true)) * 100\n",
        "\n",
        "# Calc errors\n",
        "print('MAE = {}'.format(mean_absolute_error(y_test, yhat)))\n",
        "print('MSE = {}'.format(mean_squared_error(y_test, yhat)))\n",
        "print('MAPE = {}'.format(MAPE(y_test, yhat)))"
      ],
      "execution_count": 23,
      "outputs": [
        {
          "output_type": "display_data",
          "data": {
            "image/png": "[encoded data removed]",
            "text/plain": [
              "<Figure size 864x432 with 1 Axes>"
            ]
          },
          "metadata": {
            "tags": []
          }
        },
        {
          "output_type": "stream",
          "text": [
            "MAE = 0.1950233280658722\n",
            "MSE = 0.0761224627494812\n",
            "MAPE = 17.64681190252304\n"
          ],
          "name": "stdout"
        }
      ]
    },
    {
      "cell_type": "markdown",
      "metadata": {
        "id": "YVPaU8XUHwde",
        "colab_type": "text"
      },
      "source": [
        "#### Build and train stacked LSTM model"
      ]
    },
    {
      "cell_type": "code",
      "metadata": {
        "id": "_vg_jZ2sH54b",
        "colab_type": "code",
        "outputId": "185f87b2-b076-4c02-9e50-8d9e3ea8a845",
        "colab": {
          "base_uri": "https://localhost:8080/",
          "height": 255
        }
      },
      "source": [
        "model_s = tf.keras.Sequential([\n",
        "    tf.keras.layers.LSTM(200, activation='relu', return_sequences=True, input_shape=(timesteps, n_features)),\n",
        "    tf.keras.layers.LSTM(200, activation='relu', input_shape=(timesteps, n_features)),\n",
        "    #tf.keras.layers.Dense(100, activation='relu'), # Additinal danse layer doesn't help\n",
        "    tf.keras.layers.Dense(1)\n",
        "])\n",
        "\n",
        "model_s.summary()\n",
        "\n",
        "model_s.compile(optimizer='adam', loss=tf.keras.losses.MeanSquaredError())\n",
        "\n",
        "model_s.fit(X, y, epochs=100, verbose=0)"
      ],
      "execution_count": 24,
      "outputs": [
        {
          "output_type": "stream",
          "text": [
            "_________________________________________________________________\n",
            "Layer (type)                 Output Shape              Param #   \n",
            "=================================================================\n",
            "lstm_1 (LSTM)                (None, 7, 200)            161600    \n",
            "_________________________________________________________________\n",
            "lstm_2 (LSTM)                (None, 200)               320800    \n",
            "_________________________________________________________________\n",
            "dense_1 (Dense)              (None, 1)                 201       \n",
            "=================================================================\n",
            "Total params: 482,601\n",
            "Trainable params: 482,601\n",
            "Non-trainable params: 0\n",
            "_________________________________________________________________\n"
          ],
          "name": "stdout"
        },
        {
          "output_type": "execute_result",
          "data": {
            "text/plain": [
              "<tensorflow.python.keras.callbacks.History at 0x7f441b2ad748>"
            ]
          },
          "metadata": {
            "tags": []
          },
          "execution_count": 24
        }
      ]
    },
    {
      "cell_type": "markdown",
      "metadata": {
        "id": "GGqX9vzqIfqw",
        "colab_type": "text"
      },
      "source": [
        "Test stacked LSTM model"
      ]
    },
    {
      "cell_type": "code",
      "metadata": {
        "id": "GcJDfuFrIh8Y",
        "colab_type": "code",
        "outputId": "86d879f5-b1de-4ede-bf6f-15fded9c3212",
        "colab": {
          "base_uri": "https://localhost:8080/",
          "height": 429
        }
      },
      "source": [
        "test_seq = test['Global_active_power'].values\n",
        "\n",
        "x_test, y_test = univariate_split(test_seq, timesteps, horizon)\n",
        "\n",
        "x_test = x_test.reshape((x_test.shape[0], timesteps, n_features))\n",
        "yhat = model_s.predict(x_test, verbose=0)\n",
        "\n",
        "plt.figure(figsize=(12,6))\n",
        "plt.plot(y_test, 'r', marker='o')\n",
        "plt.plot(yhat, 'b', marker='o')\n",
        "plt.ylabel('Active power [kW] ')\n",
        "plt.show()\n",
        "\n",
        "# Calc errors\n",
        "print('MAE = {}'.format(mean_absolute_error(y_test, yhat)))\n",
        "print('MSE = {}'.format(mean_squared_error(y_test, yhat)))\n",
        "print('MAPE = {}'.format(MAPE(y_test, yhat)))"
      ],
      "execution_count": 25,
      "outputs": [
        {
          "output_type": "display_data",
          "data": {
            "image/png": "[encoded data removed]",
            "text/plain": [
              "<Figure size 864x432 with 1 Axes>"
            ]
          },
          "metadata": {
            "tags": []
          }
        },
        {
          "output_type": "stream",
          "text": [
            "MAE = 0.19295142590999603\n",
            "MSE = 0.08083826303482056\n",
            "MAPE = 16.615261137485504\n"
          ],
          "name": "stdout"
        }
      ]
    },
    {
      "cell_type": "markdown",
      "metadata": {
        "id": "gDukeBIjUJw2",
        "colab_type": "text"
      },
      "source": [
        "### Multivariate sequence\n",
        "\n",
        "Let's predict active power using voltage and current intesity."
      ]
    },
    {
      "cell_type": "code",
      "metadata": {
        "id": "taFxLO_7Z6_k",
        "colab_type": "code",
        "colab": {}
      },
      "source": [
        "in_seq1 = train['Voltage'].values\n",
        "in_seq2 = train['Global_intensity'].values\n",
        "out_seq = train['Global_active_power'].values\n",
        "\n",
        "in_seq1 = in_seq1.reshape((len(in_seq1), 1))\n",
        "in_seq2 = in_seq2.reshape((len(in_seq2), 1))\n",
        "out_seq = out_seq.reshape((len(out_seq), 1))\n",
        "\n",
        "# horizontally stacked sequences\n",
        "dataset = np.hstack((in_seq1, in_seq2, out_seq))\n",
        "#print(dataset)\n",
        "\n",
        "timesteps = 7\n",
        "horizon = 1\n",
        "\n",
        "X, y = multivariate_split(dataset, timesteps, horizon)\n",
        "#print(X[0], y[0])\n",
        "\n",
        "n_features = 2\n"
      ],
      "execution_count": 0,
      "outputs": []
    },
    {
      "cell_type": "markdown",
      "metadata": {
        "id": "gigRA4GReETN",
        "colab_type": "text"
      },
      "source": [
        "Build and train model"
      ]
    },
    {
      "cell_type": "code",
      "metadata": {
        "id": "DrpYNqQmeHAo",
        "colab_type": "code",
        "outputId": "13056e35-9c4b-419e-9d5f-e7568fd1c252",
        "colab": {
          "base_uri": "https://localhost:8080/",
          "height": 289
        }
      },
      "source": [
        "model_m = tf.keras.Sequential([\n",
        "    tf.keras.layers.LSTM(200, activation='relu', return_sequences=True, input_shape=(timesteps, n_features)),\n",
        "    tf.keras.layers.LSTM(200, activation='relu', input_shape=(timesteps, n_features)),\n",
        "    tf.keras.layers.Dense(100, activation='relu'), # Additinal danse layer helps\n",
        "    tf.keras.layers.Dense(1)\n",
        "])\n",
        "\n",
        "model_m.summary()\n",
        "\n",
        "model_m.compile(optimizer='adam', loss=tf.keras.losses.MeanSquaredError())\n",
        "\n",
        "model_m.fit(X, y, epochs=100, verbose=0)"
      ],
      "execution_count": 60,
      "outputs": [
        {
          "output_type": "stream",
          "text": [
            "_________________________________________________________________\n",
            "Layer (type)                 Output Shape              Param #   \n",
            "=================================================================\n",
            "lstm_7 (LSTM)                (None, 7, 200)            162400    \n",
            "_________________________________________________________________\n",
            "lstm_8 (LSTM)                (None, 200)               320800    \n",
            "_________________________________________________________________\n",
            "dense_4 (Dense)              (None, 100)               20100     \n",
            "_________________________________________________________________\n",
            "dense_5 (Dense)              (None, 1)                 101       \n",
            "=================================================================\n",
            "Total params: 503,401\n",
            "Trainable params: 503,401\n",
            "Non-trainable params: 0\n",
            "_________________________________________________________________\n"
          ],
          "name": "stdout"
        },
        {
          "output_type": "execute_result",
          "data": {
            "text/plain": [
              "<tensorflow.python.keras.callbacks.History at 0x7f44143cc748>"
            ]
          },
          "metadata": {
            "tags": []
          },
          "execution_count": 60
        }
      ]
    },
    {
      "cell_type": "markdown",
      "metadata": {
        "id": "5Tlgur4jewI_",
        "colab_type": "text"
      },
      "source": [
        "Test model"
      ]
    },
    {
      "cell_type": "code",
      "metadata": {
        "id": "hSsbCLB5ewYA",
        "colab_type": "code",
        "outputId": "141cbad7-ac66-4e9e-f5b2-717249c53c89",
        "colab": {
          "base_uri": "https://localhost:8080/",
          "height": 463
        }
      },
      "source": [
        "in_test_seq1 = test['Voltage'].values\n",
        "in_test_seq2 = test['Global_intensity'].values\n",
        "out_test_seq = test['Global_active_power'].values\n",
        "\n",
        "in_test_seq1 = in_test_seq1.reshape((len(in_test_seq1), 1))\n",
        "in_test_seq2 = in_test_seq2.reshape((len(in_test_seq2), 1))\n",
        "out_test_seq = out_test_seq.reshape((len(out_test_seq), 1))\n",
        "\n",
        "#print(in_test_seq1.shape)\n",
        "#print(out_test_seq.shape)\n",
        "\n",
        "# horizontally stacked sequences\n",
        "dataset_test = np.hstack((in_test_seq1, in_test_seq2, out_test_seq))\n",
        "print(dataset.shape)\n",
        "\n",
        "x_test, y_test = multivariate_split(dataset_test, timesteps, horizon)\n",
        "print(x_test.shape, y_test.shape)\n",
        "\n",
        "yhat = model_m.predict(x_test, verbose=0)\n",
        "\n",
        "plt.figure(figsize=(12, 6))\n",
        "plt.plot(y_test, 'r', marker='o')\n",
        "plt.plot(yhat, 'b', marker='o')\n",
        "plt.ylabel('Active power [kW] ')\n",
        "plt.show()\n",
        "\n",
        "# Calc errors\n",
        "print('MAE = {}'.format(mean_absolute_error(y_test, yhat)))\n",
        "print('MSE = {}'.format(mean_squared_error(y_test, yhat)))\n",
        "print('MAPE = {}'.format(MAPE(y_test, yhat)))"
      ],
      "execution_count": 61,
      "outputs": [
        {
          "output_type": "stream",
          "text": [
            "(1416, 3)\n",
            "(26, 7, 2) (26, 1)\n"
          ],
          "name": "stdout"
        },
        {
          "output_type": "display_data",
          "data": {
            "image/png": "[encoded data removed]",
            "text/plain": [
              "<Figure size 864x432 with 1 Axes>"
            ]
          },
          "metadata": {
            "tags": []
          }
        },
        {
          "output_type": "stream",
          "text": [
            "MAE = 0.1992238461971283\n",
            "MSE = 0.07642102986574173\n",
            "MAPE = 18.344423174858093\n"
          ],
          "name": "stdout"
        }
      ]
    },
    {
      "cell_type": "markdown",
      "metadata": {
        "id": "hdDDMUhFpLok",
        "colab_type": "text"
      },
      "source": [
        "### Multi-step univariate model"
      ]
    },
    {
      "cell_type": "markdown",
      "metadata": {
        "id": "thJIG3LNrqWY",
        "colab_type": "text"
      },
      "source": [
        "Let's make input sequence with for multi-step model"
      ]
    },
    {
      "cell_type": "code",
      "metadata": {
        "id": "Q_LJG4b-pKrF",
        "colab_type": "code",
        "colab": {
          "base_uri": "https://localhost:8080/",
          "height": 34
        },
        "outputId": "4b30dd42-22d1-4d0f-d8a4-ee4353c8682c"
      },
      "source": [
        "seq = train['Global_active_power'].values\n",
        "\n",
        "timesteps = 7\n",
        "horizon = 7\n",
        "\n",
        "X, y = univariate_split(seq, timesteps, horizon)\n",
        "\n",
        "# reshape from [samples, timesteps] -> [samples, timesteps, features]\n",
        "n_features = 1\n",
        "\n",
        "X = X.reshape((X.shape[0], X.shape[1], n_features))\n",
        "\n",
        "print(X.shape, y.shape)"
      ],
      "execution_count": 89,
      "outputs": [
        {
          "output_type": "stream",
          "text": [
            "(1402, 7, 1) (1402, 7)\n"
          ],
          "name": "stdout"
        }
      ]
    },
    {
      "cell_type": "markdown",
      "metadata": {
        "id": "FP6dnmHlsJEq",
        "colab_type": "text"
      },
      "source": [
        "Build and train stacked LSTM multi-step model"
      ]
    },
    {
      "cell_type": "code",
      "metadata": {
        "id": "OJS3rWntsPAm",
        "colab_type": "code",
        "colab": {
          "base_uri": "https://localhost:8080/",
          "height": 255
        },
        "outputId": "cb19b157-e815-472f-8a5f-450f53144c5e"
      },
      "source": [
        "model_multi_stacked = tf.keras.Sequential([\n",
        "    tf.keras.layers.LSTM(200, activation='relu', return_sequences=True, input_shape=(timesteps, n_features)),\n",
        "    tf.keras.layers.LSTM(200, activation='relu', input_shape=(timesteps, n_features)),\n",
        "    #tf.keras.layers.Dense(100, activation='relu'), # Additinal danse layer doesn't help\n",
        "    tf.keras.layers.Dense(horizon)\n",
        "])\n",
        "\n",
        "model_multi_stacked.summary()\n",
        "\n",
        "model_multi_stacked.compile(optimizer='adam', loss=tf.keras.losses.MeanSquaredError())\n",
        "\n",
        "model_multi_stacked.fit(X, y, epochs=100, verbose=0)"
      ],
      "execution_count": 90,
      "outputs": [
        {
          "output_type": "stream",
          "text": [
            "_________________________________________________________________\n",
            "Layer (type)                 Output Shape              Param #   \n",
            "=================================================================\n",
            "lstm_17 (LSTM)               (None, 7, 200)            161600    \n",
            "_________________________________________________________________\n",
            "lstm_18 (LSTM)               (None, 200)               320800    \n",
            "_________________________________________________________________\n",
            "dense_10 (Dense)             (None, 7)                 1407      \n",
            "=================================================================\n",
            "Total params: 483,807\n",
            "Trainable params: 483,807\n",
            "Non-trainable params: 0\n",
            "_________________________________________________________________\n"
          ],
          "name": "stdout"
        },
        {
          "output_type": "execute_result",
          "data": {
            "text/plain": [
              "<tensorflow.python.keras.callbacks.History at 0x7f4408756a58>"
            ]
          },
          "metadata": {
            "tags": []
          },
          "execution_count": 90
        }
      ]
    },
    {
      "cell_type": "markdown",
      "metadata": {
        "id": "Fytj3cjasp5B",
        "colab_type": "text"
      },
      "source": [
        "Test model"
      ]
    },
    {
      "cell_type": "code",
      "metadata": {
        "id": "X614gN7hsqKE",
        "colab_type": "code",
        "colab": {
          "base_uri": "https://localhost:8080/",
          "height": 105
        },
        "outputId": "6203715a-6560-42bf-f434-3d57bfb93c07"
      },
      "source": [
        "test_seq = test['Global_active_power'].values\n",
        "print(test_seq.shape)\n",
        "\n",
        "x_test, y_test = univariate_split(test_seq, timesteps, horizon)\n",
        "x_test = x_test.reshape((x_test.shape[0], timesteps, n_features))\n",
        "\n",
        "yhat = model_multi_stacked.predict(x_test, verbose=0)\n",
        "\n",
        "print(x_test.shape, yhat.shape)\n",
        "print(yhat.shape)\n"
      ],
      "execution_count": 95,
      "outputs": [
        {
          "output_type": "stream",
          "text": [
            "(33,)\n",
            "(19, 7, 1) (19, 7)\n",
            "(19, 7)\n"
          ],
          "name": "stdout"
        },
        {
          "output_type": "execute_result",
          "data": {
            "text/plain": [
              "\"\\nplt.figure(figsize=(12,6))\\nplt.plot(y_test, 'r', marker='o')\\nplt.plot(yhat, 'b', marker='o')\\nplt.ylabel('Active power [kW] ')\\nplt.show()\\n\\n# Calc errors\\nprint('MAE = {}'.format(mean_absolute_error(y_test, yhat)))\\nprint('MSE = {}'.format(mean_squared_error(y_test, yhat)))\\nprint('MAPE = {}'.format(MAPE(y_test, yhat)))\\n\""
            ]
          },
          "metadata": {
            "tags": []
          },
          "execution_count": 95
        }
      ]
    },
    {
      "cell_type": "markdown",
      "metadata": {
        "id": "-M10_rCGHntU",
        "colab_type": "text"
      },
      "source": [
        ""
      ]
    },
    {
      "cell_type": "code",
      "metadata": {
        "id": "UTCcwBrbHoX8",
        "colab_type": "code",
        "colab": {
          "base_uri": "https://localhost:8080/",
          "height": 463
        },
        "outputId": "2a9aa736-4dc1-4def-a760-cf349600a370"
      },
      "source": [
        "def result_matrix(yhat, n):\n",
        "  \n",
        "  mat = np.zeros([n - yhat.shape[1], n-1])\n",
        "  \n",
        "  for i in range(n - yhat.shape[1]):\n",
        "    mat[i][i:i + yhat.shape[1]] = yhat[i]\n",
        "  return mat\n",
        "#print(yhat[-2])\n",
        "res = result_matrix(yhat, 26)\n",
        "\n",
        "y_pred = np.mean(res, axis = 0)\n",
        "print(y_pred)\n",
        "\n",
        "plt.figure(figsize=(12,6))\n",
        "#plt.plot(y_test, 'r', marker='o')\n",
        "plt.plot(y_pred, 'b', marker='o')\n",
        "plt.ylabel('Active power [kW] ')\n",
        "plt.show()\n",
        "\n",
        "# Calc errors\n",
        "#print('MAE = {}'.format(mean_absolute_error(y_test, yhat)))\n",
        "#print('MSE = {}'.format(mean_squared_error(y_test, yhat)))\n",
        "#print('MAPE = {}'.format(MAPE(y_test, yhat)))"
      ],
      "execution_count": 159,
      "outputs": [
        {
          "output_type": "stream",
          "text": [
            "[0.05249788 0.10681142 0.16694443 0.22093341 0.2854136  0.3510653\n",
            " 0.41578835 0.42432821 0.415106   0.44210068 0.49384994 0.48152659\n",
            " 0.46331454 0.45592205 0.46055885 0.48071165 0.47900125 0.4547517\n",
            " 0.45385565 0.40155646 0.33365889 0.24938998 0.17846741 0.12541346\n",
            " 0.06443544]\n"
          ],
          "name": "stdout"
        },
        {
          "output_type": "display_data",
          "data": {
            "image/png": "[encoded data removed]",
            "text/plain": [
              "<Figure size 864x432 with 1 Axes>"
            ]
          },
          "metadata": {
            "tags": []
          }
        }
      ]
    }
  ]
}
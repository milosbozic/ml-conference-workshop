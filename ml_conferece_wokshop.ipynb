{
  "nbformat": 4,
  "nbformat_minor": 0,
  "metadata": {
    "colab": {
      "name": "ml-conferece_wokshop.ipynb",
      "version": "0.3.2",
      "provenance": [],
      "collapsed_sections": [
        "eOT_L1hYbs36"
      ],
      "include_colab_link": true
    },
    "kernelspec": {
      "name": "python3",
      "display_name": "Python 3"
    },
    "accelerator": "GPU"
  },
  "cells": [
    {
      "cell_type": "markdown",
      "metadata": {
        "id": "view-in-github",
        "colab_type": "text"
      },
      "source": [
        "<a href=\"https://colab.research.google.com/github/milosbozic/ml-conference-workshop/blob/master/ml_conferece_wokshop.ipynb\" target=\"_parent\"><img src=\"https://colab.research.google.com/assets/colab-badge.svg\" alt=\"Open In Colab\"/></a>"
      ]
    },
    {
      "cell_type": "markdown",
      "metadata": {
        "id": "eOT_L1hYbs36",
        "colab_type": "text"
      },
      "source": [
        "# SETUP\n",
        "\n",
        "To activate GPU device, go to **Runtime** -> **Change runtime type**  and in popup window under **Hardware accelerator** drop menu select GPU device and save.  \n",
        "To check is GPU device avaible, run code below."
      ]
    },
    {
      "cell_type": "code",
      "metadata": {
        "id": "M2DCibYHa1FN",
        "colab_type": "code",
        "colab": {
          "base_uri": "https://localhost:8080/",
          "height": 54
        },
        "outputId": "c776761e-f516-4fa0-a2a0-74954189c810"
      },
      "source": [
        "import tensorflow as tf\n",
        "tf.test.gpu_device_name()"
      ],
      "execution_count": 2,
      "outputs": [
        {
          "output_type": "execute_result",
          "data": {
            "text/plain": [
              "'/device:GPU:0'"
            ]
          },
          "metadata": {
            "tags": []
          },
          "execution_count": 2
        }
      ]
    },
    {
      "cell_type": "markdown",
      "metadata": {
        "id": "rJN15zRYh1ve",
        "colab_type": "text"
      },
      "source": [
        "Check what they gave us for free :)"
      ]
    },
    {
      "cell_type": "code",
      "metadata": {
        "id": "cYCKZ9mUh3Lh",
        "colab_type": "code",
        "colab": {
          "base_uri": "https://localhost:8080/",
          "height": 309
        },
        "outputId": "148840b0-55ca-44cc-a836-1983f72dc072"
      },
      "source": [
        "! nvidia-smi"
      ],
      "execution_count": 3,
      "outputs": [
        {
          "output_type": "stream",
          "text": [
            "Sat May 11 20:39:58 2019       \n",
            "+-----------------------------------------------------------------------------+\n",
            "| NVIDIA-SMI 418.56       Driver Version: 410.79       CUDA Version: 10.0     |\n",
            "|-------------------------------+----------------------+----------------------+\n",
            "| GPU  Name        Persistence-M| Bus-Id        Disp.A | Volatile Uncorr. ECC |\n",
            "| Fan  Temp  Perf  Pwr:Usage/Cap|         Memory-Usage | GPU-Util  Compute M. |\n",
            "|===============================+======================+======================|\n",
            "|   0  Tesla T4            Off  | 00000000:00:04.0 Off |                    0 |\n",
            "| N/A   40C    P0    26W /  70W |    221MiB / 15079MiB |      1%      Default |\n",
            "+-------------------------------+----------------------+----------------------+\n",
            "                                                                               \n",
            "+-----------------------------------------------------------------------------+\n",
            "| Processes:                                                       GPU Memory |\n",
            "|  GPU       PID   Type   Process name                             Usage      |\n",
            "|=============================================================================|\n",
            "+-----------------------------------------------------------------------------+\n"
          ],
          "name": "stdout"
        }
      ]
    },
    {
      "cell_type": "markdown",
      "metadata": {
        "id": "ZshCr0SgeaK9",
        "colab_type": "text"
      },
      "source": [
        "# DATA \n",
        "\n",
        "## Load and clean data\n",
        "\n",
        "Data set which we will use is [Individual household electric power consumption Data Set](https://archive.ics.uci.edu/ml/datasets/individual+household+electric+power+consumption) .  \n",
        "We have to get data and we can download our dataset and unzip it using a couple of bash commands:"
      ]
    },
    {
      "cell_type": "code",
      "metadata": {
        "id": "2cqOJ8Qsblxk",
        "colab_type": "code",
        "colab": {
          "base_uri": "https://localhost:8080/",
          "height": 238
        },
        "outputId": "6a620e89-5264-4fb3-8b7d-b2ecf7b4d9ca"
      },
      "source": [
        "! mkdir data && wget https://archive.ics.uci.edu/ml/machine-learning-databases/00235/household_power_consumption.zip && unzip household_power_consumption.zip -d data/"
      ],
      "execution_count": 4,
      "outputs": [
        {
          "output_type": "stream",
          "text": [
            "--2019-05-11 20:39:59--  https://archive.ics.uci.edu/ml/machine-learning-databases/00235/household_power_consumption.zip\n",
            "Resolving archive.ics.uci.edu (archive.ics.uci.edu)... 128.195.10.252\n",
            "Connecting to archive.ics.uci.edu (archive.ics.uci.edu)|128.195.10.252|:443... connected.\n",
            "HTTP request sent, awaiting response... 200 OK\n",
            "Length: 20640916 (20M) [application/x-httpd-php]\n",
            "Saving to: ‘household_power_consumption.zip’\n",
            "\n",
            "household_power_con 100%[===================>]  19.68M  22.4MB/s    in 0.9s    \n",
            "\n",
            "2019-05-11 20:40:01 (22.4 MB/s) - ‘household_power_consumption.zip’ saved [20640916/20640916]\n",
            "\n",
            "Archive:  household_power_consumption.zip\n",
            "  inflating: data/household_power_consumption.txt  \n"
          ],
          "name": "stdout"
        }
      ]
    },
    {
      "cell_type": "markdown",
      "metadata": {
        "id": "L1ig3HnXgUSm",
        "colab_type": "text"
      },
      "source": [
        "Check is file downloaded and unziped. List folder content:"
      ]
    },
    {
      "cell_type": "code",
      "metadata": {
        "id": "Iq4KjSNeer4C",
        "colab_type": "code",
        "colab": {
          "base_uri": "https://localhost:8080/",
          "height": 204
        },
        "outputId": "2fb9941e-24de-4c9f-f33d-4f781b9fa7b4"
      },
      "source": [
        "! ls data/\n",
        "! head data/household_power_consumption.txt"
      ],
      "execution_count": 5,
      "outputs": [
        {
          "output_type": "stream",
          "text": [
            "household_power_consumption.txt\n",
            "Date;Time;Global_active_power;Global_reactive_power;Voltage;Global_intensity;Sub_metering_1;Sub_metering_2;Sub_metering_3\n",
            "16/12/2006;17:24:00;4.216;0.418;234.840;18.400;0.000;1.000;17.000\n",
            "16/12/2006;17:25:00;5.360;0.436;233.630;23.000;0.000;1.000;16.000\n",
            "16/12/2006;17:26:00;5.374;0.498;233.290;23.000;0.000;2.000;17.000\n",
            "16/12/2006;17:27:00;5.388;0.502;233.740;23.000;0.000;1.000;17.000\n",
            "16/12/2006;17:28:00;3.666;0.528;235.680;15.800;0.000;1.000;17.000\n",
            "16/12/2006;17:29:00;3.520;0.522;235.020;15.000;0.000;2.000;17.000\n",
            "16/12/2006;17:30:00;3.702;0.520;235.090;15.800;0.000;1.000;17.000\n",
            "16/12/2006;17:31:00;3.700;0.520;235.220;15.800;0.000;1.000;17.000\n",
            "16/12/2006;17:32:00;3.668;0.510;233.990;15.800;0.000;1.000;17.000\n"
          ],
          "name": "stdout"
        }
      ]
    },
    {
      "cell_type": "markdown",
      "metadata": {
        "id": "l10ZVgyQghda",
        "colab_type": "text"
      },
      "source": [
        "When we have out data set local we can import it using pandas. "
      ]
    },
    {
      "cell_type": "code",
      "metadata": {
        "id": "pJysWck_jxHT",
        "colab_type": "code",
        "colab": {
          "base_uri": "https://localhost:8080/",
          "height": 51
        },
        "outputId": "1c4c41e6-0ad4-413e-ff4c-d5ee3f1fb5c2"
      },
      "source": [
        "import pandas as pd\n",
        "\n",
        "data = pd.read_csv('data/household_power_consumption.txt', sep=';', header=0, low_memory=False, infer_datetime_format=True, parse_dates={'datetime':[0,1]}, index_col=['datetime'])\n",
        "#print(data.head())\n",
        "heder = list(data)\n",
        "print(heder)\n",
        "print(data.shape)\n"
      ],
      "execution_count": 6,
      "outputs": [
        {
          "output_type": "stream",
          "text": [
            "['Global_active_power', 'Global_reactive_power', 'Voltage', 'Global_intensity', 'Sub_metering_1', 'Sub_metering_2', 'Sub_metering_3']\n",
            "(2075259, 7)\n"
          ],
          "name": "stdout"
        }
      ]
    },
    {
      "cell_type": "markdown",
      "metadata": {
        "id": "BN0Mf10Pw0xf",
        "colab_type": "text"
      },
      "source": [
        "Now let's check is there any non numeric or missing values  and how many."
      ]
    },
    {
      "cell_type": "code",
      "metadata": {
        "id": "6w5yf3ERxG87",
        "colab_type": "code",
        "colab": {
          "base_uri": "https://localhost:8080/",
          "height": 153
        },
        "outputId": "e75729ce-4644-49a2-e7e8-8a624dd2a46e"
      },
      "source": [
        "print(data.isnull().sum())"
      ],
      "execution_count": 7,
      "outputs": [
        {
          "output_type": "stream",
          "text": [
            "Global_active_power          0\n",
            "Global_reactive_power        0\n",
            "Voltage                      0\n",
            "Global_intensity             0\n",
            "Sub_metering_1               0\n",
            "Sub_metering_2               0\n",
            "Sub_metering_3           25979\n",
            "dtype: int64\n"
          ],
          "name": "stdout"
        }
      ]
    },
    {
      "cell_type": "markdown",
      "metadata": {
        "id": "m93tiqf_0J1y",
        "colab_type": "text"
      },
      "source": [
        "On this way we can only check are Nan values in data frame, but because we didn't set NaN values string array in read_csv method, initialy we can only catch default NaN strings like \"nan\", \"Nan\", but not others strings like \"?\" or \"-\""
      ]
    },
    {
      "cell_type": "code",
      "metadata": {
        "id": "AjYEmT-o0Iwy",
        "colab_type": "code",
        "colab": {
          "base_uri": "https://localhost:8080/",
          "height": 153
        },
        "outputId": "4351a656-ca32-468f-f621-f4dce709c73e"
      },
      "source": [
        "missing_values = [\"?\"]\n",
        "data = pd.read_csv('data/household_power_consumption.txt', sep=';', header=0, low_memory=False, infer_datetime_format=True, parse_dates={'datetime':[0,1]}, index_col=['datetime'], na_values = missing_values)\n",
        "data = data.astype('float32')\n",
        "print(data.isnull().sum())"
      ],
      "execution_count": 8,
      "outputs": [
        {
          "output_type": "stream",
          "text": [
            "Global_active_power      25979\n",
            "Global_reactive_power    25979\n",
            "Voltage                  25979\n",
            "Global_intensity         25979\n",
            "Sub_metering_1           25979\n",
            "Sub_metering_2           25979\n",
            "Sub_metering_3           25979\n",
            "dtype: int64\n"
          ],
          "name": "stdout"
        }
      ]
    },
    {
      "cell_type": "markdown",
      "metadata": {
        "id": "rCHEPWCnA9DU",
        "colab_type": "text"
      },
      "source": [
        "When we find all missing values and mark them as NaN, let's fill them somehow."
      ]
    },
    {
      "cell_type": "code",
      "metadata": {
        "id": "pE47lroO9t4P",
        "colab_type": "code",
        "colab": {
          "base_uri": "https://localhost:8080/",
          "height": 153
        },
        "outputId": "b3ac9a91-ff91-4c48-856e-31ce5e15c206"
      },
      "source": [
        "import numpy as np\n",
        "\n",
        "def fill_NaN(values, hist):\n",
        "  one_day = 60 * 24\n",
        "  for row in range(values.shape[0]):\n",
        "    for col in range(values.shape[1]):\n",
        "      if np.isnan(values[row, col]):\n",
        "        hist_values = []\n",
        "        for k in range(1, hist+1):\n",
        "          hist_values.append(values[row - one_day*k, col])\n",
        "        values[row, col] = np.array(hist_values).mean()\n",
        " \n",
        "# fill missing\n",
        "fill_NaN(data.values, 2)\n",
        "\n",
        "# Check again is there missing values\n",
        "print(data.isnull().sum())"
      ],
      "execution_count": 9,
      "outputs": [
        {
          "output_type": "stream",
          "text": [
            "Global_active_power      0\n",
            "Global_reactive_power    0\n",
            "Voltage                  0\n",
            "Global_intensity         0\n",
            "Sub_metering_1           0\n",
            "Sub_metering_2           0\n",
            "Sub_metering_3           0\n",
            "dtype: int64\n"
          ],
          "name": "stdout"
        }
      ]
    },
    {
      "cell_type": "markdown",
      "metadata": {
        "id": "cquz9O6MECDN",
        "colab_type": "text"
      },
      "source": [
        "## Prepare data for modeling"
      ]
    },
    {
      "cell_type": "code",
      "metadata": {
        "id": "ji3zEs4orfhN",
        "colab_type": "code",
        "colab": {
          "base_uri": "https://localhost:8080/",
          "height": 235
        },
        "outputId": "a7e4151a-34e0-431a-a416-350fafae35cd"
      },
      "source": [
        "data.head()"
      ],
      "execution_count": 10,
      "outputs": [
        {
          "output_type": "execute_result",
          "data": {
            "text/html": [
              "<div>\n",
              "<style scoped>\n",
              "    .dataframe tbody tr th:only-of-type {\n",
              "        vertical-align: middle;\n",
              "    }\n",
              "\n",
              "    .dataframe tbody tr th {\n",
              "        vertical-align: top;\n",
              "    }\n",
              "\n",
              "    .dataframe thead th {\n",
              "        text-align: right;\n",
              "    }\n",
              "</style>\n",
              "<table border=\"1\" class=\"dataframe\">\n",
              "  <thead>\n",
              "    <tr style=\"text-align: right;\">\n",
              "      <th></th>\n",
              "      <th>Global_active_power</th>\n",
              "      <th>Global_reactive_power</th>\n",
              "      <th>Voltage</th>\n",
              "      <th>Global_intensity</th>\n",
              "      <th>Sub_metering_1</th>\n",
              "      <th>Sub_metering_2</th>\n",
              "      <th>Sub_metering_3</th>\n",
              "    </tr>\n",
              "    <tr>\n",
              "      <th>datetime</th>\n",
              "      <th></th>\n",
              "      <th></th>\n",
              "      <th></th>\n",
              "      <th></th>\n",
              "      <th></th>\n",
              "      <th></th>\n",
              "      <th></th>\n",
              "    </tr>\n",
              "  </thead>\n",
              "  <tbody>\n",
              "    <tr>\n",
              "      <th>2006-12-16 17:24:00</th>\n",
              "      <td>4.216</td>\n",
              "      <td>0.418</td>\n",
              "      <td>234.839996</td>\n",
              "      <td>18.4</td>\n",
              "      <td>0.0</td>\n",
              "      <td>1.0</td>\n",
              "      <td>17.0</td>\n",
              "    </tr>\n",
              "    <tr>\n",
              "      <th>2006-12-16 17:25:00</th>\n",
              "      <td>5.360</td>\n",
              "      <td>0.436</td>\n",
              "      <td>233.630005</td>\n",
              "      <td>23.0</td>\n",
              "      <td>0.0</td>\n",
              "      <td>1.0</td>\n",
              "      <td>16.0</td>\n",
              "    </tr>\n",
              "    <tr>\n",
              "      <th>2006-12-16 17:26:00</th>\n",
              "      <td>5.374</td>\n",
              "      <td>0.498</td>\n",
              "      <td>233.289993</td>\n",
              "      <td>23.0</td>\n",
              "      <td>0.0</td>\n",
              "      <td>2.0</td>\n",
              "      <td>17.0</td>\n",
              "    </tr>\n",
              "    <tr>\n",
              "      <th>2006-12-16 17:27:00</th>\n",
              "      <td>5.388</td>\n",
              "      <td>0.502</td>\n",
              "      <td>233.740005</td>\n",
              "      <td>23.0</td>\n",
              "      <td>0.0</td>\n",
              "      <td>1.0</td>\n",
              "      <td>17.0</td>\n",
              "    </tr>\n",
              "    <tr>\n",
              "      <th>2006-12-16 17:28:00</th>\n",
              "      <td>3.666</td>\n",
              "      <td>0.528</td>\n",
              "      <td>235.679993</td>\n",
              "      <td>15.8</td>\n",
              "      <td>0.0</td>\n",
              "      <td>1.0</td>\n",
              "      <td>17.0</td>\n",
              "    </tr>\n",
              "  </tbody>\n",
              "</table>\n",
              "</div>"
            ],
            "text/plain": [
              "                     Global_active_power  Global_reactive_power     Voltage  \\\n",
              "datetime                                                                      \n",
              "2006-12-16 17:24:00                4.216                  0.418  234.839996   \n",
              "2006-12-16 17:25:00                5.360                  0.436  233.630005   \n",
              "2006-12-16 17:26:00                5.374                  0.498  233.289993   \n",
              "2006-12-16 17:27:00                5.388                  0.502  233.740005   \n",
              "2006-12-16 17:28:00                3.666                  0.528  235.679993   \n",
              "\n",
              "                     Global_intensity  Sub_metering_1  Sub_metering_2  \\\n",
              "datetime                                                                \n",
              "2006-12-16 17:24:00              18.4             0.0             1.0   \n",
              "2006-12-16 17:25:00              23.0             0.0             1.0   \n",
              "2006-12-16 17:26:00              23.0             0.0             2.0   \n",
              "2006-12-16 17:27:00              23.0             0.0             1.0   \n",
              "2006-12-16 17:28:00              15.8             0.0             1.0   \n",
              "\n",
              "                     Sub_metering_3  \n",
              "datetime                             \n",
              "2006-12-16 17:24:00            17.0  \n",
              "2006-12-16 17:25:00            16.0  \n",
              "2006-12-16 17:26:00            17.0  \n",
              "2006-12-16 17:27:00            17.0  \n",
              "2006-12-16 17:28:00            17.0  "
            ]
          },
          "metadata": {
            "tags": []
          },
          "execution_count": 10
        }
      ]
    },
    {
      "cell_type": "markdown",
      "metadata": {
        "id": "1WCBZJa1rshR",
        "colab_type": "text"
      },
      "source": [
        "Our data is power consumption measured per minute frequency, but we are more interested in hourly or daily values. Because of that we have to resample data to get daily values and we can use pandas [***resample()***](https://pandas.pydata.org/pandas-docs/stable/reference/api/pandas.DataFrame.resample.html) function with appropriate argument to do it."
      ]
    },
    {
      "cell_type": "code",
      "metadata": {
        "id": "Kk4XiS2Krrcu",
        "colab_type": "code",
        "colab": {
          "base_uri": "https://localhost:8080/",
          "height": 235
        },
        "outputId": "b9b80ca8-ad06-420d-b60e-5e0330e483ef"
      },
      "source": [
        "data_daily = data.resample('D').mean()\n",
        "data_daily.head()\n"
      ],
      "execution_count": 11,
      "outputs": [
        {
          "output_type": "execute_result",
          "data": {
            "text/html": [
              "<div>\n",
              "<style scoped>\n",
              "    .dataframe tbody tr th:only-of-type {\n",
              "        vertical-align: middle;\n",
              "    }\n",
              "\n",
              "    .dataframe tbody tr th {\n",
              "        vertical-align: top;\n",
              "    }\n",
              "\n",
              "    .dataframe thead th {\n",
              "        text-align: right;\n",
              "    }\n",
              "</style>\n",
              "<table border=\"1\" class=\"dataframe\">\n",
              "  <thead>\n",
              "    <tr style=\"text-align: right;\">\n",
              "      <th></th>\n",
              "      <th>Global_active_power</th>\n",
              "      <th>Global_reactive_power</th>\n",
              "      <th>Voltage</th>\n",
              "      <th>Global_intensity</th>\n",
              "      <th>Sub_metering_1</th>\n",
              "      <th>Sub_metering_2</th>\n",
              "      <th>Sub_metering_3</th>\n",
              "    </tr>\n",
              "    <tr>\n",
              "      <th>datetime</th>\n",
              "      <th></th>\n",
              "      <th></th>\n",
              "      <th></th>\n",
              "      <th></th>\n",
              "      <th></th>\n",
              "      <th></th>\n",
              "      <th></th>\n",
              "    </tr>\n",
              "  </thead>\n",
              "  <tbody>\n",
              "    <tr>\n",
              "      <th>2006-12-16</th>\n",
              "      <td>3.053475</td>\n",
              "      <td>0.088187</td>\n",
              "      <td>236.243759</td>\n",
              "      <td>13.082829</td>\n",
              "      <td>0.000000</td>\n",
              "      <td>1.378788</td>\n",
              "      <td>12.439394</td>\n",
              "    </tr>\n",
              "    <tr>\n",
              "      <th>2006-12-17</th>\n",
              "      <td>2.354486</td>\n",
              "      <td>0.156949</td>\n",
              "      <td>240.087021</td>\n",
              "      <td>9.999028</td>\n",
              "      <td>1.411806</td>\n",
              "      <td>2.907639</td>\n",
              "      <td>9.264584</td>\n",
              "    </tr>\n",
              "    <tr>\n",
              "      <th>2006-12-18</th>\n",
              "      <td>1.530435</td>\n",
              "      <td>0.112356</td>\n",
              "      <td>241.231689</td>\n",
              "      <td>6.421667</td>\n",
              "      <td>0.738194</td>\n",
              "      <td>1.820139</td>\n",
              "      <td>9.734722</td>\n",
              "    </tr>\n",
              "    <tr>\n",
              "      <th>2006-12-19</th>\n",
              "      <td>1.157079</td>\n",
              "      <td>0.104821</td>\n",
              "      <td>241.999313</td>\n",
              "      <td>4.926389</td>\n",
              "      <td>0.582639</td>\n",
              "      <td>5.279167</td>\n",
              "      <td>4.303472</td>\n",
              "    </tr>\n",
              "    <tr>\n",
              "      <th>2006-12-20</th>\n",
              "      <td>1.545658</td>\n",
              "      <td>0.111804</td>\n",
              "      <td>242.308060</td>\n",
              "      <td>6.467361</td>\n",
              "      <td>0.000000</td>\n",
              "      <td>1.838889</td>\n",
              "      <td>9.765972</td>\n",
              "    </tr>\n",
              "  </tbody>\n",
              "</table>\n",
              "</div>"
            ],
            "text/plain": [
              "            Global_active_power  Global_reactive_power     Voltage  \\\n",
              "datetime                                                             \n",
              "2006-12-16             3.053475               0.088187  236.243759   \n",
              "2006-12-17             2.354486               0.156949  240.087021   \n",
              "2006-12-18             1.530435               0.112356  241.231689   \n",
              "2006-12-19             1.157079               0.104821  241.999313   \n",
              "2006-12-20             1.545658               0.111804  242.308060   \n",
              "\n",
              "            Global_intensity  Sub_metering_1  Sub_metering_2  Sub_metering_3  \n",
              "datetime                                                                      \n",
              "2006-12-16         13.082829        0.000000        1.378788       12.439394  \n",
              "2006-12-17          9.999028        1.411806        2.907639        9.264584  \n",
              "2006-12-18          6.421667        0.738194        1.820139        9.734722  \n",
              "2006-12-19          4.926389        0.582639        5.279167        4.303472  \n",
              "2006-12-20          6.467361        0.000000        1.838889        9.765972  "
            ]
          },
          "metadata": {
            "tags": []
          },
          "execution_count": 11
        }
      ]
    },
    {
      "cell_type": "markdown",
      "metadata": {
        "id": "8GbMyWFmw9q_",
        "colab_type": "text"
      },
      "source": [
        "Let's plot original data and our resampled data."
      ]
    },
    {
      "cell_type": "code",
      "metadata": {
        "id": "iB6aEfxFyNLD",
        "colab_type": "code",
        "colab": {
          "base_uri": "https://localhost:8080/",
          "height": 444
        },
        "outputId": "6a8ff6cc-454e-47ec-c305-10905a24893b"
      },
      "source": [
        "import matplotlib.pyplot as plt\n",
        "\n",
        "fig, axes = plt.subplots(nrows=1, ncols=2, figsize=(22,6))\n",
        "data['Global_active_power'].tail(14*60*24).plot(ax=axes[0], subplots=True, x='time', y='active_power', legend=False)\n",
        "axes[0].set_title('Original data')\n",
        "data_daily['Global_active_power'].tail(14).plot(ax=axes[1], subplots=True, x='time', y='active_power', legend=False)\n",
        "axes[1].set_title('Daily resampled data')"
      ],
      "execution_count": 12,
      "outputs": [
        {
          "output_type": "execute_result",
          "data": {
            "text/plain": [
              "Text(0.5, 1.0, 'Daily resampled data')"
            ]
          },
          "metadata": {
            "tags": []
          },
          "execution_count": 12
        },
        {
          "output_type": "display_data",
          "data": {
            "image/png": "[encoded data removed]",
            "text/plain": [
              "<Figure size 1584x432 with 2 Axes>"
            ]
          },
          "metadata": {
            "tags": []
          }
        }
      ]
    },
    {
      "cell_type": "markdown",
      "metadata": {
        "id": "q20QKCqv2qdU",
        "colab_type": "text"
      },
      "source": [
        "Split resampled data to train and test subsets."
      ]
    },
    {
      "cell_type": "code",
      "metadata": {
        "id": "0K-hC3NC80Sj",
        "colab_type": "code",
        "colab": {
          "base_uri": "https://localhost:8080/",
          "height": 235
        },
        "outputId": "3efef327-1d15-465b-a0e0-98378b149336"
      },
      "source": [
        "data_daily.tail()\n"
      ],
      "execution_count": 13,
      "outputs": [
        {
          "output_type": "execute_result",
          "data": {
            "text/html": [
              "<div>\n",
              "<style scoped>\n",
              "    .dataframe tbody tr th:only-of-type {\n",
              "        vertical-align: middle;\n",
              "    }\n",
              "\n",
              "    .dataframe tbody tr th {\n",
              "        vertical-align: top;\n",
              "    }\n",
              "\n",
              "    .dataframe thead th {\n",
              "        text-align: right;\n",
              "    }\n",
              "</style>\n",
              "<table border=\"1\" class=\"dataframe\">\n",
              "  <thead>\n",
              "    <tr style=\"text-align: right;\">\n",
              "      <th></th>\n",
              "      <th>Global_active_power</th>\n",
              "      <th>Global_reactive_power</th>\n",
              "      <th>Voltage</th>\n",
              "      <th>Global_intensity</th>\n",
              "      <th>Sub_metering_1</th>\n",
              "      <th>Sub_metering_2</th>\n",
              "      <th>Sub_metering_3</th>\n",
              "    </tr>\n",
              "    <tr>\n",
              "      <th>datetime</th>\n",
              "      <th></th>\n",
              "      <th></th>\n",
              "      <th></th>\n",
              "      <th></th>\n",
              "      <th></th>\n",
              "      <th></th>\n",
              "      <th></th>\n",
              "    </tr>\n",
              "  </thead>\n",
              "  <tbody>\n",
              "    <tr>\n",
              "      <th>2010-11-22</th>\n",
              "      <td>1.417733</td>\n",
              "      <td>0.098857</td>\n",
              "      <td>240.197113</td>\n",
              "      <td>6.014167</td>\n",
              "      <td>3.371528</td>\n",
              "      <td>1.465278</td>\n",
              "      <td>7.038889</td>\n",
              "    </tr>\n",
              "    <tr>\n",
              "      <th>2010-11-23</th>\n",
              "      <td>1.095511</td>\n",
              "      <td>0.095451</td>\n",
              "      <td>240.575531</td>\n",
              "      <td>4.674445</td>\n",
              "      <td>1.299306</td>\n",
              "      <td>0.318056</td>\n",
              "      <td>5.285417</td>\n",
              "    </tr>\n",
              "    <tr>\n",
              "      <th>2010-11-24</th>\n",
              "      <td>1.247394</td>\n",
              "      <td>0.091986</td>\n",
              "      <td>240.030960</td>\n",
              "      <td>5.249583</td>\n",
              "      <td>0.761111</td>\n",
              "      <td>1.977778</td>\n",
              "      <td>8.488889</td>\n",
              "    </tr>\n",
              "    <tr>\n",
              "      <th>2010-11-25</th>\n",
              "      <td>0.993864</td>\n",
              "      <td>0.080644</td>\n",
              "      <td>241.536255</td>\n",
              "      <td>4.169445</td>\n",
              "      <td>0.747222</td>\n",
              "      <td>0.295833</td>\n",
              "      <td>3.522222</td>\n",
              "    </tr>\n",
              "    <tr>\n",
              "      <th>2010-11-26</th>\n",
              "      <td>1.178230</td>\n",
              "      <td>0.095666</td>\n",
              "      <td>240.291031</td>\n",
              "      <td>4.956295</td>\n",
              "      <td>0.855107</td>\n",
              "      <td>0.304830</td>\n",
              "      <td>7.908947</td>\n",
              "    </tr>\n",
              "  </tbody>\n",
              "</table>\n",
              "</div>"
            ],
            "text/plain": [
              "            Global_active_power  Global_reactive_power     Voltage  \\\n",
              "datetime                                                             \n",
              "2010-11-22             1.417733               0.098857  240.197113   \n",
              "2010-11-23             1.095511               0.095451  240.575531   \n",
              "2010-11-24             1.247394               0.091986  240.030960   \n",
              "2010-11-25             0.993864               0.080644  241.536255   \n",
              "2010-11-26             1.178230               0.095666  240.291031   \n",
              "\n",
              "            Global_intensity  Sub_metering_1  Sub_metering_2  Sub_metering_3  \n",
              "datetime                                                                      \n",
              "2010-11-22          6.014167        3.371528        1.465278        7.038889  \n",
              "2010-11-23          4.674445        1.299306        0.318056        5.285417  \n",
              "2010-11-24          5.249583        0.761111        1.977778        8.488889  \n",
              "2010-11-25          4.169445        0.747222        0.295833        3.522222  \n",
              "2010-11-26          4.956295        0.855107        0.304830        7.908947  "
            ]
          },
          "metadata": {
            "tags": []
          },
          "execution_count": 13
        }
      ]
    },
    {
      "cell_type": "code",
      "metadata": {
        "id": "djn4e89E9I_A",
        "colab_type": "code",
        "colab": {
          "base_uri": "https://localhost:8080/",
          "height": 204
        },
        "outputId": "79201ef0-2f99-45fd-a843-b77925d729f9"
      },
      "source": [
        "train_start = '2006-12-16'\n",
        "train_end = '2010-10-31'\n",
        "test_start = '2010-11-01'\n",
        "test_end = '2010-11-26'\n",
        "\n",
        "train_mask = pd.date_range(train_start, train_end, freq='D')\n",
        "test_mask = pd.date_range(test_start, test_end, freq='D')\n",
        "#print(train_mask)\n",
        "#print(test_mask)\n",
        "\n",
        "train = data_daily.loc[train_mask]\n",
        "test = data_daily.loc[test_mask]\n",
        "\n",
        "train.tail()"
      ],
      "execution_count": 14,
      "outputs": [
        {
          "output_type": "execute_result",
          "data": {
            "text/html": [
              "<div>\n",
              "<style scoped>\n",
              "    .dataframe tbody tr th:only-of-type {\n",
              "        vertical-align: middle;\n",
              "    }\n",
              "\n",
              "    .dataframe tbody tr th {\n",
              "        vertical-align: top;\n",
              "    }\n",
              "\n",
              "    .dataframe thead th {\n",
              "        text-align: right;\n",
              "    }\n",
              "</style>\n",
              "<table border=\"1\" class=\"dataframe\">\n",
              "  <thead>\n",
              "    <tr style=\"text-align: right;\">\n",
              "      <th></th>\n",
              "      <th>Global_active_power</th>\n",
              "      <th>Global_reactive_power</th>\n",
              "      <th>Voltage</th>\n",
              "      <th>Global_intensity</th>\n",
              "      <th>Sub_metering_1</th>\n",
              "      <th>Sub_metering_2</th>\n",
              "      <th>Sub_metering_3</th>\n",
              "    </tr>\n",
              "  </thead>\n",
              "  <tbody>\n",
              "    <tr>\n",
              "      <th>2010-10-27</th>\n",
              "      <td>0.875193</td>\n",
              "      <td>0.106828</td>\n",
              "      <td>246.108704</td>\n",
              "      <td>3.622917</td>\n",
              "      <td>0.000000</td>\n",
              "      <td>1.429167</td>\n",
              "      <td>5.742361</td>\n",
              "    </tr>\n",
              "    <tr>\n",
              "      <th>2010-10-28</th>\n",
              "      <td>1.016199</td>\n",
              "      <td>0.130028</td>\n",
              "      <td>246.253891</td>\n",
              "      <td>4.200139</td>\n",
              "      <td>0.765972</td>\n",
              "      <td>1.824306</td>\n",
              "      <td>6.310417</td>\n",
              "    </tr>\n",
              "    <tr>\n",
              "      <th>2010-10-29</th>\n",
              "      <td>0.836404</td>\n",
              "      <td>0.135917</td>\n",
              "      <td>245.743103</td>\n",
              "      <td>3.511945</td>\n",
              "      <td>0.746528</td>\n",
              "      <td>0.504167</td>\n",
              "      <td>2.715972</td>\n",
              "    </tr>\n",
              "    <tr>\n",
              "      <th>2010-10-30</th>\n",
              "      <td>1.494931</td>\n",
              "      <td>0.135639</td>\n",
              "      <td>243.267365</td>\n",
              "      <td>6.229028</td>\n",
              "      <td>1.634028</td>\n",
              "      <td>0.426389</td>\n",
              "      <td>10.627084</td>\n",
              "    </tr>\n",
              "    <tr>\n",
              "      <th>2010-10-31</th>\n",
              "      <td>1.025299</td>\n",
              "      <td>0.144501</td>\n",
              "      <td>245.495285</td>\n",
              "      <td>4.235139</td>\n",
              "      <td>0.993056</td>\n",
              "      <td>0.470833</td>\n",
              "      <td>3.881250</td>\n",
              "    </tr>\n",
              "  </tbody>\n",
              "</table>\n",
              "</div>"
            ],
            "text/plain": [
              "            Global_active_power  Global_reactive_power     Voltage  \\\n",
              "2010-10-27             0.875193               0.106828  246.108704   \n",
              "2010-10-28             1.016199               0.130028  246.253891   \n",
              "2010-10-29             0.836404               0.135917  245.743103   \n",
              "2010-10-30             1.494931               0.135639  243.267365   \n",
              "2010-10-31             1.025299               0.144501  245.495285   \n",
              "\n",
              "            Global_intensity  Sub_metering_1  Sub_metering_2  Sub_metering_3  \n",
              "2010-10-27          3.622917        0.000000        1.429167        5.742361  \n",
              "2010-10-28          4.200139        0.765972        1.824306        6.310417  \n",
              "2010-10-29          3.511945        0.746528        0.504167        2.715972  \n",
              "2010-10-30          6.229028        1.634028        0.426389       10.627084  \n",
              "2010-10-31          4.235139        0.993056        0.470833        3.881250  "
            ]
          },
          "metadata": {
            "tags": []
          },
          "execution_count": 14
        }
      ]
    },
    {
      "cell_type": "code",
      "metadata": {
        "id": "XXipyzXX_Wa-",
        "colab_type": "code",
        "colab": {
          "base_uri": "https://localhost:8080/",
          "height": 204
        },
        "outputId": "5ef9c456-f367-48c8-bb11-6ab445773109"
      },
      "source": [
        "test.head()"
      ],
      "execution_count": 15,
      "outputs": [
        {
          "output_type": "execute_result",
          "data": {
            "text/html": [
              "<div>\n",
              "<style scoped>\n",
              "    .dataframe tbody tr th:only-of-type {\n",
              "        vertical-align: middle;\n",
              "    }\n",
              "\n",
              "    .dataframe tbody tr th {\n",
              "        vertical-align: top;\n",
              "    }\n",
              "\n",
              "    .dataframe thead th {\n",
              "        text-align: right;\n",
              "    }\n",
              "</style>\n",
              "<table border=\"1\" class=\"dataframe\">\n",
              "  <thead>\n",
              "    <tr style=\"text-align: right;\">\n",
              "      <th></th>\n",
              "      <th>Global_active_power</th>\n",
              "      <th>Global_reactive_power</th>\n",
              "      <th>Voltage</th>\n",
              "      <th>Global_intensity</th>\n",
              "      <th>Sub_metering_1</th>\n",
              "      <th>Sub_metering_2</th>\n",
              "      <th>Sub_metering_3</th>\n",
              "    </tr>\n",
              "  </thead>\n",
              "  <tbody>\n",
              "    <tr>\n",
              "      <th>2010-11-01</th>\n",
              "      <td>0.960542</td>\n",
              "      <td>0.129921</td>\n",
              "      <td>246.379593</td>\n",
              "      <td>3.937639</td>\n",
              "      <td>0.000000</td>\n",
              "      <td>0.440278</td>\n",
              "      <td>6.073611</td>\n",
              "    </tr>\n",
              "    <tr>\n",
              "      <th>2010-11-02</th>\n",
              "      <td>0.827140</td>\n",
              "      <td>0.129528</td>\n",
              "      <td>245.786911</td>\n",
              "      <td>3.421806</td>\n",
              "      <td>0.000000</td>\n",
              "      <td>0.398611</td>\n",
              "      <td>4.016667</td>\n",
              "    </tr>\n",
              "    <tr>\n",
              "      <th>2010-11-03</th>\n",
              "      <td>0.898124</td>\n",
              "      <td>0.122406</td>\n",
              "      <td>244.278534</td>\n",
              "      <td>3.759583</td>\n",
              "      <td>0.709028</td>\n",
              "      <td>0.769444</td>\n",
              "      <td>4.534028</td>\n",
              "    </tr>\n",
              "    <tr>\n",
              "      <th>2010-11-04</th>\n",
              "      <td>1.774407</td>\n",
              "      <td>0.175304</td>\n",
              "      <td>243.152222</td>\n",
              "      <td>7.496111</td>\n",
              "      <td>4.186806</td>\n",
              "      <td>7.772917</td>\n",
              "      <td>7.143055</td>\n",
              "    </tr>\n",
              "    <tr>\n",
              "      <th>2010-11-05</th>\n",
              "      <td>1.205617</td>\n",
              "      <td>0.125346</td>\n",
              "      <td>243.775040</td>\n",
              "      <td>5.053333</td>\n",
              "      <td>0.000000</td>\n",
              "      <td>0.548611</td>\n",
              "      <td>8.756945</td>\n",
              "    </tr>\n",
              "  </tbody>\n",
              "</table>\n",
              "</div>"
            ],
            "text/plain": [
              "            Global_active_power  Global_reactive_power     Voltage  \\\n",
              "2010-11-01             0.960542               0.129921  246.379593   \n",
              "2010-11-02             0.827140               0.129528  245.786911   \n",
              "2010-11-03             0.898124               0.122406  244.278534   \n",
              "2010-11-04             1.774407               0.175304  243.152222   \n",
              "2010-11-05             1.205617               0.125346  243.775040   \n",
              "\n",
              "            Global_intensity  Sub_metering_1  Sub_metering_2  Sub_metering_3  \n",
              "2010-11-01          3.937639        0.000000        0.440278        6.073611  \n",
              "2010-11-02          3.421806        0.000000        0.398611        4.016667  \n",
              "2010-11-03          3.759583        0.709028        0.769444        4.534028  \n",
              "2010-11-04          7.496111        4.186806        7.772917        7.143055  \n",
              "2010-11-05          5.053333        0.000000        0.548611        8.756945  "
            ]
          },
          "metadata": {
            "tags": []
          },
          "execution_count": 15
        }
      ]
    },
    {
      "cell_type": "markdown",
      "metadata": {
        "id": "Pslxqc1sAn_X",
        "colab_type": "text"
      },
      "source": [
        "# Modeling"
      ]
    },
    {
      "cell_type": "markdown",
      "metadata": {
        "id": "CRT2nkScBIks",
        "colab_type": "text"
      },
      "source": [
        "## Make sequence input\n",
        "\n",
        "An LSTM model expects input data to have the shape:  [samples, timesteps, features]  \n",
        "\n",
        "**Univariate with one or multi-steps time series**"
      ]
    },
    {
      "cell_type": "code",
      "metadata": {
        "id": "dHoRG_t2A3Yt",
        "colab_type": "code",
        "colab": {}
      },
      "source": [
        "# univariate sequence to input samples\n",
        "def univariate_split(sequence, timesteps, horizon):\n",
        "  X, y = list(), list()\n",
        "  for i in range(len(sequence)):\n",
        "    # find the end of this pattern\n",
        "    end_ix = i + timesteps\n",
        "    out_end_ix = end_ix + horizon\n",
        "    #check if we are beyond the sequence\n",
        "    if out_end_ix > len(sequence)-1:\n",
        "      break\n",
        "    # gather input and output parts of the pattern\n",
        "    seq_x, seq_y = sequence[i:end_ix], sequence[end_ix:out_end_ix]\n",
        "    X.append(seq_x)\n",
        "    y.append(seq_y)\n",
        "  return np.array(X), np.array(y)"
      ],
      "execution_count": 0,
      "outputs": []
    },
    {
      "cell_type": "markdown",
      "metadata": {
        "id": "Nqk2ym5eXbSi",
        "colab_type": "text"
      },
      "source": [
        "Let's test our function."
      ]
    },
    {
      "cell_type": "code",
      "metadata": {
        "id": "N-wtGvsGUxkb",
        "colab_type": "code",
        "colab": {
          "base_uri": "https://localhost:8080/",
          "height": 221
        },
        "outputId": "833ecf6a-31e0-45c5-bcb6-26be2994b0b2"
      },
      "source": [
        "# make simple test sequence\n",
        "in_seq = np.arange(0, 200, 10)\n",
        "#print(raw_seq)\n",
        "\n",
        "# set a number of input time steps\n",
        "n_steps = 7\n",
        "# set a number of prediction steps\n",
        "n_out = 1\n",
        "\n",
        "# split into samples\n",
        "X, y = univariate_split(in_seq, n_steps, n_out)\n",
        "\n",
        "# print\n",
        "for i in range(len(X)):\n",
        "\tprint(X[i], y[i])"
      ],
      "execution_count": 38,
      "outputs": [
        {
          "output_type": "stream",
          "text": [
            "[ 0 10 20 30 40 50 60] [70]\n",
            "[10 20 30 40 50 60 70] [80]\n",
            "[20 30 40 50 60 70 80] [90]\n",
            "[30 40 50 60 70 80 90] [100]\n",
            "[ 40  50  60  70  80  90 100] [110]\n",
            "[ 50  60  70  80  90 100 110] [120]\n",
            "[ 60  70  80  90 100 110 120] [130]\n",
            "[ 70  80  90 100 110 120 130] [140]\n",
            "[ 80  90 100 110 120 130 140] [150]\n",
            "[ 90 100 110 120 130 140 150] [160]\n",
            "[100 110 120 130 140 150 160] [170]\n",
            "[110 120 130 140 150 160 170] [180]\n"
          ],
          "name": "stdout"
        }
      ]
    },
    {
      "cell_type": "markdown",
      "metadata": {
        "id": "WBXqcZTga5me",
        "colab_type": "text"
      },
      "source": [
        "### Multivariate sequences\n",
        "\n",
        "* **Multiple input with one or multi-step output time series**"
      ]
    },
    {
      "cell_type": "code",
      "metadata": {
        "id": "L6d0drkgbUig",
        "colab_type": "code",
        "colab": {}
      },
      "source": [
        "# multivariate sequence into samples\n",
        "def multivariate_split(sequences, timesteps, horizon):\n",
        "  X, y = list(), list()\n",
        "  for i in range(len(sequences)):\n",
        "    # find the end of this pattern\n",
        "    end_ix = i + timesteps\n",
        "    out_end_ix = end_ix + horizon - 1\n",
        "    # check if we are beyond the dataset\n",
        "    if out_end_ix > len(sequences):\n",
        "      break\n",
        "    # gather input and output parts of the pattern\n",
        "    seq_x, seq_y = sequences[i:end_ix, :-1], sequences[end_ix-1:out_end_ix, -1]\n",
        "    X.append(seq_x)\n",
        "    y.append(seq_y)\n",
        "  return np.array(X), np.array(y)"
      ],
      "execution_count": 0,
      "outputs": []
    },
    {
      "cell_type": "markdown",
      "metadata": {
        "id": "XFlwCtqJpUFv",
        "colab_type": "text"
      },
      "source": [
        "Test function"
      ]
    },
    {
      "cell_type": "code",
      "metadata": {
        "id": "lXeauVIhcH57",
        "colab_type": "code",
        "colab": {
          "base_uri": "https://localhost:8080/",
          "height": 493
        },
        "outputId": "ceb33c0b-1b80-400d-f294-f27bb8fe7a75"
      },
      "source": [
        "in_seq1 = np.arange(0, 100, 10)\n",
        "in_seq2 = np.arange(5, 100, 10)\n",
        "out_seq = np.array([in_seq1[i]+in_seq2[i] for i in range(len(in_seq1))])\n",
        "# convert to [rows, columns] structure\n",
        "in_seq1 = in_seq1.reshape((len(in_seq1), 1))\n",
        "in_seq2 = in_seq2.reshape((len(in_seq2), 1))\n",
        "out_seq = out_seq.reshape((len(out_seq), 1))\n",
        "# horizontally stack columns\n",
        "dataset = np.hstack((in_seq1, in_seq2, out_seq))\n",
        "\n",
        "#print(dataset)\n",
        "\n",
        "# set a number of time steps\n",
        "n_steps = 7\n",
        "n_out = 1\n",
        "\n",
        "# split into samples\n",
        "X, y = multivariate_split(dataset, n_steps, n_out)\n",
        "\n",
        "# print\n",
        "for i in range(len(X)):\n",
        "\tprint(X[i], y[i])"
      ],
      "execution_count": 51,
      "outputs": [
        {
          "output_type": "stream",
          "text": [
            "[[ 0  5]\n",
            " [10 15]\n",
            " [20 25]\n",
            " [30 35]\n",
            " [40 45]\n",
            " [50 55]\n",
            " [60 65]] [125]\n",
            "[[10 15]\n",
            " [20 25]\n",
            " [30 35]\n",
            " [40 45]\n",
            " [50 55]\n",
            " [60 65]\n",
            " [70 75]] [145]\n",
            "[[20 25]\n",
            " [30 35]\n",
            " [40 45]\n",
            " [50 55]\n",
            " [60 65]\n",
            " [70 75]\n",
            " [80 85]] [165]\n",
            "[[30 35]\n",
            " [40 45]\n",
            " [50 55]\n",
            " [60 65]\n",
            " [70 75]\n",
            " [80 85]\n",
            " [90 95]] [185]\n"
          ],
          "name": "stdout"
        }
      ]
    },
    {
      "cell_type": "markdown",
      "metadata": {
        "id": "V7if2v_OjKMR",
        "colab_type": "text"
      },
      "source": [
        "* **Multiple parallel with one or multi-step output time series** "
      ]
    },
    {
      "cell_type": "code",
      "metadata": {
        "id": "1ZlTzvKujc4I",
        "colab_type": "code",
        "colab": {}
      },
      "source": [
        "def multivariate_parallel_split(sequences, timesteps, horizon):\n",
        "  X, y = list(), list()\n",
        "  for i in range(len(sequences)):\n",
        "    # find the end of this pattern\n",
        "    end_ix = i + timesteps\n",
        "    out_end_ix = end_ix + horizon\n",
        "\t\t# check if we are beyond the dataset\n",
        "    if out_end_ix > len(sequences)-1:\n",
        "      break\n",
        "\t\t# gather input and output parts of the pattern\n",
        "    seq_x, seq_y = sequences[i:end_ix, :], sequences[end_ix:out_end_ix, :]\n",
        "    X.append(seq_x)\n",
        "    y.append(seq_y)\n",
        "  return np.array(X), np.array(y)"
      ],
      "execution_count": 0,
      "outputs": []
    },
    {
      "cell_type": "markdown",
      "metadata": {
        "id": "qQfDn6eGo_fr",
        "colab_type": "text"
      },
      "source": [
        "Test function"
      ]
    },
    {
      "cell_type": "code",
      "metadata": {
        "id": "bLkBcEcLn3Tz",
        "colab_type": "code",
        "colab": {
          "base_uri": "https://localhost:8080/",
          "height": 357
        },
        "outputId": "3d94e824-a12e-42a8-aee0-a8567e1ad58b"
      },
      "source": [
        "in_seq1 = np.arange(0, 100, 10)\n",
        "in_seq2 = np.arange(5, 100, 10)\n",
        "out_seq = np.array([in_seq1[i]+in_seq2[i] for i in range(len(in_seq1))])\n",
        "# convert to [rows, columns] structure\n",
        "in_seq1 = in_seq1.reshape((len(in_seq1), 1))\n",
        "in_seq2 = in_seq2.reshape((len(in_seq2), 1))\n",
        "out_seq = out_seq.reshape((len(out_seq), 1))\n",
        "# horizontally stack columns\n",
        "dataset = np.hstack((in_seq1, in_seq2, out_seq))\n",
        "\n",
        "#print(dataset)\n",
        "\n",
        "# set a number of time steps\n",
        "n_steps = 3\n",
        "n_out = 2\n",
        "\n",
        "X, y = multivariate_parallel_split(dataset, n_steps, n_out)\n",
        "\n",
        "for i in range(len(X)):\n",
        "\tprint(X[i], y[i])"
      ],
      "execution_count": 59,
      "outputs": [
        {
          "output_type": "stream",
          "text": [
            "[[ 0  5  5]\n",
            " [10 15 25]\n",
            " [20 25 45]] [[30 35 65]\n",
            " [40 45 85]]\n",
            "[[10 15 25]\n",
            " [20 25 45]\n",
            " [30 35 65]] [[ 40  45  85]\n",
            " [ 50  55 105]]\n",
            "[[20 25 45]\n",
            " [30 35 65]\n",
            " [40 45 85]] [[ 50  55 105]\n",
            " [ 60  65 125]]\n",
            "[[ 30  35  65]\n",
            " [ 40  45  85]\n",
            " [ 50  55 105]] [[ 60  65 125]\n",
            " [ 70  75 145]]\n",
            "[[ 40  45  85]\n",
            " [ 50  55 105]\n",
            " [ 60  65 125]] [[ 70  75 145]\n",
            " [ 80  85 165]]\n"
          ],
          "name": "stdout"
        }
      ]
    }
  ]
}
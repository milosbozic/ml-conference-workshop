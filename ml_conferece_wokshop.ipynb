{
  "nbformat": 4,
  "nbformat_minor": 0,
  "metadata": {
    "colab": {
      "name": "ml-conferece_wokshop.ipynb",
      "version": "0.3.2",
      "provenance": [],
      "collapsed_sections": [],
      "include_colab_link": true
    },
    "kernelspec": {
      "name": "python3",
      "display_name": "Python 3"
    },
    "accelerator": "GPU"
  },
  "cells": [
    {
      "cell_type": "markdown",
      "metadata": {
        "id": "view-in-github",
        "colab_type": "text"
      },
      "source": [
        "<a href=\"https://colab.research.google.com/github/milosbozic/ml-conference-workshop/blob/master/ml_conferece_wokshop.ipynb\" target=\"_parent\"><img src=\"https://colab.research.google.com/assets/colab-badge.svg\" alt=\"Open In Colab\"/></a>"
      ]
    },
    {
      "cell_type": "markdown",
      "metadata": {
        "id": "eOT_L1hYbs36",
        "colab_type": "text"
      },
      "source": [
        "# SETUP\n",
        "\n",
        "To activate GPU device, go to **Runtime** -> **Change runtime type**  and in popup window under **Hardware accelerator** drop menu select GPU device and save.  \n",
        "To check is GPU device avaible, run code below."
      ]
    },
    {
      "cell_type": "code",
      "metadata": {
        "id": "M2DCibYHa1FN",
        "colab_type": "code",
        "outputId": "d906e6a0-250e-4407-a7d8-bb059fb0b8a2",
        "colab": {
          "base_uri": "https://localhost:8080/",
          "height": 34
        }
      },
      "source": [
        "import tensorflow as tf\n",
        "tf.test.gpu_device_name()"
      ],
      "execution_count": 142,
      "outputs": [
        {
          "output_type": "execute_result",
          "data": {
            "text/plain": [
              "'/device:GPU:0'"
            ]
          },
          "metadata": {
            "tags": []
          },
          "execution_count": 142
        }
      ]
    },
    {
      "cell_type": "markdown",
      "metadata": {
        "id": "rJN15zRYh1ve",
        "colab_type": "text"
      },
      "source": [
        "Check what they gave us for free :)"
      ]
    },
    {
      "cell_type": "code",
      "metadata": {
        "id": "cYCKZ9mUh3Lh",
        "colab_type": "code",
        "outputId": "9275138f-aa0a-43fc-8cf0-23ed1e774b6e",
        "colab": {
          "base_uri": "https://localhost:8080/",
          "height": 289
        }
      },
      "source": [
        "! nvidia-smi"
      ],
      "execution_count": 143,
      "outputs": [
        {
          "output_type": "stream",
          "text": [
            "Thu May 16 13:56:57 2019       \n",
            "+-----------------------------------------------------------------------------+\n",
            "| NVIDIA-SMI 418.56       Driver Version: 410.79       CUDA Version: 10.0     |\n",
            "|-------------------------------+----------------------+----------------------+\n",
            "| GPU  Name        Persistence-M| Bus-Id        Disp.A | Volatile Uncorr. ECC |\n",
            "| Fan  Temp  Perf  Pwr:Usage/Cap|         Memory-Usage | GPU-Util  Compute M. |\n",
            "|===============================+======================+======================|\n",
            "|   0  Tesla T4            Off  | 00000000:00:04.0 Off |                    0 |\n",
            "| N/A   60C    P0    29W /  70W |    405MiB / 15079MiB |      0%      Default |\n",
            "+-------------------------------+----------------------+----------------------+\n",
            "                                                                               \n",
            "+-----------------------------------------------------------------------------+\n",
            "| Processes:                                                       GPU Memory |\n",
            "|  GPU       PID   Type   Process name                             Usage      |\n",
            "|=============================================================================|\n",
            "+-----------------------------------------------------------------------------+\n"
          ],
          "name": "stdout"
        }
      ]
    },
    {
      "cell_type": "markdown",
      "metadata": {
        "id": "75t39iP01vOZ",
        "colab_type": "text"
      },
      "source": [
        "# Data "
      ]
    },
    {
      "cell_type": "markdown",
      "metadata": {
        "id": "ZshCr0SgeaK9",
        "colab_type": "text"
      },
      "source": [
        "## Load and clean data\n",
        "\n",
        "Data set which we will use is [Individual household electric power consumption Data Set](https://archive.ics.uci.edu/ml/datasets/individual+household+electric+power+consumption) .  \n",
        "We have to get data and we can download our dataset and unzip it using a couple of bash commands:"
      ]
    },
    {
      "cell_type": "code",
      "metadata": {
        "id": "2cqOJ8Qsblxk",
        "colab_type": "code",
        "outputId": "6700b928-bd97-4d95-ec54-77199e5e7c47",
        "colab": {
          "base_uri": "https://localhost:8080/",
          "height": 34
        }
      },
      "source": [
        "! mkdir data && wget https://archive.ics.uci.edu/ml/machine-learning-databases/00235/household_power_consumption.zip && unzip household_power_consumption.zip -d data/"
      ],
      "execution_count": 144,
      "outputs": [
        {
          "output_type": "stream",
          "text": [
            "mkdir: cannot create directory ‘data’: File exists\n"
          ],
          "name": "stdout"
        }
      ]
    },
    {
      "cell_type": "markdown",
      "metadata": {
        "id": "L1ig3HnXgUSm",
        "colab_type": "text"
      },
      "source": [
        "Check is file downloaded and unziped. List folder content:"
      ]
    },
    {
      "cell_type": "code",
      "metadata": {
        "id": "Iq4KjSNeer4C",
        "colab_type": "code",
        "outputId": "a67ad5c0-1667-488c-d202-11a5f349f33b",
        "colab": {
          "base_uri": "https://localhost:8080/",
          "height": 204
        }
      },
      "source": [
        "! ls data/\n",
        "! head data/household_power_consumption.txt"
      ],
      "execution_count": 145,
      "outputs": [
        {
          "output_type": "stream",
          "text": [
            "household_power_consumption.txt\n",
            "Date;Time;Global_active_power;Global_reactive_power;Voltage;Global_intensity;Sub_metering_1;Sub_metering_2;Sub_metering_3\n",
            "16/12/2006;17:24:00;4.216;0.418;234.840;18.400;0.000;1.000;17.000\n",
            "16/12/2006;17:25:00;5.360;0.436;233.630;23.000;0.000;1.000;16.000\n",
            "16/12/2006;17:26:00;5.374;0.498;233.290;23.000;0.000;2.000;17.000\n",
            "16/12/2006;17:27:00;5.388;0.502;233.740;23.000;0.000;1.000;17.000\n",
            "16/12/2006;17:28:00;3.666;0.528;235.680;15.800;0.000;1.000;17.000\n",
            "16/12/2006;17:29:00;3.520;0.522;235.020;15.000;0.000;2.000;17.000\n",
            "16/12/2006;17:30:00;3.702;0.520;235.090;15.800;0.000;1.000;17.000\n",
            "16/12/2006;17:31:00;3.700;0.520;235.220;15.800;0.000;1.000;17.000\n",
            "16/12/2006;17:32:00;3.668;0.510;233.990;15.800;0.000;1.000;17.000\n"
          ],
          "name": "stdout"
        }
      ]
    },
    {
      "cell_type": "markdown",
      "metadata": {
        "id": "l10ZVgyQghda",
        "colab_type": "text"
      },
      "source": [
        "When we have out data set local we can import it using pandas. "
      ]
    },
    {
      "cell_type": "code",
      "metadata": {
        "id": "pJysWck_jxHT",
        "colab_type": "code",
        "outputId": "5473bdbf-25c1-403d-d0b2-7472d987cd42",
        "colab": {
          "base_uri": "https://localhost:8080/",
          "height": 51
        }
      },
      "source": [
        "import pandas as pd\n",
        "\n",
        "data = pd.read_csv('data/household_power_consumption.txt', sep=';', header=0, low_memory=False, infer_datetime_format=True, parse_dates={'datetime':[0,1]}, index_col=['datetime'])\n",
        "#print(data.head())\n",
        "heder = list(data)\n",
        "print(heder)\n",
        "print(data.shape)\n"
      ],
      "execution_count": 146,
      "outputs": [
        {
          "output_type": "stream",
          "text": [
            "['Global_active_power', 'Global_reactive_power', 'Voltage', 'Global_intensity', 'Sub_metering_1', 'Sub_metering_2', 'Sub_metering_3']\n",
            "(2075259, 7)\n"
          ],
          "name": "stdout"
        }
      ]
    },
    {
      "cell_type": "markdown",
      "metadata": {
        "id": "BN0Mf10Pw0xf",
        "colab_type": "text"
      },
      "source": [
        "Now let's check is there any non numeric or missing values  and how many."
      ]
    },
    {
      "cell_type": "code",
      "metadata": {
        "id": "6w5yf3ERxG87",
        "colab_type": "code",
        "outputId": "c43f9f64-65b1-4acb-d829-32aca61e80b4",
        "colab": {
          "base_uri": "https://localhost:8080/",
          "height": 153
        }
      },
      "source": [
        "print(data.isnull().sum())"
      ],
      "execution_count": 147,
      "outputs": [
        {
          "output_type": "stream",
          "text": [
            "Global_active_power          0\n",
            "Global_reactive_power        0\n",
            "Voltage                      0\n",
            "Global_intensity             0\n",
            "Sub_metering_1               0\n",
            "Sub_metering_2               0\n",
            "Sub_metering_3           25979\n",
            "dtype: int64\n"
          ],
          "name": "stdout"
        }
      ]
    },
    {
      "cell_type": "markdown",
      "metadata": {
        "id": "m93tiqf_0J1y",
        "colab_type": "text"
      },
      "source": [
        "On this way we can only check are Nan values in data frame, but because we didn't set NaN values string array in read_csv method, initialy we can only catch default NaN strings like \"nan\", \"Nan\", but not others strings like \"?\" or \"-\""
      ]
    },
    {
      "cell_type": "code",
      "metadata": {
        "id": "AjYEmT-o0Iwy",
        "colab_type": "code",
        "outputId": "cf47f570-b7a1-44de-daba-2aad35bd751d",
        "colab": {
          "base_uri": "https://localhost:8080/",
          "height": 153
        }
      },
      "source": [
        "#data.apply(pd.to_numeric)\n",
        "missing_values = [\"?\"]\n",
        "data = pd.read_csv('data/household_power_consumption.txt', sep=';', header=0, low_memory=False, infer_datetime_format=True, parse_dates={'datetime':[0,1]}, index_col=['datetime'], na_values = missing_values)\n",
        "data = data.astype('float32')\n",
        "print(data.isnull().sum())"
      ],
      "execution_count": 148,
      "outputs": [
        {
          "output_type": "stream",
          "text": [
            "Global_active_power      25979\n",
            "Global_reactive_power    25979\n",
            "Voltage                  25979\n",
            "Global_intensity         25979\n",
            "Sub_metering_1           25979\n",
            "Sub_metering_2           25979\n",
            "Sub_metering_3           25979\n",
            "dtype: int64\n"
          ],
          "name": "stdout"
        }
      ]
    },
    {
      "cell_type": "markdown",
      "metadata": {
        "id": "rCHEPWCnA9DU",
        "colab_type": "text"
      },
      "source": [
        "When we find all missing values and mark them as NaN, let's fill them somehow."
      ]
    },
    {
      "cell_type": "code",
      "metadata": {
        "id": "pE47lroO9t4P",
        "colab_type": "code",
        "outputId": "7ed0d0a3-d0c5-4552-8a83-86effaede76e",
        "colab": {
          "base_uri": "https://localhost:8080/",
          "height": 153
        }
      },
      "source": [
        "import numpy as np\n",
        "\n",
        "def fill_NaN(values, hist):\n",
        "  one_day = 60 * 24\n",
        "  for row in range(values.shape[0]):\n",
        "    for col in range(values.shape[1]):\n",
        "      if np.isnan(values[row, col]):\n",
        "        hist_values = []\n",
        "        for k in range(1, hist+1):\n",
        "          hist_values.append(values[row - one_day*k, col])\n",
        "        values[row, col] = np.array(hist_values).mean()\n",
        " \n",
        "# fill missing\n",
        "fill_NaN(data.values, 2)\n",
        "\n",
        "# Check again is there missing values\n",
        "print(data.isnull().sum())"
      ],
      "execution_count": 149,
      "outputs": [
        {
          "output_type": "stream",
          "text": [
            "Global_active_power      0\n",
            "Global_reactive_power    0\n",
            "Voltage                  0\n",
            "Global_intensity         0\n",
            "Sub_metering_1           0\n",
            "Sub_metering_2           0\n",
            "Sub_metering_3           0\n",
            "dtype: int64\n"
          ],
          "name": "stdout"
        }
      ]
    },
    {
      "cell_type": "markdown",
      "metadata": {
        "id": "cquz9O6MECDN",
        "colab_type": "text"
      },
      "source": [
        "## Prepare data for modeling"
      ]
    },
    {
      "cell_type": "code",
      "metadata": {
        "id": "ji3zEs4orfhN",
        "colab_type": "code",
        "outputId": "fb330dae-8b1d-4f4b-9dce-57550c8e69f6",
        "colab": {
          "base_uri": "https://localhost:8080/",
          "height": 235
        }
      },
      "source": [
        "data.head()"
      ],
      "execution_count": 150,
      "outputs": [
        {
          "output_type": "execute_result",
          "data": {
            "text/html": [
              "<div>\n",
              "<style scoped>\n",
              "    .dataframe tbody tr th:only-of-type {\n",
              "        vertical-align: middle;\n",
              "    }\n",
              "\n",
              "    .dataframe tbody tr th {\n",
              "        vertical-align: top;\n",
              "    }\n",
              "\n",
              "    .dataframe thead th {\n",
              "        text-align: right;\n",
              "    }\n",
              "</style>\n",
              "<table border=\"1\" class=\"dataframe\">\n",
              "  <thead>\n",
              "    <tr style=\"text-align: right;\">\n",
              "      <th></th>\n",
              "      <th>Global_active_power</th>\n",
              "      <th>Global_reactive_power</th>\n",
              "      <th>Voltage</th>\n",
              "      <th>Global_intensity</th>\n",
              "      <th>Sub_metering_1</th>\n",
              "      <th>Sub_metering_2</th>\n",
              "      <th>Sub_metering_3</th>\n",
              "    </tr>\n",
              "    <tr>\n",
              "      <th>datetime</th>\n",
              "      <th></th>\n",
              "      <th></th>\n",
              "      <th></th>\n",
              "      <th></th>\n",
              "      <th></th>\n",
              "      <th></th>\n",
              "      <th></th>\n",
              "    </tr>\n",
              "  </thead>\n",
              "  <tbody>\n",
              "    <tr>\n",
              "      <th>2006-12-16 17:24:00</th>\n",
              "      <td>4.216</td>\n",
              "      <td>0.418</td>\n",
              "      <td>234.839996</td>\n",
              "      <td>18.4</td>\n",
              "      <td>0.0</td>\n",
              "      <td>1.0</td>\n",
              "      <td>17.0</td>\n",
              "    </tr>\n",
              "    <tr>\n",
              "      <th>2006-12-16 17:25:00</th>\n",
              "      <td>5.360</td>\n",
              "      <td>0.436</td>\n",
              "      <td>233.630005</td>\n",
              "      <td>23.0</td>\n",
              "      <td>0.0</td>\n",
              "      <td>1.0</td>\n",
              "      <td>16.0</td>\n",
              "    </tr>\n",
              "    <tr>\n",
              "      <th>2006-12-16 17:26:00</th>\n",
              "      <td>5.374</td>\n",
              "      <td>0.498</td>\n",
              "      <td>233.289993</td>\n",
              "      <td>23.0</td>\n",
              "      <td>0.0</td>\n",
              "      <td>2.0</td>\n",
              "      <td>17.0</td>\n",
              "    </tr>\n",
              "    <tr>\n",
              "      <th>2006-12-16 17:27:00</th>\n",
              "      <td>5.388</td>\n",
              "      <td>0.502</td>\n",
              "      <td>233.740005</td>\n",
              "      <td>23.0</td>\n",
              "      <td>0.0</td>\n",
              "      <td>1.0</td>\n",
              "      <td>17.0</td>\n",
              "    </tr>\n",
              "    <tr>\n",
              "      <th>2006-12-16 17:28:00</th>\n",
              "      <td>3.666</td>\n",
              "      <td>0.528</td>\n",
              "      <td>235.679993</td>\n",
              "      <td>15.8</td>\n",
              "      <td>0.0</td>\n",
              "      <td>1.0</td>\n",
              "      <td>17.0</td>\n",
              "    </tr>\n",
              "  </tbody>\n",
              "</table>\n",
              "</div>"
            ],
            "text/plain": [
              "                     Global_active_power  ...  Sub_metering_3\n",
              "datetime                                  ...                \n",
              "2006-12-16 17:24:00                4.216  ...            17.0\n",
              "2006-12-16 17:25:00                5.360  ...            16.0\n",
              "2006-12-16 17:26:00                5.374  ...            17.0\n",
              "2006-12-16 17:27:00                5.388  ...            17.0\n",
              "2006-12-16 17:28:00                3.666  ...            17.0\n",
              "\n",
              "[5 rows x 7 columns]"
            ]
          },
          "metadata": {
            "tags": []
          },
          "execution_count": 150
        }
      ]
    },
    {
      "cell_type": "markdown",
      "metadata": {
        "id": "1WCBZJa1rshR",
        "colab_type": "text"
      },
      "source": [
        "Our data is power consumption measured per minute frequency, but we are more interested in hourly or daily values. Because of that we have to resample data to get daily values and we can use pandas [***resample()***](https://pandas.pydata.org/pandas-docs/stable/reference/api/pandas.DataFrame.resample.html) function with appropriate argument to do it."
      ]
    },
    {
      "cell_type": "code",
      "metadata": {
        "id": "Kk4XiS2Krrcu",
        "colab_type": "code",
        "outputId": "95a181f1-cc48-41bb-8e93-aa14c4fc70c6",
        "colab": {
          "base_uri": "https://localhost:8080/",
          "height": 235
        }
      },
      "source": [
        "data_daily = data.resample('D').mean()\n",
        "#data_daily.apply(pd.to_numeric)\n",
        "data_daily.head()"
      ],
      "execution_count": 151,
      "outputs": [
        {
          "output_type": "execute_result",
          "data": {
            "text/html": [
              "<div>\n",
              "<style scoped>\n",
              "    .dataframe tbody tr th:only-of-type {\n",
              "        vertical-align: middle;\n",
              "    }\n",
              "\n",
              "    .dataframe tbody tr th {\n",
              "        vertical-align: top;\n",
              "    }\n",
              "\n",
              "    .dataframe thead th {\n",
              "        text-align: right;\n",
              "    }\n",
              "</style>\n",
              "<table border=\"1\" class=\"dataframe\">\n",
              "  <thead>\n",
              "    <tr style=\"text-align: right;\">\n",
              "      <th></th>\n",
              "      <th>Global_active_power</th>\n",
              "      <th>Global_reactive_power</th>\n",
              "      <th>Voltage</th>\n",
              "      <th>Global_intensity</th>\n",
              "      <th>Sub_metering_1</th>\n",
              "      <th>Sub_metering_2</th>\n",
              "      <th>Sub_metering_3</th>\n",
              "    </tr>\n",
              "    <tr>\n",
              "      <th>datetime</th>\n",
              "      <th></th>\n",
              "      <th></th>\n",
              "      <th></th>\n",
              "      <th></th>\n",
              "      <th></th>\n",
              "      <th></th>\n",
              "      <th></th>\n",
              "    </tr>\n",
              "  </thead>\n",
              "  <tbody>\n",
              "    <tr>\n",
              "      <th>2006-12-16</th>\n",
              "      <td>3.053475</td>\n",
              "      <td>0.088187</td>\n",
              "      <td>236.243759</td>\n",
              "      <td>13.082829</td>\n",
              "      <td>0.000000</td>\n",
              "      <td>1.378788</td>\n",
              "      <td>12.439394</td>\n",
              "    </tr>\n",
              "    <tr>\n",
              "      <th>2006-12-17</th>\n",
              "      <td>2.354486</td>\n",
              "      <td>0.156949</td>\n",
              "      <td>240.087021</td>\n",
              "      <td>9.999028</td>\n",
              "      <td>1.411806</td>\n",
              "      <td>2.907639</td>\n",
              "      <td>9.264584</td>\n",
              "    </tr>\n",
              "    <tr>\n",
              "      <th>2006-12-18</th>\n",
              "      <td>1.530435</td>\n",
              "      <td>0.112356</td>\n",
              "      <td>241.231689</td>\n",
              "      <td>6.421667</td>\n",
              "      <td>0.738194</td>\n",
              "      <td>1.820139</td>\n",
              "      <td>9.734722</td>\n",
              "    </tr>\n",
              "    <tr>\n",
              "      <th>2006-12-19</th>\n",
              "      <td>1.157079</td>\n",
              "      <td>0.104821</td>\n",
              "      <td>241.999313</td>\n",
              "      <td>4.926389</td>\n",
              "      <td>0.582639</td>\n",
              "      <td>5.279167</td>\n",
              "      <td>4.303472</td>\n",
              "    </tr>\n",
              "    <tr>\n",
              "      <th>2006-12-20</th>\n",
              "      <td>1.545658</td>\n",
              "      <td>0.111804</td>\n",
              "      <td>242.308060</td>\n",
              "      <td>6.467361</td>\n",
              "      <td>0.000000</td>\n",
              "      <td>1.838889</td>\n",
              "      <td>9.765972</td>\n",
              "    </tr>\n",
              "  </tbody>\n",
              "</table>\n",
              "</div>"
            ],
            "text/plain": [
              "            Global_active_power  ...  Sub_metering_3\n",
              "datetime                         ...                \n",
              "2006-12-16             3.053475  ...       12.439394\n",
              "2006-12-17             2.354486  ...        9.264584\n",
              "2006-12-18             1.530435  ...        9.734722\n",
              "2006-12-19             1.157079  ...        4.303472\n",
              "2006-12-20             1.545658  ...        9.765972\n",
              "\n",
              "[5 rows x 7 columns]"
            ]
          },
          "metadata": {
            "tags": []
          },
          "execution_count": 151
        }
      ]
    },
    {
      "cell_type": "markdown",
      "metadata": {
        "id": "8GbMyWFmw9q_",
        "colab_type": "text"
      },
      "source": [
        "Let's plot original data and our resampled data."
      ]
    },
    {
      "cell_type": "code",
      "metadata": {
        "id": "iB6aEfxFyNLD",
        "colab_type": "code",
        "outputId": "644c6620-dc7e-45d3-90e9-8c737cc14e20",
        "colab": {
          "base_uri": "https://localhost:8080/",
          "height": 444
        }
      },
      "source": [
        "import matplotlib.pyplot as plt\n",
        "\n",
        "fig, axes = plt.subplots(nrows=1, ncols=2, figsize=(22,6))\n",
        "data['Global_active_power'].tail(14*60*24).plot(ax=axes[0], subplots=True, x='time', y='active_power', legend=False)\n",
        "axes[0].set_title('Original data')\n",
        "data_daily['Global_active_power'].tail(14).plot(ax=axes[1], subplots=True, x='time', y='active_power', legend=False)\n",
        "axes[1].set_title('Daily resampled data')"
      ],
      "execution_count": 152,
      "outputs": [
        {
          "output_type": "execute_result",
          "data": {
            "text/plain": [
              "Text(0.5, 1.0, 'Daily resampled data')"
            ]
          },
          "metadata": {
            "tags": []
          },
          "execution_count": 152
        },
        {
          "output_type": "display_data",
          "data": {
            "image/png": "[encoded data removed]",
            "text/plain": [
              "<Figure size 1584x432 with 2 Axes>"
            ]
          },
          "metadata": {
            "tags": []
          }
        }
      ]
    },
    {
      "cell_type": "markdown",
      "metadata": {
        "id": "q20QKCqv2qdU",
        "colab_type": "text"
      },
      "source": [
        "Split resampled data to train and test subsets."
      ]
    },
    {
      "cell_type": "code",
      "metadata": {
        "id": "0K-hC3NC80Sj",
        "colab_type": "code",
        "outputId": "9df7bc70-6a5b-4408-a1d5-db4e8071b9a8",
        "colab": {
          "base_uri": "https://localhost:8080/",
          "height": 235
        }
      },
      "source": [
        "data_daily.tail()\n"
      ],
      "execution_count": 153,
      "outputs": [
        {
          "output_type": "execute_result",
          "data": {
            "text/html": [
              "<div>\n",
              "<style scoped>\n",
              "    .dataframe tbody tr th:only-of-type {\n",
              "        vertical-align: middle;\n",
              "    }\n",
              "\n",
              "    .dataframe tbody tr th {\n",
              "        vertical-align: top;\n",
              "    }\n",
              "\n",
              "    .dataframe thead th {\n",
              "        text-align: right;\n",
              "    }\n",
              "</style>\n",
              "<table border=\"1\" class=\"dataframe\">\n",
              "  <thead>\n",
              "    <tr style=\"text-align: right;\">\n",
              "      <th></th>\n",
              "      <th>Global_active_power</th>\n",
              "      <th>Global_reactive_power</th>\n",
              "      <th>Voltage</th>\n",
              "      <th>Global_intensity</th>\n",
              "      <th>Sub_metering_1</th>\n",
              "      <th>Sub_metering_2</th>\n",
              "      <th>Sub_metering_3</th>\n",
              "    </tr>\n",
              "    <tr>\n",
              "      <th>datetime</th>\n",
              "      <th></th>\n",
              "      <th></th>\n",
              "      <th></th>\n",
              "      <th></th>\n",
              "      <th></th>\n",
              "      <th></th>\n",
              "      <th></th>\n",
              "    </tr>\n",
              "  </thead>\n",
              "  <tbody>\n",
              "    <tr>\n",
              "      <th>2010-11-22</th>\n",
              "      <td>1.417733</td>\n",
              "      <td>0.098857</td>\n",
              "      <td>240.197113</td>\n",
              "      <td>6.014167</td>\n",
              "      <td>3.371528</td>\n",
              "      <td>1.465278</td>\n",
              "      <td>7.038889</td>\n",
              "    </tr>\n",
              "    <tr>\n",
              "      <th>2010-11-23</th>\n",
              "      <td>1.095511</td>\n",
              "      <td>0.095451</td>\n",
              "      <td>240.575531</td>\n",
              "      <td>4.674445</td>\n",
              "      <td>1.299306</td>\n",
              "      <td>0.318056</td>\n",
              "      <td>5.285417</td>\n",
              "    </tr>\n",
              "    <tr>\n",
              "      <th>2010-11-24</th>\n",
              "      <td>1.247394</td>\n",
              "      <td>0.091986</td>\n",
              "      <td>240.030960</td>\n",
              "      <td>5.249583</td>\n",
              "      <td>0.761111</td>\n",
              "      <td>1.977778</td>\n",
              "      <td>8.488889</td>\n",
              "    </tr>\n",
              "    <tr>\n",
              "      <th>2010-11-25</th>\n",
              "      <td>0.993864</td>\n",
              "      <td>0.080644</td>\n",
              "      <td>241.536255</td>\n",
              "      <td>4.169445</td>\n",
              "      <td>0.747222</td>\n",
              "      <td>0.295833</td>\n",
              "      <td>3.522222</td>\n",
              "    </tr>\n",
              "    <tr>\n",
              "      <th>2010-11-26</th>\n",
              "      <td>1.178230</td>\n",
              "      <td>0.095666</td>\n",
              "      <td>240.291031</td>\n",
              "      <td>4.956295</td>\n",
              "      <td>0.855107</td>\n",
              "      <td>0.304830</td>\n",
              "      <td>7.908947</td>\n",
              "    </tr>\n",
              "  </tbody>\n",
              "</table>\n",
              "</div>"
            ],
            "text/plain": [
              "            Global_active_power  ...  Sub_metering_3\n",
              "datetime                         ...                \n",
              "2010-11-22             1.417733  ...        7.038889\n",
              "2010-11-23             1.095511  ...        5.285417\n",
              "2010-11-24             1.247394  ...        8.488889\n",
              "2010-11-25             0.993864  ...        3.522222\n",
              "2010-11-26             1.178230  ...        7.908947\n",
              "\n",
              "[5 rows x 7 columns]"
            ]
          },
          "metadata": {
            "tags": []
          },
          "execution_count": 153
        }
      ]
    },
    {
      "cell_type": "code",
      "metadata": {
        "id": "djn4e89E9I_A",
        "colab_type": "code",
        "outputId": "a8f812e4-7b0f-476b-b75c-304a79571d5b",
        "colab": {
          "base_uri": "https://localhost:8080/",
          "height": 204
        }
      },
      "source": [
        "train_start = '2006-12-16'\n",
        "train_end =   '2010-10-31'\n",
        "test_start = '2010-10-25'     #'2010-11-01'\n",
        "test_end = '2010-11-26'\n",
        "\n",
        "train_mask = pd.date_range(train_start, train_end, freq='D')\n",
        "test_mask = pd.date_range(test_start, test_end, freq='D')\n",
        "#print(train_mask)\n",
        "#print(test_mask)\n",
        "\n",
        "train = data_daily.loc[train_mask]\n",
        "test = data_daily.loc[test_mask]\n",
        "\n",
        "train.tail()"
      ],
      "execution_count": 154,
      "outputs": [
        {
          "output_type": "execute_result",
          "data": {
            "text/html": [
              "<div>\n",
              "<style scoped>\n",
              "    .dataframe tbody tr th:only-of-type {\n",
              "        vertical-align: middle;\n",
              "    }\n",
              "\n",
              "    .dataframe tbody tr th {\n",
              "        vertical-align: top;\n",
              "    }\n",
              "\n",
              "    .dataframe thead th {\n",
              "        text-align: right;\n",
              "    }\n",
              "</style>\n",
              "<table border=\"1\" class=\"dataframe\">\n",
              "  <thead>\n",
              "    <tr style=\"text-align: right;\">\n",
              "      <th></th>\n",
              "      <th>Global_active_power</th>\n",
              "      <th>Global_reactive_power</th>\n",
              "      <th>Voltage</th>\n",
              "      <th>Global_intensity</th>\n",
              "      <th>Sub_metering_1</th>\n",
              "      <th>Sub_metering_2</th>\n",
              "      <th>Sub_metering_3</th>\n",
              "    </tr>\n",
              "  </thead>\n",
              "  <tbody>\n",
              "    <tr>\n",
              "      <th>2010-10-27</th>\n",
              "      <td>0.875193</td>\n",
              "      <td>0.106828</td>\n",
              "      <td>246.108704</td>\n",
              "      <td>3.622917</td>\n",
              "      <td>0.000000</td>\n",
              "      <td>1.429167</td>\n",
              "      <td>5.742361</td>\n",
              "    </tr>\n",
              "    <tr>\n",
              "      <th>2010-10-28</th>\n",
              "      <td>1.016199</td>\n",
              "      <td>0.130028</td>\n",
              "      <td>246.253891</td>\n",
              "      <td>4.200139</td>\n",
              "      <td>0.765972</td>\n",
              "      <td>1.824306</td>\n",
              "      <td>6.310417</td>\n",
              "    </tr>\n",
              "    <tr>\n",
              "      <th>2010-10-29</th>\n",
              "      <td>0.836404</td>\n",
              "      <td>0.135917</td>\n",
              "      <td>245.743103</td>\n",
              "      <td>3.511945</td>\n",
              "      <td>0.746528</td>\n",
              "      <td>0.504167</td>\n",
              "      <td>2.715972</td>\n",
              "    </tr>\n",
              "    <tr>\n",
              "      <th>2010-10-30</th>\n",
              "      <td>1.494931</td>\n",
              "      <td>0.135639</td>\n",
              "      <td>243.267365</td>\n",
              "      <td>6.229028</td>\n",
              "      <td>1.634028</td>\n",
              "      <td>0.426389</td>\n",
              "      <td>10.627084</td>\n",
              "    </tr>\n",
              "    <tr>\n",
              "      <th>2010-10-31</th>\n",
              "      <td>1.025299</td>\n",
              "      <td>0.144501</td>\n",
              "      <td>245.495285</td>\n",
              "      <td>4.235139</td>\n",
              "      <td>0.993056</td>\n",
              "      <td>0.470833</td>\n",
              "      <td>3.881250</td>\n",
              "    </tr>\n",
              "  </tbody>\n",
              "</table>\n",
              "</div>"
            ],
            "text/plain": [
              "            Global_active_power  ...  Sub_metering_3\n",
              "2010-10-27             0.875193  ...        5.742361\n",
              "2010-10-28             1.016199  ...        6.310417\n",
              "2010-10-29             0.836404  ...        2.715972\n",
              "2010-10-30             1.494931  ...       10.627084\n",
              "2010-10-31             1.025299  ...        3.881250\n",
              "\n",
              "[5 rows x 7 columns]"
            ]
          },
          "metadata": {
            "tags": []
          },
          "execution_count": 154
        }
      ]
    },
    {
      "cell_type": "code",
      "metadata": {
        "id": "XXipyzXX_Wa-",
        "colab_type": "code",
        "outputId": "214d12f2-0468-40d8-d410-0f6a12362941",
        "colab": {
          "base_uri": "https://localhost:8080/",
          "height": 204
        }
      },
      "source": [
        "test.head()"
      ],
      "execution_count": 155,
      "outputs": [
        {
          "output_type": "execute_result",
          "data": {
            "text/html": [
              "<div>\n",
              "<style scoped>\n",
              "    .dataframe tbody tr th:only-of-type {\n",
              "        vertical-align: middle;\n",
              "    }\n",
              "\n",
              "    .dataframe tbody tr th {\n",
              "        vertical-align: top;\n",
              "    }\n",
              "\n",
              "    .dataframe thead th {\n",
              "        text-align: right;\n",
              "    }\n",
              "</style>\n",
              "<table border=\"1\" class=\"dataframe\">\n",
              "  <thead>\n",
              "    <tr style=\"text-align: right;\">\n",
              "      <th></th>\n",
              "      <th>Global_active_power</th>\n",
              "      <th>Global_reactive_power</th>\n",
              "      <th>Voltage</th>\n",
              "      <th>Global_intensity</th>\n",
              "      <th>Sub_metering_1</th>\n",
              "      <th>Sub_metering_2</th>\n",
              "      <th>Sub_metering_3</th>\n",
              "    </tr>\n",
              "  </thead>\n",
              "  <tbody>\n",
              "    <tr>\n",
              "      <th>2010-10-25</th>\n",
              "      <td>0.807842</td>\n",
              "      <td>0.110644</td>\n",
              "      <td>242.406158</td>\n",
              "      <td>3.392222</td>\n",
              "      <td>0.000000</td>\n",
              "      <td>0.375694</td>\n",
              "      <td>4.686111</td>\n",
              "    </tr>\n",
              "    <tr>\n",
              "      <th>2010-10-26</th>\n",
              "      <td>0.656878</td>\n",
              "      <td>0.120324</td>\n",
              "      <td>244.890961</td>\n",
              "      <td>2.750417</td>\n",
              "      <td>0.000000</td>\n",
              "      <td>1.727778</td>\n",
              "      <td>3.464583</td>\n",
              "    </tr>\n",
              "    <tr>\n",
              "      <th>2010-10-27</th>\n",
              "      <td>0.875193</td>\n",
              "      <td>0.106828</td>\n",
              "      <td>246.108704</td>\n",
              "      <td>3.622917</td>\n",
              "      <td>0.000000</td>\n",
              "      <td>1.429167</td>\n",
              "      <td>5.742361</td>\n",
              "    </tr>\n",
              "    <tr>\n",
              "      <th>2010-10-28</th>\n",
              "      <td>1.016199</td>\n",
              "      <td>0.130028</td>\n",
              "      <td>246.253891</td>\n",
              "      <td>4.200139</td>\n",
              "      <td>0.765972</td>\n",
              "      <td>1.824306</td>\n",
              "      <td>6.310417</td>\n",
              "    </tr>\n",
              "    <tr>\n",
              "      <th>2010-10-29</th>\n",
              "      <td>0.836404</td>\n",
              "      <td>0.135917</td>\n",
              "      <td>245.743103</td>\n",
              "      <td>3.511945</td>\n",
              "      <td>0.746528</td>\n",
              "      <td>0.504167</td>\n",
              "      <td>2.715972</td>\n",
              "    </tr>\n",
              "  </tbody>\n",
              "</table>\n",
              "</div>"
            ],
            "text/plain": [
              "            Global_active_power  ...  Sub_metering_3\n",
              "2010-10-25             0.807842  ...        4.686111\n",
              "2010-10-26             0.656878  ...        3.464583\n",
              "2010-10-27             0.875193  ...        5.742361\n",
              "2010-10-28             1.016199  ...        6.310417\n",
              "2010-10-29             0.836404  ...        2.715972\n",
              "\n",
              "[5 rows x 7 columns]"
            ]
          },
          "metadata": {
            "tags": []
          },
          "execution_count": 155
        }
      ]
    },
    {
      "cell_type": "markdown",
      "metadata": {
        "id": "Pslxqc1sAn_X",
        "colab_type": "text"
      },
      "source": [
        "# Modeling"
      ]
    },
    {
      "cell_type": "markdown",
      "metadata": {
        "id": "CRT2nkScBIks",
        "colab_type": "text"
      },
      "source": [
        "## Sequences sampling\n",
        "\n",
        "An LSTM model expects input data to have the shape:  [samples, timesteps, features]  "
      ]
    },
    {
      "cell_type": "markdown",
      "metadata": {
        "id": "ST8pFW3p0_3Q",
        "colab_type": "text"
      },
      "source": [
        "###Univariate sequences \n",
        "\n",
        "**Univariate with one or multi-steps time series**"
      ]
    },
    {
      "cell_type": "code",
      "metadata": {
        "id": "dHoRG_t2A3Yt",
        "colab_type": "code",
        "colab": {}
      },
      "source": [
        "# univariate sequence to input samples\n",
        "def univariate_split(sequence, timesteps, horizon):\n",
        "  X, y = list(), list()\n",
        "  for i in range(len(sequence)):\n",
        "    # find the end of this pattern\n",
        "    end_ix = i + timesteps\n",
        "    out_end_ix = end_ix + horizon\n",
        "    #check if we are beyond the sequence\n",
        "    if out_end_ix > len(sequence):\n",
        "      break\n",
        "    # gather input and output parts of the pattern\n",
        "    seq_x, seq_y = sequence[i:end_ix], sequence[end_ix:out_end_ix]\n",
        "    X.append(seq_x)\n",
        "    y.append(seq_y)\n",
        "  return np.array(X), np.array(y)"
      ],
      "execution_count": 0,
      "outputs": []
    },
    {
      "cell_type": "markdown",
      "metadata": {
        "id": "Nqk2ym5eXbSi",
        "colab_type": "text"
      },
      "source": [
        "Let's test our function."
      ]
    },
    {
      "cell_type": "code",
      "metadata": {
        "id": "N-wtGvsGUxkb",
        "colab_type": "code",
        "outputId": "fdc6a561-48f2-471d-997d-fba8decf483c",
        "colab": {
          "base_uri": "https://localhost:8080/",
          "height": 255
        }
      },
      "source": [
        "# make simple test sequence\n",
        "in_seq = np.arange(0, 200, 10)\n",
        "#print(raw_seq)\n",
        "\n",
        "# set a number of input time steps\n",
        "n_steps = 7\n",
        "# set a number of prediction steps\n",
        "n_out = 1\n",
        "\n",
        "# split into samples\n",
        "X, y = univariate_split(in_seq, n_steps, n_out)\n",
        "\n",
        "# print\n",
        "for i in range(len(X)):\n",
        "\tprint(X[i], y[i])\n",
        "\n",
        "print(X.shape, y.shape)"
      ],
      "execution_count": 157,
      "outputs": [
        {
          "output_type": "stream",
          "text": [
            "[ 0 10 20 30 40 50 60] [70]\n",
            "[10 20 30 40 50 60 70] [80]\n",
            "[20 30 40 50 60 70 80] [90]\n",
            "[30 40 50 60 70 80 90] [100]\n",
            "[ 40  50  60  70  80  90 100] [110]\n",
            "[ 50  60  70  80  90 100 110] [120]\n",
            "[ 60  70  80  90 100 110 120] [130]\n",
            "[ 70  80  90 100 110 120 130] [140]\n",
            "[ 80  90 100 110 120 130 140] [150]\n",
            "[ 90 100 110 120 130 140 150] [160]\n",
            "[100 110 120 130 140 150 160] [170]\n",
            "[110 120 130 140 150 160 170] [180]\n",
            "[120 130 140 150 160 170 180] [190]\n",
            "(13, 7) (13, 1)\n"
          ],
          "name": "stdout"
        }
      ]
    },
    {
      "cell_type": "markdown",
      "metadata": {
        "id": "WBXqcZTga5me",
        "colab_type": "text"
      },
      "source": [
        "### Multivariate sequences\n",
        "\n",
        "* **Multiple input with one or multi-step output time series**"
      ]
    },
    {
      "cell_type": "code",
      "metadata": {
        "id": "L6d0drkgbUig",
        "colab_type": "code",
        "colab": {}
      },
      "source": [
        "# multivariate sequence into samples\n",
        "def multivariate_split(sequences, timesteps, horizon):\n",
        "  X, y = list(), list()\n",
        "  for i in range(len(sequences)):\n",
        "    # find the end of this pattern\n",
        "    end_ix = i + timesteps\n",
        "    out_end_ix = end_ix + horizon #- 1\n",
        "    # check if we are beyond the dataset\n",
        "    if out_end_ix > len(sequences):\n",
        "      break\n",
        "    # gather input and output parts of the pattern\n",
        "    seq_x, seq_y = sequences[i:end_ix, :-1], sequences[end_ix:out_end_ix, -1]\n",
        "    X.append(seq_x)\n",
        "    y.append(seq_y)\n",
        "  return np.array(X), np.array(y)"
      ],
      "execution_count": 0,
      "outputs": []
    },
    {
      "cell_type": "markdown",
      "metadata": {
        "id": "XFlwCtqJpUFv",
        "colab_type": "text"
      },
      "source": [
        "Test function"
      ]
    },
    {
      "cell_type": "code",
      "metadata": {
        "id": "lXeauVIhcH57",
        "colab_type": "code",
        "outputId": "d179acb0-3998-4246-8614-3e8f4f092788",
        "colab": {
          "base_uri": "https://localhost:8080/",
          "height": 391
        }
      },
      "source": [
        "in_seq1 = np.arange(0, 100, 10)\n",
        "in_seq2 = np.arange(5, 100, 10)\n",
        "out_seq = np.array([in_seq1[i]+in_seq2[i] for i in range(len(in_seq1))])\n",
        "# convert to [rows, columns] structure\n",
        "in_seq1 = in_seq1.reshape((len(in_seq1), 1))\n",
        "in_seq2 = in_seq2.reshape((len(in_seq2), 1))\n",
        "out_seq = out_seq.reshape((len(out_seq), 1))\n",
        "# horizontally stack columns\n",
        "dataset = np.hstack((in_seq1, in_seq2, out_seq))\n",
        "\n",
        "#print(dataset)\n",
        "\n",
        "# set a number of time steps\n",
        "n_steps = 7\n",
        "n_out = 1\n",
        "\n",
        "# split into samples\n",
        "X, y = multivariate_split(dataset, n_steps, n_out)\n",
        "\n",
        "# print\n",
        "for i in range(len(X)):\n",
        "\tprint(X[i], y[i])\n",
        "\n",
        "print(X.shape, y.shape)"
      ],
      "execution_count": 159,
      "outputs": [
        {
          "output_type": "stream",
          "text": [
            "[[ 0  5]\n",
            " [10 15]\n",
            " [20 25]\n",
            " [30 35]\n",
            " [40 45]\n",
            " [50 55]\n",
            " [60 65]] [145]\n",
            "[[10 15]\n",
            " [20 25]\n",
            " [30 35]\n",
            " [40 45]\n",
            " [50 55]\n",
            " [60 65]\n",
            " [70 75]] [165]\n",
            "[[20 25]\n",
            " [30 35]\n",
            " [40 45]\n",
            " [50 55]\n",
            " [60 65]\n",
            " [70 75]\n",
            " [80 85]] [185]\n",
            "(3, 7, 2) (3, 1)\n"
          ],
          "name": "stdout"
        }
      ]
    },
    {
      "cell_type": "markdown",
      "metadata": {
        "id": "V7if2v_OjKMR",
        "colab_type": "text"
      },
      "source": [
        "* **Multiple parallel with one or multi-step output time series** "
      ]
    },
    {
      "cell_type": "code",
      "metadata": {
        "id": "1ZlTzvKujc4I",
        "colab_type": "code",
        "colab": {}
      },
      "source": [
        "def multivariate_parallel_split(sequences, timesteps, horizon):\n",
        "  X, y = list(), list()\n",
        "  for i in range(len(sequences)):\n",
        "    # find the end of this pattern\n",
        "    end_ix = i + timesteps\n",
        "    out_end_ix = end_ix + horizon\n",
        "\t\t# check if we are beyond the dataset\n",
        "    if out_end_ix > len(sequences)-1:\n",
        "      break\n",
        "\t\t# gather input and output parts of the pattern\n",
        "    seq_x, seq_y = sequences[i:end_ix, :], sequences[end_ix:out_end_ix, :]\n",
        "    X.append(seq_x)\n",
        "    y.append(seq_y)\n",
        "  return np.array(X), np.array(y)"
      ],
      "execution_count": 0,
      "outputs": []
    },
    {
      "cell_type": "markdown",
      "metadata": {
        "id": "qQfDn6eGo_fr",
        "colab_type": "text"
      },
      "source": [
        "Test function"
      ]
    },
    {
      "cell_type": "code",
      "metadata": {
        "id": "bLkBcEcLn3Tz",
        "colab_type": "code",
        "outputId": "0b92ab8f-8fd0-4f62-839e-535941d66261",
        "colab": {
          "base_uri": "https://localhost:8080/",
          "height": 357
        }
      },
      "source": [
        "in_seq1 = np.arange(0, 100, 10)\n",
        "in_seq2 = np.arange(5, 100, 10)\n",
        "out_seq = np.array([in_seq1[i]+in_seq2[i] for i in range(len(in_seq1))])\n",
        "# convert to [rows, columns] structure\n",
        "in_seq1 = in_seq1.reshape((len(in_seq1), 1))\n",
        "in_seq2 = in_seq2.reshape((len(in_seq2), 1))\n",
        "out_seq = out_seq.reshape((len(out_seq), 1))\n",
        "# horizontally stack columns\n",
        "dataset = np.hstack((in_seq1, in_seq2, out_seq))\n",
        "\n",
        "#print(dataset)\n",
        "\n",
        "# set a number of time steps\n",
        "n_steps = 3\n",
        "n_out = 2\n",
        "\n",
        "X, y = multivariate_parallel_split(dataset, n_steps, n_out)\n",
        "\n",
        "for i in range(len(X)):\n",
        "\tprint(X[i], y[i])"
      ],
      "execution_count": 161,
      "outputs": [
        {
          "output_type": "stream",
          "text": [
            "[[ 0  5  5]\n",
            " [10 15 25]\n",
            " [20 25 45]] [[30 35 65]\n",
            " [40 45 85]]\n",
            "[[10 15 25]\n",
            " [20 25 45]\n",
            " [30 35 65]] [[ 40  45  85]\n",
            " [ 50  55 105]]\n",
            "[[20 25 45]\n",
            " [30 35 65]\n",
            " [40 45 85]] [[ 50  55 105]\n",
            " [ 60  65 125]]\n",
            "[[ 30  35  65]\n",
            " [ 40  45  85]\n",
            " [ 50  55 105]] [[ 60  65 125]\n",
            " [ 70  75 145]]\n",
            "[[ 40  45  85]\n",
            " [ 50  55 105]\n",
            " [ 60  65 125]] [[ 70  75 145]\n",
            " [ 80  85 165]]\n"
          ],
          "name": "stdout"
        }
      ]
    },
    {
      "cell_type": "markdown",
      "metadata": {
        "id": "Nmc9tgeK0Vz4",
        "colab_type": "text"
      },
      "source": [
        "## Build LSTM models"
      ]
    },
    {
      "cell_type": "markdown",
      "metadata": {
        "id": "evrHS2PU1Wnh",
        "colab_type": "text"
      },
      "source": [
        "### Univariate sequences\n",
        "\n",
        "Make input sequence for model, let's predict active power consumption."
      ]
    },
    {
      "cell_type": "code",
      "metadata": {
        "id": "NunkGxq-1ZkW",
        "colab_type": "code",
        "colab": {}
      },
      "source": [
        "seq = train['Global_active_power'].values\n",
        "\n",
        "timesteps = 7\n",
        "horizon = 1\n",
        "\n",
        "X, y = univariate_split(seq, timesteps, horizon)\n",
        "\n",
        "# reshape from [samples, timesteps] -> [samples, timesteps, features]\n",
        "n_features = 1\n",
        "\n",
        "X = X.reshape((X.shape[0], X.shape[1], n_features))\n"
      ],
      "execution_count": 0,
      "outputs": []
    },
    {
      "cell_type": "markdown",
      "metadata": {
        "id": "0gvLZnL50vj7",
        "colab_type": "text"
      },
      "source": [
        "#### Build  and train the simple (vanilla) LSTM model"
      ]
    },
    {
      "cell_type": "code",
      "metadata": {
        "id": "CpYy6FR8F449",
        "colab_type": "code",
        "outputId": "368aa4db-3857-48a4-a11a-923732e20815",
        "colab": {
          "base_uri": "https://localhost:8080/",
          "height": 221
        }
      },
      "source": [
        "import tensorflow as tf\n",
        "\n",
        "model = tf.keras.Sequential([\n",
        "    tf.keras.layers.LSTM(200, activation='relu', input_shape=(timesteps, n_features)),\n",
        "    #tf.keras.layers.Dense(100, activation='relu'),  # Additional dense layer helps\n",
        "    tf.keras.layers.Dense(1)\n",
        "])\n",
        "\n",
        "model.summary()\n",
        "\n",
        "model.compile(optimizer='adam', loss=tf.keras.losses.MeanSquaredError())\n",
        "\n",
        "model.fit(X, y, epochs=100, verbose=0)"
      ],
      "execution_count": 163,
      "outputs": [
        {
          "output_type": "stream",
          "text": [
            "_________________________________________________________________\n",
            "Layer (type)                 Output Shape              Param #   \n",
            "=================================================================\n",
            "lstm_14 (LSTM)               (None, 200)               161600    \n",
            "_________________________________________________________________\n",
            "dense_10 (Dense)             (None, 1)                 201       \n",
            "=================================================================\n",
            "Total params: 161,801\n",
            "Trainable params: 161,801\n",
            "Non-trainable params: 0\n",
            "_________________________________________________________________\n"
          ],
          "name": "stdout"
        },
        {
          "output_type": "execute_result",
          "data": {
            "text/plain": [
              "<tensorflow.python.keras.callbacks.History at 0x7ff91169c5c0>"
            ]
          },
          "metadata": {
            "tags": []
          },
          "execution_count": 163
        }
      ]
    },
    {
      "cell_type": "markdown",
      "metadata": {
        "id": "9_D_1qsQGNDs",
        "colab_type": "text"
      },
      "source": [
        "Test model"
      ]
    },
    {
      "cell_type": "code",
      "metadata": {
        "id": "4C05AcT3GQ7j",
        "colab_type": "code",
        "outputId": "1ed5726d-f414-40e5-ca5f-ac4c0cbaded5",
        "colab": {
          "base_uri": "https://localhost:8080/",
          "height": 446
        }
      },
      "source": [
        "test_seq = test['Global_active_power'].values\n",
        "# We are doing prediction one step ahead and we can generate test sequence using same function as we used for traing sequence \n",
        "x_test, y_test = univariate_split(test_seq, timesteps, horizon)\n",
        "\n",
        "y_real = y_test\n",
        "print(y_real.shape)\n",
        "\n",
        "x_test = x_test.reshape((x_test.shape[0], timesteps, n_features))\n",
        "yhat = model.predict(x_test, verbose=0)\n",
        "\n",
        "plt.figure(figsize=(12,6))\n",
        "plt.plot(y_real, 'r', marker='o')\n",
        "plt.plot(yhat, 'b', marker='o')\n",
        "plt.ylabel('Active power [kW] ')\n",
        "plt.show()\n",
        "\n",
        "from sklearn.metrics import mean_absolute_error, mean_squared_error\n",
        "\n",
        "# MAPE implementation\n",
        "def MAPE(y_true, y_pred): \n",
        "    return np.mean(np.abs((y_true - y_pred) / y_true)) * 100\n",
        "\n",
        "# Calc errors\n",
        "print('MAE = {}'.format(mean_absolute_error(y_real, yhat)))\n",
        "print('MSE = {}'.format(mean_squared_error(y_real, yhat)))\n",
        "print('MAPE = {}'.format(MAPE(y_real, yhat)))"
      ],
      "execution_count": 164,
      "outputs": [
        {
          "output_type": "stream",
          "text": [
            "(26, 1)\n"
          ],
          "name": "stdout"
        },
        {
          "output_type": "display_data",
          "data": {
            "image/png": "[encoded data removed]",
            "text/plain": [
              "<Figure size 864x432 with 1 Axes>"
            ]
          },
          "metadata": {
            "tags": []
          }
        },
        {
          "output_type": "stream",
          "text": [
            "MAE = 0.18462461233139038\n",
            "MSE = 0.07030914723873138\n",
            "MAPE = 16.7446106672287\n"
          ],
          "name": "stdout"
        }
      ]
    },
    {
      "cell_type": "markdown",
      "metadata": {
        "id": "YVPaU8XUHwde",
        "colab_type": "text"
      },
      "source": [
        "#### Build and train stacked LSTM model"
      ]
    },
    {
      "cell_type": "code",
      "metadata": {
        "id": "_vg_jZ2sH54b",
        "colab_type": "code",
        "outputId": "a0fdef7b-3c60-4952-990a-2f4c9c533207",
        "colab": {
          "base_uri": "https://localhost:8080/",
          "height": 255
        }
      },
      "source": [
        "model_s = tf.keras.Sequential([\n",
        "    tf.keras.layers.LSTM(200, activation='relu', return_sequences=True, input_shape=(timesteps, n_features)),\n",
        "    tf.keras.layers.LSTM(200, activation='relu', input_shape=(timesteps, n_features)),\n",
        "    #tf.keras.layers.Dense(100, activation='relu'), # Additinal danse layer doesn't help\n",
        "    tf.keras.layers.Dense(1)\n",
        "])\n",
        "\n",
        "model_s.summary()\n",
        "\n",
        "model_s.compile(optimizer='adam', loss=tf.keras.losses.MeanSquaredError())\n",
        "\n",
        "model_s.fit(X, y, epochs=100, verbose=0)"
      ],
      "execution_count": 165,
      "outputs": [
        {
          "output_type": "stream",
          "text": [
            "_________________________________________________________________\n",
            "Layer (type)                 Output Shape              Param #   \n",
            "=================================================================\n",
            "lstm_15 (LSTM)               (None, 7, 200)            161600    \n",
            "_________________________________________________________________\n",
            "lstm_16 (LSTM)               (None, 200)               320800    \n",
            "_________________________________________________________________\n",
            "dense_11 (Dense)             (None, 1)                 201       \n",
            "=================================================================\n",
            "Total params: 482,601\n",
            "Trainable params: 482,601\n",
            "Non-trainable params: 0\n",
            "_________________________________________________________________\n"
          ],
          "name": "stdout"
        },
        {
          "output_type": "execute_result",
          "data": {
            "text/plain": [
              "<tensorflow.python.keras.callbacks.History at 0x7ff905602358>"
            ]
          },
          "metadata": {
            "tags": []
          },
          "execution_count": 165
        }
      ]
    },
    {
      "cell_type": "markdown",
      "metadata": {
        "id": "GGqX9vzqIfqw",
        "colab_type": "text"
      },
      "source": [
        "Test stacked LSTM model"
      ]
    },
    {
      "cell_type": "code",
      "metadata": {
        "id": "GcJDfuFrIh8Y",
        "colab_type": "code",
        "outputId": "4b14a2f3-d86d-493d-fd48-0e5785e5ee2b",
        "colab": {
          "base_uri": "https://localhost:8080/",
          "height": 429
        }
      },
      "source": [
        "test_seq = test['Global_active_power'].values\n",
        "\n",
        "x_test, y_test = univariate_split(test_seq, timesteps, horizon)\n",
        "\n",
        "x_test = x_test.reshape((x_test.shape[0], timesteps, n_features))\n",
        "yhat = model_s.predict(x_test, verbose=0)\n",
        "\n",
        "plt.figure(figsize=(12,6))\n",
        "plt.plot(y_real, 'r', marker='o')\n",
        "plt.plot(yhat, 'b', marker='o')\n",
        "plt.ylabel('Active power [kW] ')\n",
        "plt.show()\n",
        "\n",
        "# Calc errors\n",
        "print('MAE = {}'.format(mean_absolute_error(y_real, yhat)))\n",
        "print('MSE = {}'.format(mean_squared_error(y_real, yhat)))\n",
        "print('MAPE = {}'.format(MAPE(y_real, yhat)))"
      ],
      "execution_count": 166,
      "outputs": [
        {
          "output_type": "display_data",
          "data": {
            "image/png": "[encoded data removed]",
            "text/plain": [
              "<Figure size 864x432 with 1 Axes>"
            ]
          },
          "metadata": {
            "tags": []
          }
        },
        {
          "output_type": "stream",
          "text": [
            "MAE = 0.18222250044345856\n",
            "MSE = 0.07126063853502274\n",
            "MAPE = 16.281388700008392\n"
          ],
          "name": "stdout"
        }
      ]
    },
    {
      "cell_type": "markdown",
      "metadata": {
        "id": "2FDHqGPNzPur",
        "colab_type": "text"
      },
      "source": [
        "#### Recursive prediction "
      ]
    },
    {
      "cell_type": "markdown",
      "metadata": {
        "id": "joK6Ns_vzrE9",
        "colab_type": "text"
      },
      "source": [
        "Let's define recursive prediction function,\n",
        "where inputs will be input vector and prediction horizont\n",
        "  \n"
      ]
    },
    {
      "cell_type": "code",
      "metadata": {
        "id": "tgVtZWbf0RYZ",
        "colab_type": "code",
        "colab": {}
      },
      "source": [
        "def recursive_prediction(model, input_x, horizon = 1):\n",
        "  pred = list()\n",
        "  for i in range(horizon):\n",
        "    input_x = input_x.reshape(1,input_x.shape[0], 1)\n",
        "    y_pred = model.predict(input_x, verbose=0)\n",
        "    pred.append(y_pred.flatten())\n",
        "    a = input_x[0][1:].flatten()\n",
        "    b = y_pred.flatten()\n",
        "    input_x = np.concatenate((a, b), axis=0)\n",
        "  \n",
        "  return np.array(pred)\n"
      ],
      "execution_count": 0,
      "outputs": []
    },
    {
      "cell_type": "markdown",
      "metadata": {
        "id": "g-Fv-7CCRx3s",
        "colab_type": "text"
      },
      "source": [
        "Do recusive prediction on all test set, this means with horizon 26 ie. predict for 26 days ahead."
      ]
    },
    {
      "cell_type": "code",
      "metadata": {
        "id": "wMzzwl7eRyhC",
        "colab_type": "code",
        "colab": {
          "base_uri": "https://localhost:8080/",
          "height": 429
        },
        "outputId": "18efabd6-3a1d-48d0-9537-e088ceb6e76f"
      },
      "source": [
        "pred = recursive_prediction(model_s, x_test[0], horizon = 26)\n",
        "\n",
        "# Plot results and calc prediction metrics\n",
        "plt.figure(figsize=(12,6))\n",
        "plt.plot(y_real, 'r', marker='o')\n",
        "plt.plot(pred, 'b', marker='o')\n",
        "plt.ylabel('Active power [kW] ')\n",
        "plt.show()\n",
        "\n",
        "# Calc errors\n",
        "print('MAE = {}'.format(mean_absolute_error(y_real, pred)))\n",
        "print('MSE = {}'.format(mean_squared_error(y_real, pred)))\n",
        "print('MAPE = {}'.format(MAPE(y_real, pred)))"
      ],
      "execution_count": 169,
      "outputs": [
        {
          "output_type": "display_data",
          "data": {
            "image/png": "[encoded data removed]",
            "text/plain": [
              "<Figure size 864x432 with 1 Axes>"
            ]
          },
          "metadata": {
            "tags": []
          }
        },
        {
          "output_type": "stream",
          "text": [
            "MAE = 0.20176856219768524\n",
            "MSE = 0.07023239880800247\n",
            "MAPE = 16.531507670879364\n"
          ],
          "name": "stdout"
        }
      ]
    },
    {
      "cell_type": "markdown",
      "metadata": {
        "id": "hQY2qDZGSwd2",
        "colab_type": "text"
      },
      "source": [
        "Let's try to do recursive prediction but with smaller horizont in few steps to cover all test set, for example 7 which means we will do prediction for 7 day ahead."
      ]
    },
    {
      "cell_type": "code",
      "metadata": {
        "id": "MkPetUWZTevS",
        "colab_type": "code",
        "colab": {
          "base_uri": "https://localhost:8080/",
          "height": 429
        },
        "outputId": "8048a77b-83bd-4afc-a769-7c9c2711d341"
      },
      "source": [
        "horizon = 7\n",
        "results = []\n",
        "\n",
        "for k in range(0, len(x_test), horizon):\n",
        "  x_input = x_test[k]\n",
        "  pred = recursive_prediction(model_s, x_input, horizon)\n",
        "  \n",
        "  results.append(pred.flatten())\n",
        "\n",
        "pred = np.array(results).flatten()[:26]\n",
        "  \n",
        "# Plot results and calc prediction metrics\n",
        "plt.figure(figsize=(12,6))\n",
        "plt.plot(y_real, 'r', marker='o')\n",
        "plt.plot(pred, 'b', marker='o')\n",
        "plt.ylabel('Active power [kW] ')\n",
        "plt.show()\n",
        "\n",
        "# Calc errors\n",
        "print('MAE = {}'.format(mean_absolute_error(y_real, pred)))\n",
        "print('MSE = {}'.format(mean_squared_error(y_real, pred)))\n",
        "print('MAPE = {}'.format(MAPE(y_real, pred)))\n",
        "\n"
      ],
      "execution_count": 174,
      "outputs": [
        {
          "output_type": "display_data",
          "data": {
            "image/png": "[encoded data removed]",
            "text/plain": [
              "<Figure size 864x432 with 1 Axes>"
            ]
          },
          "metadata": {
            "tags": []
          }
        },
        {
          "output_type": "stream",
          "text": [
            "MAE = 0.1975821554660797\n",
            "MSE = 0.07230301946401596\n",
            "MAPE = 19.00612711906433\n"
          ],
          "name": "stdout"
        }
      ]
    },
    {
      "cell_type": "markdown",
      "metadata": {
        "id": "gDukeBIjUJw2",
        "colab_type": "text"
      },
      "source": [
        "### Multivariate sequence\n",
        "\n",
        "Let's predict active power using voltage and current intesity."
      ]
    },
    {
      "cell_type": "code",
      "metadata": {
        "id": "taFxLO_7Z6_k",
        "colab_type": "code",
        "colab": {}
      },
      "source": [
        "in_seq1 = train['Voltage'].values\n",
        "in_seq2 = train['Global_intensity'].values\n",
        "out_seq = train['Global_active_power'].values\n",
        "\n",
        "in_seq1 = in_seq1.reshape((len(in_seq1), 1))\n",
        "in_seq2 = in_seq2.reshape((len(in_seq2), 1))\n",
        "out_seq = out_seq.reshape((len(out_seq), 1))\n",
        "\n",
        "# horizontally stacked sequences\n",
        "dataset = np.hstack((in_seq1, in_seq2, out_seq))\n",
        "#print(dataset)\n",
        "\n",
        "timesteps = 7\n",
        "horizon = 1\n",
        "\n",
        "X, y = multivariate_split(dataset, timesteps, horizon)\n",
        "#print(X[0], y[0])\n",
        "\n",
        "n_features = 2\n"
      ],
      "execution_count": 0,
      "outputs": []
    },
    {
      "cell_type": "markdown",
      "metadata": {
        "id": "gigRA4GReETN",
        "colab_type": "text"
      },
      "source": [
        "Build and train model"
      ]
    },
    {
      "cell_type": "code",
      "metadata": {
        "id": "DrpYNqQmeHAo",
        "colab_type": "code",
        "outputId": "a7102c4e-f5fd-481c-8c1b-51060990b194",
        "colab": {
          "base_uri": "https://localhost:8080/",
          "height": 289
        }
      },
      "source": [
        "model_m = tf.keras.Sequential([\n",
        "    tf.keras.layers.LSTM(200, activation='relu', return_sequences=True, input_shape=(timesteps, n_features)),\n",
        "    tf.keras.layers.LSTM(200, activation='relu', input_shape=(timesteps, n_features)),\n",
        "    tf.keras.layers.Dense(100, activation='relu'), # Additinal danse layer helps\n",
        "    tf.keras.layers.Dense(1)\n",
        "])\n",
        "\n",
        "model_m.summary()\n",
        "\n",
        "model_m.compile(optimizer='adam', loss=tf.keras.losses.MeanSquaredError())\n",
        "\n",
        "model_m.fit(X, y, epochs=100, verbose=0)"
      ],
      "execution_count": 176,
      "outputs": [
        {
          "output_type": "stream",
          "text": [
            "_________________________________________________________________\n",
            "Layer (type)                 Output Shape              Param #   \n",
            "=================================================================\n",
            "lstm_17 (LSTM)               (None, 7, 200)            162400    \n",
            "_________________________________________________________________\n",
            "lstm_18 (LSTM)               (None, 200)               320800    \n",
            "_________________________________________________________________\n",
            "dense_12 (Dense)             (None, 100)               20100     \n",
            "_________________________________________________________________\n",
            "dense_13 (Dense)             (None, 1)                 101       \n",
            "=================================================================\n",
            "Total params: 503,401\n",
            "Trainable params: 503,401\n",
            "Non-trainable params: 0\n",
            "_________________________________________________________________\n"
          ],
          "name": "stdout"
        },
        {
          "output_type": "execute_result",
          "data": {
            "text/plain": [
              "<tensorflow.python.keras.callbacks.History at 0x7ff9054017b8>"
            ]
          },
          "metadata": {
            "tags": []
          },
          "execution_count": 176
        }
      ]
    },
    {
      "cell_type": "markdown",
      "metadata": {
        "id": "5Tlgur4jewI_",
        "colab_type": "text"
      },
      "source": [
        "Test model"
      ]
    },
    {
      "cell_type": "code",
      "metadata": {
        "id": "hSsbCLB5ewYA",
        "colab_type": "code",
        "outputId": "595e238a-1c13-4c6f-ae74-09757c2d2656",
        "colab": {
          "base_uri": "https://localhost:8080/",
          "height": 463
        }
      },
      "source": [
        "in_test_seq1 = test['Voltage'].values\n",
        "in_test_seq2 = test['Global_intensity'].values\n",
        "out_test_seq = test['Global_active_power'].values\n",
        "\n",
        "in_test_seq1 = in_test_seq1.reshape((len(in_test_seq1), 1))\n",
        "in_test_seq2 = in_test_seq2.reshape((len(in_test_seq2), 1))\n",
        "out_test_seq = out_test_seq.reshape((len(out_test_seq), 1))\n",
        "\n",
        "#print(in_test_seq1.shape)\n",
        "#print(out_test_seq.shape)\n",
        "\n",
        "\n",
        "# horizontally stacked sequences\n",
        "dataset_test = np.hstack((in_test_seq1, in_test_seq2, out_test_seq))\n",
        "print(dataset.shape)\n",
        "\n",
        "x_test, y_test = multivariate_split(dataset_test, timesteps, horizon)\n",
        "print(x_test.shape, y_test.shape)\n",
        "\n",
        "yhat = model_m.predict(x_test, verbose=0)\n",
        "\n",
        "plt.figure(figsize=(12, 6))\n",
        "plt.plot(y_real, 'r', marker='o')\n",
        "plt.plot(yhat, 'b', marker='o')\n",
        "plt.ylabel('Active power [kW] ')\n",
        "plt.show()\n",
        "\n",
        "# Calc errors\n",
        "print('MAE = {}'.format(mean_absolute_error(y_real, yhat)))\n",
        "print('MSE = {}'.format(mean_squared_error(y_real, yhat)))\n",
        "print('MAPE = {}'.format(MAPE(y_real, yhat)))"
      ],
      "execution_count": 177,
      "outputs": [
        {
          "output_type": "stream",
          "text": [
            "(1416, 3)\n",
            "(26, 7, 2) (26, 1)\n"
          ],
          "name": "stdout"
        },
        {
          "output_type": "display_data",
          "data": {
            "image/png": "[encoded data removed]",
            "text/plain": [
              "<Figure size 864x432 with 1 Axes>"
            ]
          },
          "metadata": {
            "tags": []
          }
        },
        {
          "output_type": "stream",
          "text": [
            "MAE = 0.30273106694221497\n",
            "MSE = 0.1325039267539978\n",
            "MAPE = 24.267390370368958\n"
          ],
          "name": "stdout"
        }
      ]
    },
    {
      "cell_type": "markdown",
      "metadata": {
        "id": "hdDDMUhFpLok",
        "colab_type": "text"
      },
      "source": [
        "### Multi-step univariate model"
      ]
    },
    {
      "cell_type": "markdown",
      "metadata": {
        "id": "thJIG3LNrqWY",
        "colab_type": "text"
      },
      "source": [
        "Let's make input sequence with for multi-step model"
      ]
    },
    {
      "cell_type": "code",
      "metadata": {
        "id": "Q_LJG4b-pKrF",
        "colab_type": "code",
        "outputId": "bfc82db9-2b94-4d84-e1bf-238360ae0859",
        "colab": {
          "base_uri": "https://localhost:8080/",
          "height": 34
        }
      },
      "source": [
        "%reset_selective -f seq, X, y\n",
        "\n",
        "seq = train['Global_active_power'].values\n",
        "\n",
        "timesteps = 7\n",
        "horizon = 7\n",
        "\n",
        "X, y = univariate_split(seq, timesteps, horizon)\n",
        "\n",
        "# reshape from [samples, timesteps] -> [samples, timesteps, features]\n",
        "n_features = 1\n",
        "\n",
        "X = X.reshape((X.shape[0], X.shape[1], n_features))\n",
        "\n",
        "print(X.shape, y.shape)"
      ],
      "execution_count": 178,
      "outputs": [
        {
          "output_type": "stream",
          "text": [
            "(1403, 7, 1) (1403, 7)\n"
          ],
          "name": "stdout"
        }
      ]
    },
    {
      "cell_type": "markdown",
      "metadata": {
        "id": "FP6dnmHlsJEq",
        "colab_type": "text"
      },
      "source": [
        "Build and train stacked LSTM multi-step model"
      ]
    },
    {
      "cell_type": "code",
      "metadata": {
        "id": "OJS3rWntsPAm",
        "colab_type": "code",
        "outputId": "7ea21741-3a8e-48a4-9183-3d16a41a4b99",
        "colab": {
          "base_uri": "https://localhost:8080/",
          "height": 255
        }
      },
      "source": [
        "model_multi_stacked = tf.keras.Sequential([\n",
        "    tf.keras.layers.LSTM(200, activation='relu', return_sequences=True, input_shape=(timesteps, n_features)),\n",
        "    tf.keras.layers.LSTM(200, activation='relu', input_shape=(timesteps, n_features)),\n",
        "    #tf.keras.layers.Dense(100, activation='relu'), # Additinal danse layer doesn't help\n",
        "    tf.keras.layers.Dense(horizon)\n",
        "])\n",
        "\n",
        "model_multi_stacked.summary()\n",
        "\n",
        "model_multi_stacked.compile(optimizer='adam', loss=tf.keras.losses.MeanSquaredError())\n",
        "\n",
        "model_multi_stacked.fit(X, y, epochs=100, verbose=0)"
      ],
      "execution_count": 179,
      "outputs": [
        {
          "output_type": "stream",
          "text": [
            "_________________________________________________________________\n",
            "Layer (type)                 Output Shape              Param #   \n",
            "=================================================================\n",
            "lstm_19 (LSTM)               (None, 7, 200)            161600    \n",
            "_________________________________________________________________\n",
            "lstm_20 (LSTM)               (None, 200)               320800    \n",
            "_________________________________________________________________\n",
            "dense_14 (Dense)             (None, 7)                 1407      \n",
            "=================================================================\n",
            "Total params: 483,807\n",
            "Trainable params: 483,807\n",
            "Non-trainable params: 0\n",
            "_________________________________________________________________\n"
          ],
          "name": "stdout"
        },
        {
          "output_type": "execute_result",
          "data": {
            "text/plain": [
              "<tensorflow.python.keras.callbacks.History at 0x7ff90231d780>"
            ]
          },
          "metadata": {
            "tags": []
          },
          "execution_count": 179
        }
      ]
    },
    {
      "cell_type": "markdown",
      "metadata": {
        "id": "Fytj3cjasp5B",
        "colab_type": "text"
      },
      "source": [
        "Test model"
      ]
    },
    {
      "cell_type": "code",
      "metadata": {
        "id": "X614gN7hsqKE",
        "colab_type": "code",
        "outputId": "2e1a9f2b-bcfc-4169-d612-624c7cb9bad2",
        "colab": {
          "base_uri": "https://localhost:8080/",
          "height": 68
        }
      },
      "source": [
        "%reset_selective -f pred, x_test, results\n",
        "\n",
        "test_seq = test['Global_active_power'].values\n",
        "print(test_seq.shape)\n",
        "\n",
        "x_test, y_test = univariate_split(test_seq, timesteps, horizon)\n",
        "x_test = x_test.reshape((x_test.shape[0], timesteps, n_features))\n",
        "\n",
        "results = []\n",
        "\n",
        "for k in range(0, len(x_test), horizon):\n",
        "  x_input = x_test[k]\n",
        "  \n",
        "  pred = model_multi_stacked.predict(x_test, verbose=0)\n",
        "  \n",
        "  results.append(pred.flatten())\n",
        "\n",
        "pred = np.array(results).flatten()[:26]\n",
        "\n",
        "\n",
        "print(x_test.shape)\n",
        "print(pred.shape)\n"
      ],
      "execution_count": 192,
      "outputs": [
        {
          "output_type": "stream",
          "text": [
            "(33,)\n",
            "(20, 7, 1)\n",
            "(26,)\n"
          ],
          "name": "stdout"
        }
      ]
    },
    {
      "cell_type": "markdown",
      "metadata": {
        "id": "-M10_rCGHntU",
        "colab_type": "text"
      },
      "source": [
        "Calc metrics and plot results"
      ]
    },
    {
      "cell_type": "code",
      "metadata": {
        "colab_type": "code",
        "id": "aBTUPYbNyN3V",
        "colab": {
          "base_uri": "https://localhost:8080/",
          "height": 429
        },
        "outputId": "9f9dae47-0a91-4ef7-d8dc-4f40ba3bd2b8"
      },
      "source": [
        "plt.figure(figsize=(12, 6))\n",
        "plt.plot(y_real, 'r', marker='o')\n",
        "plt.plot(pred, 'b', marker='o')\n",
        "plt.ylabel('Active power [kW] ')\n",
        "plt.show()\n",
        "\n",
        "# Calc errors\n",
        "print('MAE = {}'.format(mean_absolute_error(y_real, pred)))\n",
        "print('MSE = {}'.format(mean_squared_error(y_real, pred)))\n",
        "print('MAPE = {}'.format(MAPE(y_real, pred)))"
      ],
      "execution_count": 193,
      "outputs": [
        {
          "output_type": "display_data",
          "data": {
            "image/png": "[encoded data removed]",
            "text/plain": [
              "<Figure size 864x432 with 1 Axes>"
            ]
          },
          "metadata": {
            "tags": []
          }
        },
        {
          "output_type": "stream",
          "text": [
            "MAE = 0.21279391646385193\n",
            "MSE = 0.0698125958442688\n",
            "MAPE = 17.77673363685608\n"
          ],
          "name": "stdout"
        }
      ]
    },
    {
      "cell_type": "markdown",
      "metadata": {
        "id": "rAg_QUa4Luay",
        "colab_type": "text"
      },
      "source": [
        "#### Model time-series with feed forward neural net"
      ]
    },
    {
      "cell_type": "code",
      "metadata": {
        "id": "iOkXtMR8y500",
        "colab_type": "code",
        "colab": {}
      },
      "source": [
        "%reset_selective -f X, y, yhat, x_test\n",
        "\n",
        "seq = train['Global_active_power'].values\n",
        "\n",
        "timesteps = 7\n",
        "horizon = 1\n",
        "\n",
        "X, y = univariate_split(seq, timesteps, horizon)\n",
        "\n",
        "n_features = 1"
      ],
      "execution_count": 0,
      "outputs": []
    },
    {
      "cell_type": "markdown",
      "metadata": {
        "id": "QPXeECpzMNhn",
        "colab_type": "text"
      },
      "source": [
        "Build and train NN model"
      ]
    },
    {
      "cell_type": "code",
      "metadata": {
        "id": "rtMgul5oMMwh",
        "colab_type": "code",
        "colab": {
          "base_uri": "https://localhost:8080/",
          "height": 255
        },
        "outputId": "22c92569-5774-4b09-a220-61b38f3192b0"
      },
      "source": [
        "model_nn = tf.keras.Sequential([\n",
        "    tf.keras.layers.Dense(200, activation='relu', input_dim=timesteps),\n",
        "    tf.keras.layers.Dense(200, activation='relu'),\n",
        "    tf.keras.layers.Dense(1)\n",
        "])\n",
        "\n",
        "model_nn.summary()\n",
        "\n",
        "model_nn.compile(optimizer='adam', loss=tf.keras.losses.MeanSquaredError())\n",
        "\n",
        "model_nn.fit(X, y, epochs=100, verbose=0)"
      ],
      "execution_count": 205,
      "outputs": [
        {
          "output_type": "stream",
          "text": [
            "_________________________________________________________________\n",
            "Layer (type)                 Output Shape              Param #   \n",
            "=================================================================\n",
            "dense_30 (Dense)             (None, 200)               1600      \n",
            "_________________________________________________________________\n",
            "dense_31 (Dense)             (None, 200)               40200     \n",
            "_________________________________________________________________\n",
            "dense_32 (Dense)             (None, 1)                 201       \n",
            "=================================================================\n",
            "Total params: 42,001\n",
            "Trainable params: 42,001\n",
            "Non-trainable params: 0\n",
            "_________________________________________________________________\n"
          ],
          "name": "stdout"
        },
        {
          "output_type": "execute_result",
          "data": {
            "text/plain": [
              "<tensorflow.python.keras.callbacks.History at 0x7ff8f8885b70>"
            ]
          },
          "metadata": {
            "tags": []
          },
          "execution_count": 205
        }
      ]
    },
    {
      "cell_type": "markdown",
      "metadata": {
        "id": "SUOBXlrdOIVV",
        "colab_type": "text"
      },
      "source": [
        "Test model, predict one step ahead"
      ]
    },
    {
      "cell_type": "code",
      "metadata": {
        "id": "7OcXQFOsOIe2",
        "colab_type": "code",
        "colab": {
          "base_uri": "https://localhost:8080/",
          "height": 446
        },
        "outputId": "66bab9e9-17f7-48e8-fbb8-8cea925aa943"
      },
      "source": [
        "test_seq = test['Global_active_power'].values\n",
        "print(test_seq.shape)\n",
        "\n",
        "x_test, y_test = univariate_split(test_seq, timesteps, horizon)\n",
        "\n",
        "yhat = model_nn.predict(x_test, verbose=0)\n",
        "\n",
        "\n",
        "plt.figure(figsize=(12, 6))\n",
        "plt.plot(y_real, 'r', marker='o')\n",
        "plt.plot(yhat, 'b', marker='o')\n",
        "plt.ylabel('Active power [kW] ')\n",
        "plt.show()\n",
        "\n",
        "# Calc errors\n",
        "print('MAE = {}'.format(mean_absolute_error(y_real, yhat)))\n",
        "print('MSE = {}'.format(mean_squared_error(y_real, yhat)))\n",
        "print('MAPE = {}'.format(MAPE(y_real, yhat)))"
      ],
      "execution_count": 206,
      "outputs": [
        {
          "output_type": "stream",
          "text": [
            "(33,)\n"
          ],
          "name": "stdout"
        },
        {
          "output_type": "display_data",
          "data": {
            "image/png": "[encoded data removed]",
            "text/plain": [
              "<Figure size 864x432 with 1 Axes>"
            ]
          },
          "metadata": {
            "tags": []
          }
        },
        {
          "output_type": "stream",
          "text": [
            "MAE = 0.19974711537361145\n",
            "MSE = 0.08229047805070877\n",
            "MAPE = 17.354680597782135\n"
          ],
          "name": "stdout"
        }
      ]
    },
    {
      "cell_type": "markdown",
      "metadata": {
        "id": "xkUskuBcSMQ7",
        "colab_type": "text"
      },
      "source": [
        "Let's do recursive prediction for 7 steps ahead."
      ]
    },
    {
      "cell_type": "code",
      "metadata": {
        "id": "9y-XQo3NSSS_",
        "colab_type": "code",
        "colab": {
          "base_uri": "https://localhost:8080/",
          "height": 429
        },
        "outputId": "ce743209-2444-4e86-b39a-efa542a85253"
      },
      "source": [
        "# Recursive prediciton function for classic NN, model has different input shape (1, timesteps)\n",
        "def nn_recursive_prediction(model, input_x, horizon = 1):\n",
        "  pred = list()\n",
        "  for i in range(horizon):\n",
        "    input_x = input_x.reshape(1, input_x.shape[0])\n",
        "    y_pred = model.predict(input_x, verbose=0)\n",
        "    pred.append(y_pred.flatten())\n",
        "    a = input_x[0][1:].flatten()\n",
        "    b = y_pred.flatten()\n",
        "    input_x = np.concatenate((a, b), axis=0)\n",
        "  \n",
        "  return np.array(pred)\n",
        "\n",
        "horizon = 7\n",
        "results = []\n",
        "\n",
        "for k in range(0, len(x_test), horizon):\n",
        "  \n",
        "  x_input = x_test[k]\n",
        "  pred = nn_recursive_prediction(model_nn, x_input, horizon)\n",
        "  \n",
        "  results.append(pred.flatten())\n",
        "\n",
        "pred = np.array(results).flatten()[:26]\n",
        "  \n",
        "# Plot results and calc prediction metrics\n",
        "plt.figure(figsize=(12, 6))\n",
        "plt.plot(y_real, 'r', marker='o')\n",
        "plt.plot(pred, 'b', marker='o')\n",
        "plt.ylabel('Active power [kW] ')\n",
        "plt.show()\n",
        "\n",
        "# Calc errors\n",
        "print('MAE = {}'.format(mean_absolute_error(y_real, pred)))\n",
        "print('MSE = {}'.format(mean_squared_error(y_real, pred)))\n",
        "print('MAPE = {}'.format(MAPE(y_real, pred)))\n",
        "\n"
      ],
      "execution_count": 227,
      "outputs": [
        {
          "output_type": "display_data",
          "data": {
            "image/png": "[encoded data removed]",
            "text/plain": [
              "<Figure size 864x432 with 1 Axes>"
            ]
          },
          "metadata": {
            "tags": []
          }
        },
        {
          "output_type": "stream",
          "text": [
            "MAE = 0.2056269496679306\n",
            "MSE = 0.0778813511133194\n",
            "MAPE = 18.72524917125702\n"
          ],
          "name": "stdout"
        }
      ]
    }
  ]
}